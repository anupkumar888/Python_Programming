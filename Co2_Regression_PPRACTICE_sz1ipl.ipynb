{
  "nbformat": 4,
  "nbformat_minor": 0,
  "metadata": {
    "colab": {
      "provenance": [],
      "include_colab_link": true
    },
    "kernelspec": {
      "name": "python3",
      "display_name": "Python 3"
    },
    "language_info": {
      "name": "python"
    }
  },
  "cells": [
    {
      "cell_type": "markdown",
      "metadata": {
        "id": "view-in-github",
        "colab_type": "text"
      },
      "source": [
        "<a href=\"https://colab.research.google.com/github/anupkumar888/Python_Programming/blob/Python-programming/Co2_Regression_PPRACTICE_sz1ipl.ipynb\" target=\"_parent\"><img src=\"https://colab.research.google.com/assets/colab-badge.svg\" alt=\"Open In Colab\"/></a>"
      ]
    },
    {
      "cell_type": "code",
      "execution_count": 1,
      "metadata": {
        "id": "x6M6eDPUpkAM"
      },
      "outputs": [],
      "source": [
        "import pandas as pd\n",
        "import numpy as np"
      ]
    },
    {
      "cell_type": "code",
      "source": [
        "from google.colab import drive\n",
        "drive.mount('/content/drive')"
      ],
      "metadata": {
        "colab": {
          "base_uri": "https://localhost:8080/"
        },
        "id": "An6TYYTQt35S",
        "outputId": "8b204192-a246-41f3-811b-39fea6fdeb86"
      },
      "execution_count": 2,
      "outputs": [
        {
          "output_type": "stream",
          "name": "stdout",
          "text": [
            "Mounted at /content/drive\n"
          ]
        }
      ]
    },
    {
      "cell_type": "code",
      "source": [
        "df=pd.read_csv(\"/content/drive/MyDrive/PYTHON PROGRAMMING/Colab Notebooks/Machine Learning/Co2_Regression/FuelConsumptionCo2_r8r5q.csv\")\n",
        "print(df.head())"
      ],
      "metadata": {
        "colab": {
          "base_uri": "https://localhost:8080/"
        },
        "id": "jd2XOiELqDHJ",
        "outputId": "3d34a018-e6ae-4c8b-8608-7a743adcb0bb"
      },
      "execution_count": 3,
      "outputs": [
        {
          "output_type": "stream",
          "name": "stdout",
          "text": [
            "   MODELYEAR   MAKE       MODEL VEHICLECLASS  ENGINESIZE  CYLINDERS  \\\n",
            "0       2014  ACURA         ILX      COMPACT         2.0          4   \n",
            "1       2014  ACURA         ILX      COMPACT         2.4          4   \n",
            "2       2014  ACURA  ILX HYBRID      COMPACT         1.5          4   \n",
            "3       2014  ACURA     MDX 4WD  SUV - SMALL         3.5          6   \n",
            "4       2014  ACURA     RDX AWD  SUV - SMALL         3.5          6   \n",
            "\n",
            "  TRANSMISSION FUELTYPE  FUELCONSUMPTION_CITY  FUELCONSUMPTION_HWY  \\\n",
            "0          AS5        Z                   9.9                  6.7   \n",
            "1           M6        Z                  11.2                  7.7   \n",
            "2          AV7        Z                   6.0                  5.8   \n",
            "3          AS6        Z                  12.7                  9.1   \n",
            "4          AS6        Z                  12.1                  8.7   \n",
            "\n",
            "   FUELCONSUMPTION_COMB  FUELCONSUMPTION_COMB_MPG  CO2EMISSIONS  \n",
            "0                   8.5                        33           196  \n",
            "1                   9.6                        29           221  \n",
            "2                   5.9                        48           136  \n",
            "3                  11.1                        25           255  \n",
            "4                  10.6                        27           244  \n"
          ]
        }
      ]
    },
    {
      "cell_type": "code",
      "source": [
        "df.info()"
      ],
      "metadata": {
        "colab": {
          "base_uri": "https://localhost:8080/"
        },
        "id": "uGTf4_PnqKgi",
        "outputId": "09103ea8-3ce8-445b-abde-c0ac62500bef"
      },
      "execution_count": 4,
      "outputs": [
        {
          "output_type": "stream",
          "name": "stdout",
          "text": [
            "<class 'pandas.core.frame.DataFrame'>\n",
            "RangeIndex: 1067 entries, 0 to 1066\n",
            "Data columns (total 13 columns):\n",
            " #   Column                    Non-Null Count  Dtype  \n",
            "---  ------                    --------------  -----  \n",
            " 0   MODELYEAR                 1067 non-null   int64  \n",
            " 1   MAKE                      1067 non-null   object \n",
            " 2   MODEL                     1067 non-null   object \n",
            " 3   VEHICLECLASS              1067 non-null   object \n",
            " 4   ENGINESIZE                1067 non-null   float64\n",
            " 5   CYLINDERS                 1067 non-null   int64  \n",
            " 6   TRANSMISSION              1067 non-null   object \n",
            " 7   FUELTYPE                  1067 non-null   object \n",
            " 8   FUELCONSUMPTION_CITY      1067 non-null   float64\n",
            " 9   FUELCONSUMPTION_HWY       1067 non-null   float64\n",
            " 10  FUELCONSUMPTION_COMB      1067 non-null   float64\n",
            " 11  FUELCONSUMPTION_COMB_MPG  1067 non-null   int64  \n",
            " 12  CO2EMISSIONS              1067 non-null   int64  \n",
            "dtypes: float64(4), int64(4), object(5)\n",
            "memory usage: 108.5+ KB\n"
          ]
        }
      ]
    },
    {
      "cell_type": "code",
      "source": [
        "df.describe()"
      ],
      "metadata": {
        "colab": {
          "base_uri": "https://localhost:8080/",
          "height": 300
        },
        "id": "ueF44v_2qWCO",
        "outputId": "cd4f01b6-4814-4e06-b9a3-957dcc636299"
      },
      "execution_count": 5,
      "outputs": [
        {
          "output_type": "execute_result",
          "data": {
            "text/plain": [
              "       MODELYEAR   ENGINESIZE    CYLINDERS  FUELCONSUMPTION_CITY  \\\n",
              "count     1067.0  1067.000000  1067.000000           1067.000000   \n",
              "mean      2014.0     3.346298     5.794752             13.296532   \n",
              "std          0.0     1.415895     1.797447              4.101253   \n",
              "min       2014.0     1.000000     3.000000              4.600000   \n",
              "25%       2014.0     2.000000     4.000000             10.250000   \n",
              "50%       2014.0     3.400000     6.000000             12.600000   \n",
              "75%       2014.0     4.300000     8.000000             15.550000   \n",
              "max       2014.0     8.400000    12.000000             30.200000   \n",
              "\n",
              "       FUELCONSUMPTION_HWY  FUELCONSUMPTION_COMB  FUELCONSUMPTION_COMB_MPG  \\\n",
              "count          1067.000000           1067.000000               1067.000000   \n",
              "mean              9.474602             11.580881                 26.441425   \n",
              "std               2.794510              3.485595                  7.468702   \n",
              "min               4.900000              4.700000                 11.000000   \n",
              "25%               7.500000              9.000000                 21.000000   \n",
              "50%               8.800000             10.900000                 26.000000   \n",
              "75%              10.850000             13.350000                 31.000000   \n",
              "max              20.500000             25.800000                 60.000000   \n",
              "\n",
              "       CO2EMISSIONS  \n",
              "count   1067.000000  \n",
              "mean     256.228679  \n",
              "std       63.372304  \n",
              "min      108.000000  \n",
              "25%      207.000000  \n",
              "50%      251.000000  \n",
              "75%      294.000000  \n",
              "max      488.000000  "
            ],
            "text/html": [
              "\n",
              "  <div id=\"df-ed87a071-f21b-4b0d-a36b-6340ede2607c\">\n",
              "    <div class=\"colab-df-container\">\n",
              "      <div>\n",
              "<style scoped>\n",
              "    .dataframe tbody tr th:only-of-type {\n",
              "        vertical-align: middle;\n",
              "    }\n",
              "\n",
              "    .dataframe tbody tr th {\n",
              "        vertical-align: top;\n",
              "    }\n",
              "\n",
              "    .dataframe thead th {\n",
              "        text-align: right;\n",
              "    }\n",
              "</style>\n",
              "<table border=\"1\" class=\"dataframe\">\n",
              "  <thead>\n",
              "    <tr style=\"text-align: right;\">\n",
              "      <th></th>\n",
              "      <th>MODELYEAR</th>\n",
              "      <th>ENGINESIZE</th>\n",
              "      <th>CYLINDERS</th>\n",
              "      <th>FUELCONSUMPTION_CITY</th>\n",
              "      <th>FUELCONSUMPTION_HWY</th>\n",
              "      <th>FUELCONSUMPTION_COMB</th>\n",
              "      <th>FUELCONSUMPTION_COMB_MPG</th>\n",
              "      <th>CO2EMISSIONS</th>\n",
              "    </tr>\n",
              "  </thead>\n",
              "  <tbody>\n",
              "    <tr>\n",
              "      <th>count</th>\n",
              "      <td>1067.0</td>\n",
              "      <td>1067.000000</td>\n",
              "      <td>1067.000000</td>\n",
              "      <td>1067.000000</td>\n",
              "      <td>1067.000000</td>\n",
              "      <td>1067.000000</td>\n",
              "      <td>1067.000000</td>\n",
              "      <td>1067.000000</td>\n",
              "    </tr>\n",
              "    <tr>\n",
              "      <th>mean</th>\n",
              "      <td>2014.0</td>\n",
              "      <td>3.346298</td>\n",
              "      <td>5.794752</td>\n",
              "      <td>13.296532</td>\n",
              "      <td>9.474602</td>\n",
              "      <td>11.580881</td>\n",
              "      <td>26.441425</td>\n",
              "      <td>256.228679</td>\n",
              "    </tr>\n",
              "    <tr>\n",
              "      <th>std</th>\n",
              "      <td>0.0</td>\n",
              "      <td>1.415895</td>\n",
              "      <td>1.797447</td>\n",
              "      <td>4.101253</td>\n",
              "      <td>2.794510</td>\n",
              "      <td>3.485595</td>\n",
              "      <td>7.468702</td>\n",
              "      <td>63.372304</td>\n",
              "    </tr>\n",
              "    <tr>\n",
              "      <th>min</th>\n",
              "      <td>2014.0</td>\n",
              "      <td>1.000000</td>\n",
              "      <td>3.000000</td>\n",
              "      <td>4.600000</td>\n",
              "      <td>4.900000</td>\n",
              "      <td>4.700000</td>\n",
              "      <td>11.000000</td>\n",
              "      <td>108.000000</td>\n",
              "    </tr>\n",
              "    <tr>\n",
              "      <th>25%</th>\n",
              "      <td>2014.0</td>\n",
              "      <td>2.000000</td>\n",
              "      <td>4.000000</td>\n",
              "      <td>10.250000</td>\n",
              "      <td>7.500000</td>\n",
              "      <td>9.000000</td>\n",
              "      <td>21.000000</td>\n",
              "      <td>207.000000</td>\n",
              "    </tr>\n",
              "    <tr>\n",
              "      <th>50%</th>\n",
              "      <td>2014.0</td>\n",
              "      <td>3.400000</td>\n",
              "      <td>6.000000</td>\n",
              "      <td>12.600000</td>\n",
              "      <td>8.800000</td>\n",
              "      <td>10.900000</td>\n",
              "      <td>26.000000</td>\n",
              "      <td>251.000000</td>\n",
              "    </tr>\n",
              "    <tr>\n",
              "      <th>75%</th>\n",
              "      <td>2014.0</td>\n",
              "      <td>4.300000</td>\n",
              "      <td>8.000000</td>\n",
              "      <td>15.550000</td>\n",
              "      <td>10.850000</td>\n",
              "      <td>13.350000</td>\n",
              "      <td>31.000000</td>\n",
              "      <td>294.000000</td>\n",
              "    </tr>\n",
              "    <tr>\n",
              "      <th>max</th>\n",
              "      <td>2014.0</td>\n",
              "      <td>8.400000</td>\n",
              "      <td>12.000000</td>\n",
              "      <td>30.200000</td>\n",
              "      <td>20.500000</td>\n",
              "      <td>25.800000</td>\n",
              "      <td>60.000000</td>\n",
              "      <td>488.000000</td>\n",
              "    </tr>\n",
              "  </tbody>\n",
              "</table>\n",
              "</div>\n",
              "      <button class=\"colab-df-convert\" onclick=\"convertToInteractive('df-ed87a071-f21b-4b0d-a36b-6340ede2607c')\"\n",
              "              title=\"Convert this dataframe to an interactive table.\"\n",
              "              style=\"display:none;\">\n",
              "        \n",
              "  <svg xmlns=\"http://www.w3.org/2000/svg\" height=\"24px\"viewBox=\"0 0 24 24\"\n",
              "       width=\"24px\">\n",
              "    <path d=\"M0 0h24v24H0V0z\" fill=\"none\"/>\n",
              "    <path d=\"M18.56 5.44l.94 2.06.94-2.06 2.06-.94-2.06-.94-.94-2.06-.94 2.06-2.06.94zm-11 1L8.5 8.5l.94-2.06 2.06-.94-2.06-.94L8.5 2.5l-.94 2.06-2.06.94zm10 10l.94 2.06.94-2.06 2.06-.94-2.06-.94-.94-2.06-.94 2.06-2.06.94z\"/><path d=\"M17.41 7.96l-1.37-1.37c-.4-.4-.92-.59-1.43-.59-.52 0-1.04.2-1.43.59L10.3 9.45l-7.72 7.72c-.78.78-.78 2.05 0 2.83L4 21.41c.39.39.9.59 1.41.59.51 0 1.02-.2 1.41-.59l7.78-7.78 2.81-2.81c.8-.78.8-2.07 0-2.86zM5.41 20L4 18.59l7.72-7.72 1.47 1.35L5.41 20z\"/>\n",
              "  </svg>\n",
              "      </button>\n",
              "      \n",
              "  <style>\n",
              "    .colab-df-container {\n",
              "      display:flex;\n",
              "      flex-wrap:wrap;\n",
              "      gap: 12px;\n",
              "    }\n",
              "\n",
              "    .colab-df-convert {\n",
              "      background-color: #E8F0FE;\n",
              "      border: none;\n",
              "      border-radius: 50%;\n",
              "      cursor: pointer;\n",
              "      display: none;\n",
              "      fill: #1967D2;\n",
              "      height: 32px;\n",
              "      padding: 0 0 0 0;\n",
              "      width: 32px;\n",
              "    }\n",
              "\n",
              "    .colab-df-convert:hover {\n",
              "      background-color: #E2EBFA;\n",
              "      box-shadow: 0px 1px 2px rgba(60, 64, 67, 0.3), 0px 1px 3px 1px rgba(60, 64, 67, 0.15);\n",
              "      fill: #174EA6;\n",
              "    }\n",
              "\n",
              "    [theme=dark] .colab-df-convert {\n",
              "      background-color: #3B4455;\n",
              "      fill: #D2E3FC;\n",
              "    }\n",
              "\n",
              "    [theme=dark] .colab-df-convert:hover {\n",
              "      background-color: #434B5C;\n",
              "      box-shadow: 0px 1px 3px 1px rgba(0, 0, 0, 0.15);\n",
              "      filter: drop-shadow(0px 1px 2px rgba(0, 0, 0, 0.3));\n",
              "      fill: #FFFFFF;\n",
              "    }\n",
              "  </style>\n",
              "\n",
              "      <script>\n",
              "        const buttonEl =\n",
              "          document.querySelector('#df-ed87a071-f21b-4b0d-a36b-6340ede2607c button.colab-df-convert');\n",
              "        buttonEl.style.display =\n",
              "          google.colab.kernel.accessAllowed ? 'block' : 'none';\n",
              "\n",
              "        async function convertToInteractive(key) {\n",
              "          const element = document.querySelector('#df-ed87a071-f21b-4b0d-a36b-6340ede2607c');\n",
              "          const dataTable =\n",
              "            await google.colab.kernel.invokeFunction('convertToInteractive',\n",
              "                                                     [key], {});\n",
              "          if (!dataTable) return;\n",
              "\n",
              "          const docLinkHtml = 'Like what you see? Visit the ' +\n",
              "            '<a target=\"_blank\" href=https://colab.research.google.com/notebooks/data_table.ipynb>data table notebook</a>'\n",
              "            + ' to learn more about interactive tables.';\n",
              "          element.innerHTML = '';\n",
              "          dataTable['output_type'] = 'display_data';\n",
              "          await google.colab.output.renderOutput(dataTable, element);\n",
              "          const docLink = document.createElement('div');\n",
              "          docLink.innerHTML = docLinkHtml;\n",
              "          element.appendChild(docLink);\n",
              "        }\n",
              "      </script>\n",
              "    </div>\n",
              "  </div>\n",
              "  "
            ]
          },
          "metadata": {},
          "execution_count": 5
        }
      ]
    },
    {
      "cell_type": "code",
      "source": [
        "df.columns"
      ],
      "metadata": {
        "colab": {
          "base_uri": "https://localhost:8080/"
        },
        "id": "At4GORpAq2_-",
        "outputId": "af73a648-e5c8-4e61-841c-55dd0fa70fdd"
      },
      "execution_count": 6,
      "outputs": [
        {
          "output_type": "execute_result",
          "data": {
            "text/plain": [
              "Index(['MODELYEAR', 'MAKE', 'MODEL', 'VEHICLECLASS', 'ENGINESIZE', 'CYLINDERS',\n",
              "       'TRANSMISSION', 'FUELTYPE', 'FUELCONSUMPTION_CITY',\n",
              "       'FUELCONSUMPTION_HWY', 'FUELCONSUMPTION_COMB',\n",
              "       'FUELCONSUMPTION_COMB_MPG', 'CO2EMISSIONS'],\n",
              "      dtype='object')"
            ]
          },
          "metadata": {},
          "execution_count": 6
        }
      ]
    },
    {
      "cell_type": "markdown",
      "source": [
        "We will find the correlations between the differen parameter in the columns of the above data frame."
      ],
      "metadata": {
        "id": "WmZRi11LY947"
      }
    },
    {
      "cell_type": "code",
      "source": [
        "df[\"CO2EMISSIONS\"].corr(df[\"FUELCONSUMPTION_COMB\"])"
      ],
      "metadata": {
        "colab": {
          "base_uri": "https://localhost:8080/"
        },
        "id": "Er1REf4VZQrj",
        "outputId": "36ed7f26-8c4a-4a6f-df04-3cd9c812be47"
      },
      "execution_count": 10,
      "outputs": [
        {
          "output_type": "execute_result",
          "data": {
            "text/plain": [
              "0.8921285933157567"
            ]
          },
          "metadata": {},
          "execution_count": 10
        }
      ]
    },
    {
      "cell_type": "code",
      "source": [
        "df[\"CO2EMISSIONS\"].corr(df[\"CYLINDERS\"])"
      ],
      "metadata": {
        "id": "MXODIMZcsa92",
        "colab": {
          "base_uri": "https://localhost:8080/"
        },
        "outputId": "3ecf9873-3554-43ea-ae3d-eb665999147d"
      },
      "execution_count": 11,
      "outputs": [
        {
          "output_type": "execute_result",
          "data": {
            "text/plain": [
              "0.8496845920141155"
            ]
          },
          "metadata": {},
          "execution_count": 11
        }
      ]
    },
    {
      "cell_type": "code",
      "source": [
        "import seaborn as sns\n",
        "sns.scatterplot(df[\"CYLINDERS\"],df[\"CO2EMISSIONS\"])"
      ],
      "metadata": {
        "colab": {
          "base_uri": "https://localhost:8080/",
          "height": 352
        },
        "id": "pHkX3ezrZS18",
        "outputId": "b9450ac9-e62e-4867-af64-8cd0ad68a547"
      },
      "execution_count": 13,
      "outputs": [
        {
          "output_type": "stream",
          "name": "stderr",
          "text": [
            "/usr/local/lib/python3.8/dist-packages/seaborn/_decorators.py:36: FutureWarning: Pass the following variables as keyword args: x, y. From version 0.12, the only valid positional argument will be `data`, and passing other arguments without an explicit keyword will result in an error or misinterpretation.\n",
            "  warnings.warn(\n"
          ]
        },
        {
          "output_type": "execute_result",
          "data": {
            "text/plain": [
              "<matplotlib.axes._subplots.AxesSubplot at 0x7fa691528490>"
            ]
          },
          "metadata": {},
          "execution_count": 13
        },
        {
          "output_type": "display_data",
          "data": {
            "text/plain": [
              "<Figure size 432x288 with 1 Axes>"
            ],
            "image/png": "[encoded data removed]"
          },
          "metadata": {
            "needs_background": "light"
          }
        }
      ]
    },
    {
      "cell_type": "code",
      "source": [
        "sns.scatterplot(df['FUELCONSUMPTION_COMB'],df['CO2EMISSIONS'])"
      ],
      "metadata": {
        "colab": {
          "base_uri": "https://localhost:8080/",
          "height": 353
        },
        "id": "wzxd-rhbtAAv",
        "outputId": "af949b2a-be99-4a5a-a735-f1923aaf3034"
      },
      "execution_count": 14,
      "outputs": [
        {
          "output_type": "stream",
          "name": "stderr",
          "text": [
            "/usr/local/lib/python3.8/dist-packages/seaborn/_decorators.py:36: FutureWarning: Pass the following variables as keyword args: x, y. From version 0.12, the only valid positional argument will be `data`, and passing other arguments without an explicit keyword will result in an error or misinterpretation.\n",
            "  warnings.warn(\n"
          ]
        },
        {
          "output_type": "execute_result",
          "data": {
            "text/plain": [
              "<matplotlib.axes._subplots.AxesSubplot at 0x7fa69146f5e0>"
            ]
          },
          "metadata": {},
          "execution_count": 14
        },
        {
          "output_type": "display_data",
          "data": {
            "text/plain": [
              "<Figure size 432x288 with 1 Axes>"
            ],
            "image/png": "[encoded data removed]"
          },
          "metadata": {
            "needs_background": "light"
          }
        }
      ]
    },
    {
      "cell_type": "code",
      "source": [
        "df2=df[['FUELCONSUMPTION_COMB','CYLINDERS','CO2EMISSIONS']]"
      ],
      "metadata": {
        "id": "zufUVRJOZW3d"
      },
      "execution_count": 15,
      "outputs": []
    },
    {
      "cell_type": "code",
      "source": [
        "df2"
      ],
      "metadata": {
        "colab": {
          "base_uri": "https://localhost:8080/",
          "height": 424
        },
        "id": "l0r2uLCduWFs",
        "outputId": "348d7ef5-7522-40d9-a198-27e51d17704b"
      },
      "execution_count": 16,
      "outputs": [
        {
          "output_type": "execute_result",
          "data": {
            "text/plain": [
              "      FUELCONSUMPTION_COMB  CYLINDERS  CO2EMISSIONS\n",
              "0                      8.5          4           196\n",
              "1                      9.6          4           221\n",
              "2                      5.9          4           136\n",
              "3                     11.1          6           255\n",
              "4                     10.6          6           244\n",
              "...                    ...        ...           ...\n",
              "1062                  11.8          6           271\n",
              "1063                  11.5          6           264\n",
              "1064                  11.8          6           271\n",
              "1065                  11.3          6           260\n",
              "1066                  12.8          6           294\n",
              "\n",
              "[1067 rows x 3 columns]"
            ],
            "text/html": [
              "\n",
              "  <div id=\"df-47c47c2c-d22e-4379-85a4-0e167b13786c\">\n",
              "    <div class=\"colab-df-container\">\n",
              "      <div>\n",
              "<style scoped>\n",
              "    .dataframe tbody tr th:only-of-type {\n",
              "        vertical-align: middle;\n",
              "    }\n",
              "\n",
              "    .dataframe tbody tr th {\n",
              "        vertical-align: top;\n",
              "    }\n",
              "\n",
              "    .dataframe thead th {\n",
              "        text-align: right;\n",
              "    }\n",
              "</style>\n",
              "<table border=\"1\" class=\"dataframe\">\n",
              "  <thead>\n",
              "    <tr style=\"text-align: right;\">\n",
              "      <th></th>\n",
              "      <th>FUELCONSUMPTION_COMB</th>\n",
              "      <th>CYLINDERS</th>\n",
              "      <th>CO2EMISSIONS</th>\n",
              "    </tr>\n",
              "  </thead>\n",
              "  <tbody>\n",
              "    <tr>\n",
              "      <th>0</th>\n",
              "      <td>8.5</td>\n",
              "      <td>4</td>\n",
              "      <td>196</td>\n",
              "    </tr>\n",
              "    <tr>\n",
              "      <th>1</th>\n",
              "      <td>9.6</td>\n",
              "      <td>4</td>\n",
              "      <td>221</td>\n",
              "    </tr>\n",
              "    <tr>\n",
              "      <th>2</th>\n",
              "      <td>5.9</td>\n",
              "      <td>4</td>\n",
              "      <td>136</td>\n",
              "    </tr>\n",
              "    <tr>\n",
              "      <th>3</th>\n",
              "      <td>11.1</td>\n",
              "      <td>6</td>\n",
              "      <td>255</td>\n",
              "    </tr>\n",
              "    <tr>\n",
              "      <th>4</th>\n",
              "      <td>10.6</td>\n",
              "      <td>6</td>\n",
              "      <td>244</td>\n",
              "    </tr>\n",
              "    <tr>\n",
              "      <th>...</th>\n",
              "      <td>...</td>\n",
              "      <td>...</td>\n",
              "      <td>...</td>\n",
              "    </tr>\n",
              "    <tr>\n",
              "      <th>1062</th>\n",
              "      <td>11.8</td>\n",
              "      <td>6</td>\n",
              "      <td>271</td>\n",
              "    </tr>\n",
              "    <tr>\n",
              "      <th>1063</th>\n",
              "      <td>11.5</td>\n",
              "      <td>6</td>\n",
              "      <td>264</td>\n",
              "    </tr>\n",
              "    <tr>\n",
              "      <th>1064</th>\n",
              "      <td>11.8</td>\n",
              "      <td>6</td>\n",
              "      <td>271</td>\n",
              "    </tr>\n",
              "    <tr>\n",
              "      <th>1065</th>\n",
              "      <td>11.3</td>\n",
              "      <td>6</td>\n",
              "      <td>260</td>\n",
              "    </tr>\n",
              "    <tr>\n",
              "      <th>1066</th>\n",
              "      <td>12.8</td>\n",
              "      <td>6</td>\n",
              "      <td>294</td>\n",
              "    </tr>\n",
              "  </tbody>\n",
              "</table>\n",
              "<p>1067 rows × 3 columns</p>\n",
              "</div>\n",
              "      <button class=\"colab-df-convert\" onclick=\"convertToInteractive('df-47c47c2c-d22e-4379-85a4-0e167b13786c')\"\n",
              "              title=\"Convert this dataframe to an interactive table.\"\n",
              "              style=\"display:none;\">\n",
              "        \n",
              "  <svg xmlns=\"http://www.w3.org/2000/svg\" height=\"24px\"viewBox=\"0 0 24 24\"\n",
              "       width=\"24px\">\n",
              "    <path d=\"M0 0h24v24H0V0z\" fill=\"none\"/>\n",
              "    <path d=\"M18.56 5.44l.94 2.06.94-2.06 2.06-.94-2.06-.94-.94-2.06-.94 2.06-2.06.94zm-11 1L8.5 8.5l.94-2.06 2.06-.94-2.06-.94L8.5 2.5l-.94 2.06-2.06.94zm10 10l.94 2.06.94-2.06 2.06-.94-2.06-.94-.94-2.06-.94 2.06-2.06.94z\"/><path d=\"M17.41 7.96l-1.37-1.37c-.4-.4-.92-.59-1.43-.59-.52 0-1.04.2-1.43.59L10.3 9.45l-7.72 7.72c-.78.78-.78 2.05 0 2.83L4 21.41c.39.39.9.59 1.41.59.51 0 1.02-.2 1.41-.59l7.78-7.78 2.81-2.81c.8-.78.8-2.07 0-2.86zM5.41 20L4 18.59l7.72-7.72 1.47 1.35L5.41 20z\"/>\n",
              "  </svg>\n",
              "      </button>\n",
              "      \n",
              "  <style>\n",
              "    .colab-df-container {\n",
              "      display:flex;\n",
              "      flex-wrap:wrap;\n",
              "      gap: 12px;\n",
              "    }\n",
              "\n",
              "    .colab-df-convert {\n",
              "      background-color: #E8F0FE;\n",
              "      border: none;\n",
              "      border-radius: 50%;\n",
              "      cursor: pointer;\n",
              "      display: none;\n",
              "      fill: #1967D2;\n",
              "      height: 32px;\n",
              "      padding: 0 0 0 0;\n",
              "      width: 32px;\n",
              "    }\n",
              "\n",
              "    .colab-df-convert:hover {\n",
              "      background-color: #E2EBFA;\n",
              "      box-shadow: 0px 1px 2px rgba(60, 64, 67, 0.3), 0px 1px 3px 1px rgba(60, 64, 67, 0.15);\n",
              "      fill: #174EA6;\n",
              "    }\n",
              "\n",
              "    [theme=dark] .colab-df-convert {\n",
              "      background-color: #3B4455;\n",
              "      fill: #D2E3FC;\n",
              "    }\n",
              "\n",
              "    [theme=dark] .colab-df-convert:hover {\n",
              "      background-color: #434B5C;\n",
              "      box-shadow: 0px 1px 3px 1px rgba(0, 0, 0, 0.15);\n",
              "      filter: drop-shadow(0px 1px 2px rgba(0, 0, 0, 0.3));\n",
              "      fill: #FFFFFF;\n",
              "    }\n",
              "  </style>\n",
              "\n",
              "      <script>\n",
              "        const buttonEl =\n",
              "          document.querySelector('#df-47c47c2c-d22e-4379-85a4-0e167b13786c button.colab-df-convert');\n",
              "        buttonEl.style.display =\n",
              "          google.colab.kernel.accessAllowed ? 'block' : 'none';\n",
              "\n",
              "        async function convertToInteractive(key) {\n",
              "          const element = document.querySelector('#df-47c47c2c-d22e-4379-85a4-0e167b13786c');\n",
              "          const dataTable =\n",
              "            await google.colab.kernel.invokeFunction('convertToInteractive',\n",
              "                                                     [key], {});\n",
              "          if (!dataTable) return;\n",
              "\n",
              "          const docLinkHtml = 'Like what you see? Visit the ' +\n",
              "            '<a target=\"_blank\" href=https://colab.research.google.com/notebooks/data_table.ipynb>data table notebook</a>'\n",
              "            + ' to learn more about interactive tables.';\n",
              "          element.innerHTML = '';\n",
              "          dataTable['output_type'] = 'display_data';\n",
              "          await google.colab.output.renderOutput(dataTable, element);\n",
              "          const docLink = document.createElement('div');\n",
              "          docLink.innerHTML = docLinkHtml;\n",
              "          element.appendChild(docLink);\n",
              "        }\n",
              "      </script>\n",
              "    </div>\n",
              "  </div>\n",
              "  "
            ]
          },
          "metadata": {},
          "execution_count": 16
        }
      ]
    },
    {
      "cell_type": "code",
      "source": [
        "x=df2[[\"CYLINDERS\",\"FUELCONSUMPTION_COMB\"]]\n",
        "y=df2[\"CO2EMISSIONS\"]"
      ],
      "metadata": {
        "id": "VGmuREt7uXax"
      },
      "execution_count": 25,
      "outputs": []
    },
    {
      "cell_type": "code",
      "source": [
        "x"
      ],
      "metadata": {
        "colab": {
          "base_uri": "https://localhost:8080/",
          "height": 424
        },
        "id": "2YSSEj74wNGn",
        "outputId": "4ab2c653-c2f5-4bb6-b9e3-e0099915e053"
      },
      "execution_count": 20,
      "outputs": [
        {
          "output_type": "execute_result",
          "data": {
            "text/plain": [
              "      CYLINDERS  FUELCONSUMPTION_COMB\n",
              "0             4                   8.5\n",
              "1             4                   9.6\n",
              "2             4                   5.9\n",
              "3             6                  11.1\n",
              "4             6                  10.6\n",
              "...         ...                   ...\n",
              "1062          6                  11.8\n",
              "1063          6                  11.5\n",
              "1064          6                  11.8\n",
              "1065          6                  11.3\n",
              "1066          6                  12.8\n",
              "\n",
              "[1067 rows x 2 columns]"
            ],
            "text/html": [
              "\n",
              "  <div id=\"df-d7b56a0e-5499-4bd3-893a-86457c59fb84\">\n",
              "    <div class=\"colab-df-container\">\n",
              "      <div>\n",
              "<style scoped>\n",
              "    .dataframe tbody tr th:only-of-type {\n",
              "        vertical-align: middle;\n",
              "    }\n",
              "\n",
              "    .dataframe tbody tr th {\n",
              "        vertical-align: top;\n",
              "    }\n",
              "\n",
              "    .dataframe thead th {\n",
              "        text-align: right;\n",
              "    }\n",
              "</style>\n",
              "<table border=\"1\" class=\"dataframe\">\n",
              "  <thead>\n",
              "    <tr style=\"text-align: right;\">\n",
              "      <th></th>\n",
              "      <th>CYLINDERS</th>\n",
              "      <th>FUELCONSUMPTION_COMB</th>\n",
              "    </tr>\n",
              "  </thead>\n",
              "  <tbody>\n",
              "    <tr>\n",
              "      <th>0</th>\n",
              "      <td>4</td>\n",
              "      <td>8.5</td>\n",
              "    </tr>\n",
              "    <tr>\n",
              "      <th>1</th>\n",
              "      <td>4</td>\n",
              "      <td>9.6</td>\n",
              "    </tr>\n",
              "    <tr>\n",
              "      <th>2</th>\n",
              "      <td>4</td>\n",
              "      <td>5.9</td>\n",
              "    </tr>\n",
              "    <tr>\n",
              "      <th>3</th>\n",
              "      <td>6</td>\n",
              "      <td>11.1</td>\n",
              "    </tr>\n",
              "    <tr>\n",
              "      <th>4</th>\n",
              "      <td>6</td>\n",
              "      <td>10.6</td>\n",
              "    </tr>\n",
              "    <tr>\n",
              "      <th>...</th>\n",
              "      <td>...</td>\n",
              "      <td>...</td>\n",
              "    </tr>\n",
              "    <tr>\n",
              "      <th>1062</th>\n",
              "      <td>6</td>\n",
              "      <td>11.8</td>\n",
              "    </tr>\n",
              "    <tr>\n",
              "      <th>1063</th>\n",
              "      <td>6</td>\n",
              "      <td>11.5</td>\n",
              "    </tr>\n",
              "    <tr>\n",
              "      <th>1064</th>\n",
              "      <td>6</td>\n",
              "      <td>11.8</td>\n",
              "    </tr>\n",
              "    <tr>\n",
              "      <th>1065</th>\n",
              "      <td>6</td>\n",
              "      <td>11.3</td>\n",
              "    </tr>\n",
              "    <tr>\n",
              "      <th>1066</th>\n",
              "      <td>6</td>\n",
              "      <td>12.8</td>\n",
              "    </tr>\n",
              "  </tbody>\n",
              "</table>\n",
              "<p>1067 rows × 2 columns</p>\n",
              "</div>\n",
              "      <button class=\"colab-df-convert\" onclick=\"convertToInteractive('df-d7b56a0e-5499-4bd3-893a-86457c59fb84')\"\n",
              "              title=\"Convert this dataframe to an interactive table.\"\n",
              "              style=\"display:none;\">\n",
              "        \n",
              "  <svg xmlns=\"http://www.w3.org/2000/svg\" height=\"24px\"viewBox=\"0 0 24 24\"\n",
              "       width=\"24px\">\n",
              "    <path d=\"M0 0h24v24H0V0z\" fill=\"none\"/>\n",
              "    <path d=\"M18.56 5.44l.94 2.06.94-2.06 2.06-.94-2.06-.94-.94-2.06-.94 2.06-2.06.94zm-11 1L8.5 8.5l.94-2.06 2.06-.94-2.06-.94L8.5 2.5l-.94 2.06-2.06.94zm10 10l.94 2.06.94-2.06 2.06-.94-2.06-.94-.94-2.06-.94 2.06-2.06.94z\"/><path d=\"M17.41 7.96l-1.37-1.37c-.4-.4-.92-.59-1.43-.59-.52 0-1.04.2-1.43.59L10.3 9.45l-7.72 7.72c-.78.78-.78 2.05 0 2.83L4 21.41c.39.39.9.59 1.41.59.51 0 1.02-.2 1.41-.59l7.78-7.78 2.81-2.81c.8-.78.8-2.07 0-2.86zM5.41 20L4 18.59l7.72-7.72 1.47 1.35L5.41 20z\"/>\n",
              "  </svg>\n",
              "      </button>\n",
              "      \n",
              "  <style>\n",
              "    .colab-df-container {\n",
              "      display:flex;\n",
              "      flex-wrap:wrap;\n",
              "      gap: 12px;\n",
              "    }\n",
              "\n",
              "    .colab-df-convert {\n",
              "      background-color: #E8F0FE;\n",
              "      border: none;\n",
              "      border-radius: 50%;\n",
              "      cursor: pointer;\n",
              "      display: none;\n",
              "      fill: #1967D2;\n",
              "      height: 32px;\n",
              "      padding: 0 0 0 0;\n",
              "      width: 32px;\n",
              "    }\n",
              "\n",
              "    .colab-df-convert:hover {\n",
              "      background-color: #E2EBFA;\n",
              "      box-shadow: 0px 1px 2px rgba(60, 64, 67, 0.3), 0px 1px 3px 1px rgba(60, 64, 67, 0.15);\n",
              "      fill: #174EA6;\n",
              "    }\n",
              "\n",
              "    [theme=dark] .colab-df-convert {\n",
              "      background-color: #3B4455;\n",
              "      fill: #D2E3FC;\n",
              "    }\n",
              "\n",
              "    [theme=dark] .colab-df-convert:hover {\n",
              "      background-color: #434B5C;\n",
              "      box-shadow: 0px 1px 3px 1px rgba(0, 0, 0, 0.15);\n",
              "      filter: drop-shadow(0px 1px 2px rgba(0, 0, 0, 0.3));\n",
              "      fill: #FFFFFF;\n",
              "    }\n",
              "  </style>\n",
              "\n",
              "      <script>\n",
              "        const buttonEl =\n",
              "          document.querySelector('#df-d7b56a0e-5499-4bd3-893a-86457c59fb84 button.colab-df-convert');\n",
              "        buttonEl.style.display =\n",
              "          google.colab.kernel.accessAllowed ? 'block' : 'none';\n",
              "\n",
              "        async function convertToInteractive(key) {\n",
              "          const element = document.querySelector('#df-d7b56a0e-5499-4bd3-893a-86457c59fb84');\n",
              "          const dataTable =\n",
              "            await google.colab.kernel.invokeFunction('convertToInteractive',\n",
              "                                                     [key], {});\n",
              "          if (!dataTable) return;\n",
              "\n",
              "          const docLinkHtml = 'Like what you see? Visit the ' +\n",
              "            '<a target=\"_blank\" href=https://colab.research.google.com/notebooks/data_table.ipynb>data table notebook</a>'\n",
              "            + ' to learn more about interactive tables.';\n",
              "          element.innerHTML = '';\n",
              "          dataTable['output_type'] = 'display_data';\n",
              "          await google.colab.output.renderOutput(dataTable, element);\n",
              "          const docLink = document.createElement('div');\n",
              "          docLink.innerHTML = docLinkHtml;\n",
              "          element.appendChild(docLink);\n",
              "        }\n",
              "      </script>\n",
              "    </div>\n",
              "  </div>\n",
              "  "
            ]
          },
          "metadata": {},
          "execution_count": 20
        }
      ]
    },
    {
      "cell_type": "code",
      "source": [
        "y"
      ],
      "metadata": {
        "colab": {
          "base_uri": "https://localhost:8080/"
        },
        "id": "fRw5s49awWPk",
        "outputId": "16173830-040c-4579-a994-21b37a1c7121"
      },
      "execution_count": 26,
      "outputs": [
        {
          "output_type": "execute_result",
          "data": {
            "text/plain": [
              "0       196\n",
              "1       221\n",
              "2       136\n",
              "3       255\n",
              "4       244\n",
              "       ... \n",
              "1062    271\n",
              "1063    264\n",
              "1064    271\n",
              "1065    260\n",
              "1066    294\n",
              "Name: CO2EMISSIONS, Length: 1067, dtype: int64"
            ]
          },
          "metadata": {},
          "execution_count": 26
        }
      ]
    },
    {
      "cell_type": "code",
      "source": [
        "x=np.asanyarray(x)\n",
        "y=np.asanyarray(y)"
      ],
      "metadata": {
        "id": "rKraEyByeME8"
      },
      "execution_count": 27,
      "outputs": []
    },
    {
      "cell_type": "code",
      "source": [
        "\n",
        "y"
      ],
      "metadata": {
        "colab": {
          "base_uri": "https://localhost:8080/"
        },
        "id": "igrZfT42wlKc",
        "outputId": "f40d7f1b-1672-4b15-cefc-c0444372cceb"
      },
      "execution_count": 35,
      "outputs": [
        {
          "output_type": "execute_result",
          "data": {
            "text/plain": [
              "array([196, 221, 136, ..., 271, 260, 294])"
            ]
          },
          "metadata": {},
          "execution_count": 35
        }
      ]
    },
    {
      "cell_type": "code",
      "source": [
        "x"
      ],
      "metadata": {
        "colab": {
          "base_uri": "https://localhost:8080/"
        },
        "id": "CUMRBlVcw8z8",
        "outputId": "81cfe66a-f146-4373-8d7f-094cde207e3d"
      },
      "execution_count": 36,
      "outputs": [
        {
          "output_type": "execute_result",
          "data": {
            "text/plain": [
              "array([[ 4. ,  8.5],\n",
              "       [ 4. ,  9.6],\n",
              "       [ 4. ,  5.9],\n",
              "       ...,\n",
              "       [ 6. , 11.8],\n",
              "       [ 6. , 11.3],\n",
              "       [ 6. , 12.8]])"
            ]
          },
          "metadata": {},
          "execution_count": 36
        }
      ]
    },
    {
      "cell_type": "code",
      "source": [
        "import sklearn\n",
        "from sklearn.model_selection import train_test_split\n",
        "\n",
        "x_train,x_test,y_train,y_test=train_test_split(x,y,test_size=0.2)"
      ],
      "metadata": {
        "id": "cgReVH2RelDM"
      },
      "execution_count": 37,
      "outputs": []
    },
    {
      "cell_type": "code",
      "source": [
        "x_train"
      ],
      "metadata": {
        "colab": {
          "base_uri": "https://localhost:8080/"
        },
        "id": "ocImCpPsyNv4",
        "outputId": "1fc19837-8c9b-4853-9085-6f530df062f5"
      },
      "execution_count": 38,
      "outputs": [
        {
          "output_type": "execute_result",
          "data": {
            "text/plain": [
              "array([[ 4. ,  7.8],\n",
              "       [ 8. , 13.8],\n",
              "       [ 4. ,  9.8],\n",
              "       ...,\n",
              "       [ 4. , 10.7],\n",
              "       [ 8. , 13.3],\n",
              "       [ 4. ,  8.3]])"
            ]
          },
          "metadata": {},
          "execution_count": 38
        }
      ]
    },
    {
      "cell_type": "code",
      "source": [
        "y_train"
      ],
      "metadata": {
        "colab": {
          "base_uri": "https://localhost:8080/"
        },
        "id": "Y5SN5E6yyQCB",
        "outputId": "e08fe12f-f2bd-4dc1-fa34-e4fcafd23e8d"
      },
      "execution_count": 39,
      "outputs": [
        {
          "output_type": "execute_result",
          "data": {
            "text/plain": [
              "array([179, 317, 225, 172, 262, 283, 166, 228, 186, 255, 221, 280, 310,\n",
              "       237, 232, 264, 232, 269, 200, 294, 354, 366, 290, 225, 315, 264,\n",
              "       168, 354, 138, 313, 409, 254, 308, 223, 380, 255, 205, 242, 230,\n",
              "       244, 242, 196, 304, 304, 230, 202, 380, 255, 264, 225, 290, 214,\n",
              "       218, 138, 205, 264, 253, 156, 421, 189, 152, 221, 193, 370, 359,\n",
              "       196, 250, 258, 196, 184, 108, 283, 267, 366, 170, 297, 213, 301,\n",
              "       196, 235, 292, 269, 237, 317, 209, 184, 227, 347, 340, 320, 193,\n",
              "       288, 258, 414, 435, 317, 221, 301, 271, 198, 253, 338, 269, 237,\n",
              "       235, 179, 258, 342, 315, 317, 292, 283, 255, 239, 225, 317, 197,\n",
              "       377, 202, 278, 251, 223, 361, 308, 175, 324, 161, 297, 294, 278,\n",
              "       196, 413, 193, 354, 304, 182, 317, 184, 297, 239, 244, 179, 237,\n",
              "       271, 216, 230, 264, 283, 207, 179, 347, 244, 329, 283, 218, 267,\n",
              "       246, 177, 271, 437, 253, 274, 290, 228, 294, 377, 242, 212, 161,\n",
              "       230, 170, 244, 205, 225, 320, 299, 278, 205, 216, 292, 331, 285,\n",
              "       368, 264, 177, 292, 184, 327, 292, 347, 209, 126, 196, 242, 251,\n",
              "       235, 191, 145, 230, 207, 184, 246, 251, 177, 308, 271, 324, 294,\n",
              "       308, 214, 292, 159, 294, 184, 308, 246, 207, 207, 246, 340, 251,\n",
              "       191, 221, 255, 198, 340, 232, 159, 239, 207, 221, 258, 362, 354,\n",
              "       216, 317, 214, 258, 258, 380, 380, 258, 216, 281, 191, 186, 419,\n",
              "       382, 306, 235, 218, 382, 315, 216, 168, 248, 170, 344, 292, 347,\n",
              "       281, 345, 216, 212, 290, 356, 175, 246, 168, 317, 248, 338, 258,\n",
              "       318, 221, 224, 262, 168, 230, 179, 232, 264, 223, 342, 244, 251,\n",
              "       214, 258, 260, 209, 304, 207, 267, 306, 283, 294, 209, 175, 260,\n",
              "       177, 262, 200, 194, 232, 228, 225, 182, 299, 294, 283, 200, 228,\n",
              "       290, 290, 202, 179, 280, 184, 166, 281, 184, 179, 352, 334, 294,\n",
              "       163, 242, 363, 235, 175, 380, 168, 198, 343, 317, 166, 228, 278,\n",
              "       189, 242, 251, 255, 207, 246, 251, 297, 327, 232, 225, 202, 209,\n",
              "       338, 283, 276, 191, 253, 270, 336, 175, 242, 196, 362, 242, 235,\n",
              "       308, 324, 294, 389, 131, 250, 324, 283, 393, 380, 292, 246, 242,\n",
              "       260, 163, 301, 223, 334, 248, 235, 235, 248, 189, 175, 230, 407,\n",
              "       264, 186, 262, 193, 384, 159, 163, 212, 264, 177, 182, 168, 196,\n",
              "       278, 260, 362, 297, 191, 147, 179, 264, 345, 402, 317, 361, 214,\n",
              "       356, 209, 317, 196, 281, 269, 317, 380, 253, 329, 198, 278, 338,\n",
              "       317, 382, 225, 230, 212, 173, 432, 129, 251, 143, 258, 225, 221,\n",
              "       200, 308, 212, 209, 200, 214, 244, 244, 290, 230, 382, 299, 198,\n",
              "       177, 393, 197, 230, 232, 191, 200, 350, 235, 191, 225, 237, 200,\n",
              "       294, 262, 230, 253, 368, 189, 317, 265, 285, 182, 276, 145, 281,\n",
              "       413, 354, 262, 225, 380, 216, 191, 294, 200, 232, 297, 221, 274,\n",
              "       229, 207, 136, 322, 253, 237, 285, 186, 258, 193, 177, 218, 297,\n",
              "       269, 229, 181, 297, 246, 260, 230, 191, 196, 191, 260, 138, 271,\n",
              "       207, 221, 184, 294, 301, 283, 310, 281, 283, 380, 239, 168, 250,\n",
              "       286, 207, 264, 294, 209, 276, 267, 223, 306, 212, 198, 202, 260,\n",
              "       251, 294, 177, 324, 281, 338, 239, 237, 276, 271, 269, 290, 329,\n",
              "       308, 161, 179, 262, 184, 253, 276, 179, 350, 288, 207, 191, 230,\n",
              "       336, 207, 285, 272, 306, 225, 414, 352, 334, 297, 363, 182, 285,\n",
              "       216, 202, 262, 253, 320, 414, 294, 271, 366, 170, 344, 340, 253,\n",
              "       373, 301, 407, 255, 232, 184, 179, 193, 373, 320, 232, 223, 248,\n",
              "       196, 393, 186, 344, 301, 209, 255, 419, 248, 216, 346, 409, 258,\n",
              "       193, 246, 235, 306, 192, 294, 175, 292, 232, 258, 340, 308, 260,\n",
              "       221, 255, 398, 290, 276, 354, 196, 278, 290, 262, 292, 260, 253,\n",
              "       264, 297, 244, 267, 267, 292, 179, 294, 278, 382, 209, 255, 244,\n",
              "       356, 189, 196, 209, 359, 411, 276, 214, 237, 278, 189, 225, 292,\n",
              "       216, 225, 294, 198, 322, 209, 246, 294, 209, 182, 191, 281, 244,\n",
              "       198, 294, 237, 288, 271, 209, 214, 209, 237, 161, 269, 393, 221,\n",
              "       239, 347, 259, 235, 380, 239, 235, 258, 189, 258, 292, 281, 200,\n",
              "       235, 281, 198, 264, 248, 230, 259, 368, 242, 354, 248, 272, 202,\n",
              "       267, 179, 216, 285, 294, 292, 165, 156, 488, 310, 407, 225, 340,\n",
              "       262, 235, 285, 143, 292, 207, 322, 274, 162, 315, 222, 193, 195,\n",
              "       264, 228, 285, 237, 244, 315, 269, 251, 277, 209, 260, 110, 172,\n",
              "       110, 242, 244, 221, 281, 221, 230, 411, 346, 221, 361, 246, 166,\n",
              "       267, 251, 225, 251, 218, 304, 244, 205, 292, 224, 274, 202, 380,\n",
              "       380, 360, 237, 237, 264, 297, 189, 256, 380, 253, 308, 322, 338,\n",
              "       239, 232, 301, 260, 186, 182, 221, 301, 260, 251, 274, 222, 209,\n",
              "       175, 361, 225, 432, 230, 274, 202, 221, 389, 161, 207, 278, 212,\n",
              "       230, 152, 207, 264, 347, 228, 285, 274, 255, 290, 196, 147, 182,\n",
              "       228, 264, 380, 196, 294, 246, 306, 191])"
            ]
          },
          "metadata": {},
          "execution_count": 39
        }
      ]
    },
    {
      "cell_type": "code",
      "source": [
        "x_train.shape\n",
        "y_train.shape"
      ],
      "metadata": {
        "colab": {
          "base_uri": "https://localhost:8080/"
        },
        "id": "-bt9s6-8h9L6",
        "outputId": "c9c99303-3ba2-4644-f887-c969e349c491"
      },
      "execution_count": 41,
      "outputs": [
        {
          "output_type": "execute_result",
          "data": {
            "text/plain": [
              "(853,)"
            ]
          },
          "metadata": {},
          "execution_count": 41
        }
      ]
    },
    {
      "cell_type": "code",
      "source": [
        "x_train.shape"
      ],
      "metadata": {
        "colab": {
          "base_uri": "https://localhost:8080/"
        },
        "id": "rnqJxql3h_Bi",
        "outputId": "f795edad-ab1e-45ea-d860-b5dcef9d52d2"
      },
      "execution_count": 43,
      "outputs": [
        {
          "output_type": "execute_result",
          "data": {
            "text/plain": [
              "(853, 2)"
            ]
          },
          "metadata": {},
          "execution_count": 43
        }
      ]
    },
    {
      "cell_type": "code",
      "source": [
        "x_test.shape"
      ],
      "metadata": {
        "colab": {
          "base_uri": "https://localhost:8080/"
        },
        "id": "qluUIDoXiAB5",
        "outputId": "d01be3b8-c77d-4402-cbf2-6af84afc8e79"
      },
      "execution_count": 44,
      "outputs": [
        {
          "output_type": "execute_result",
          "data": {
            "text/plain": [
              "(214, 2)"
            ]
          },
          "metadata": {},
          "execution_count": 44
        }
      ]
    },
    {
      "cell_type": "code",
      "source": [
        "y_test.shape"
      ],
      "metadata": {
        "colab": {
          "base_uri": "https://localhost:8080/"
        },
        "id": "9sX8vDB8iBlv",
        "outputId": "3c0d92ec-4047-4dcd-e174-2bbc6a1dc4da"
      },
      "execution_count": 46,
      "outputs": [
        {
          "output_type": "execute_result",
          "data": {
            "text/plain": [
              "(214,)"
            ]
          },
          "metadata": {},
          "execution_count": 46
        }
      ]
    },
    {
      "cell_type": "code",
      "source": [
        "x_train[0:2]"
      ],
      "metadata": {
        "colab": {
          "base_uri": "https://localhost:8080/"
        },
        "id": "8Bhe-oxlyuHj",
        "outputId": "1721df4a-6359-442a-aeba-3e9555b156b2"
      },
      "execution_count": 48,
      "outputs": [
        {
          "output_type": "execute_result",
          "data": {
            "text/plain": [
              "array([[ 4. ,  7.8],\n",
              "       [ 8. , 13.8]])"
            ]
          },
          "metadata": {},
          "execution_count": 48
        }
      ]
    },
    {
      "cell_type": "code",
      "source": [
        "from sklearn import linear_model\n",
        "clf=linear_model.LinearRegression()"
      ],
      "metadata": {
        "id": "AYYheLdPyw6C"
      },
      "execution_count": 51,
      "outputs": []
    },
    {
      "cell_type": "code",
      "source": [
        "clf"
      ],
      "metadata": {
        "colab": {
          "base_uri": "https://localhost:8080/"
        },
        "id": "bk8Fi30AiFEW",
        "outputId": "867ad2bd-98e8-42c5-8dfb-ca2cf51ac81b"
      },
      "execution_count": 52,
      "outputs": [
        {
          "output_type": "execute_result",
          "data": {
            "text/plain": [
              "LinearRegression()"
            ]
          },
          "metadata": {},
          "execution_count": 52
        }
      ]
    },
    {
      "cell_type": "code",
      "source": [
        "clf.fit(x_train,y_train)"
      ],
      "metadata": {
        "colab": {
          "base_uri": "https://localhost:8080/"
        },
        "id": "KLf4hh7ZiGgN",
        "outputId": "fc2a8bc8-98ec-4b12-d8d4-f393894fa794"
      },
      "execution_count": 55,
      "outputs": [
        {
          "output_type": "execute_result",
          "data": {
            "text/plain": [
              "LinearRegression()"
            ]
          },
          "metadata": {},
          "execution_count": 55
        }
      ]
    },
    {
      "cell_type": "code",
      "source": [
        "y_pred=clf.predict(x_test)"
      ],
      "metadata": {
        "id": "kG4oOWchzqlU"
      },
      "execution_count": 57,
      "outputs": []
    },
    {
      "cell_type": "code",
      "source": [
        "y_pred"
      ],
      "metadata": {
        "colab": {
          "base_uri": "https://localhost:8080/"
        },
        "id": "jkSwO_oUz7na",
        "outputId": "4a681aaa-842e-4cb0-f12c-39fbac8a7a3d"
      },
      "execution_count": 58,
      "outputs": [
        {
          "output_type": "execute_result",
          "data": {
            "text/plain": [
              "array([319.92876696, 190.57409053, 383.86300728, 216.77664803,\n",
              "       240.05394539, 200.00701123, 218.04379708, 212.58423883,\n",
              "       387.44540768, 224.33241089, 217.82475033, 198.95890893,\n",
              "       290.3628558 , 270.4489121 , 242.15014999, 230.62102469,\n",
              "       255.77547989, 324.95023171, 268.3527075 , 190.57409053,\n",
              "       206.29562503, 207.34372733, 223.69883636, 191.62219283,\n",
              "       204.19942043, 218.87285263, 198.95890893, 261.01599139,\n",
              "       256.82358219, 339.84271066, 259.96788909, 201.05511353,\n",
              "       200.00701123, 253.67927529, 312.59205086, 269.4008098 ,\n",
              "       281.9780374 , 357.66044977, 342.98701757, 162.68985619,\n",
              "       344.03511987, 188.47788593, 182.18927212, 245.29445689,\n",
              "       193.71839743, 172.75635142, 312.59205086, 249.48686609,\n",
              "       200.00701123, 208.39182963, 292.67810715, 262.06409369,\n",
              "       322.02497156, 252.63117299, 212.58423883, 285.1223443 ,\n",
              "       193.71839743, 377.79344022, 200.00701123, 347.17942677,\n",
              "       205.24752273, 262.06409369, 203.15131813, 214.68044343,\n",
              "       334.60219916, 283.0261397 , 247.39066149, 327.04643631,\n",
              "       358.70855207, 386.39730538, 301.06292555, 191.62219283,\n",
              "       387.44540768, 206.29562503, 327.04643631, 198.95890893,\n",
              "       194.76649973, 190.57409053, 308.39964166, 201.05511353,\n",
              "       191.62219283, 314.46920871, 181.14116982, 263.112196  ,\n",
              "       225.79504096, 242.15014999, 287.2185489 , 193.71839743,\n",
              "       319.92876696, 392.24782568, 295.82241405, 279.8818328 ,\n",
              "       364.99716587, 241.10204769, 258.91978679, 320.97686926,\n",
              "       213.63234113, 286.38949335, 201.05511353, 289.53380025,\n",
              "       310.49584626, 267.3046052 , 359.75665437, 208.39182963,\n",
              "       318.88066466, 263.112196  , 208.39182963, 194.76649973,\n",
              "       300.01482325, 196.86270433, 330.40978996, 201.05511353,\n",
              "       191.62219283, 185.33357903, 392.24782568, 208.39182963,\n",
              "       202.10321583, 273.593219  , 193.71839743, 201.05511353,\n",
              "       256.82358219, 302.94008341, 219.92095493, 339.84271066,\n",
              "       186.38168133, 305.03628801, 267.3046052 , 245.29445689,\n",
              "       311.54394856, 224.11336414, 320.97686926, 398.53643948,\n",
              "       242.15014999, 216.77664803, 244.24635459, 262.06409369,\n",
              "       225.38051319, 303.15913015, 242.15014999, 167.51583992,\n",
              "       253.67927529, 259.96788909, 205.24752273, 256.82358219,\n",
              "       246.34255919, 224.33241089, 308.18059491, 196.86270433,\n",
              "       182.18927212, 270.4489121 , 193.71839743, 292.67810715,\n",
              "       403.77695098, 312.59205086, 193.71839743, 180.09306752,\n",
              "       184.28547673, 190.57409053, 254.72737759, 244.24635459,\n",
              "       267.3046052 , 325.16927846, 330.40978996, 348.22752907,\n",
              "       231.45008024, 320.97686926, 193.71839743, 253.67927529,\n",
              "       217.82475033, 209.43993193, 224.33241089, 214.68044343,\n",
              "       306.30343706, 272.5451167 , 205.24752273, 243.19825229,\n",
              "       198.95890893, 175.90065832, 306.30343706, 234.81343389,\n",
              "       225.38051319, 166.46773762, 197.91080663, 196.86270433,\n",
              "       212.58423883, 209.43993193, 189.52598823, 250.53496839,\n",
              "       242.15014999, 197.91080663, 191.62219283, 250.53496839,\n",
              "       182.18927212, 243.19825229, 348.22752907, 254.72737759,\n",
              "       243.19825229, 182.18927212, 248.43876379, 206.29562503,\n",
              "       255.77547989, 262.06409369, 184.28547673, 297.91861865,\n",
              "       195.81460203, 309.44774396, 191.62219283, 200.00701123,\n",
              "       391.63781688, 286.38949335, 392.24782568, 271.4970144 ,\n",
              "       185.33357903, 356.83139422])"
            ]
          },
          "metadata": {},
          "execution_count": 58
        }
      ]
    },
    {
      "cell_type": "code",
      "source": [],
      "metadata": {
        "id": "roe1BRDWz-U6"
      },
      "execution_count": null,
      "outputs": []
    }
  ]
}