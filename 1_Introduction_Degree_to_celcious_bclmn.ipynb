{
  "nbformat": 4,
  "nbformat_minor": 0,
  "metadata": {
    "colab": {
      "provenance": [],
      "include_colab_link": true
    },
    "kernelspec": {
      "name": "python3",
      "display_name": "Python 3"
    },
    "language_info": {
      "name": "python"
    }
  },
  "cells": [
    {
      "cell_type": "markdown",
      "metadata": {
        "id": "view-in-github",
        "colab_type": "text"
      },
      "source": [
        "<a href=\"https://colab.research.google.com/github/anupkumar888/Python_Programming/blob/Python-programming/1_Introduction_Degree_to_celcious_bclmn.ipynb\" target=\"_parent\"><img src=\"https://colab.research.google.com/assets/colab-badge.svg\" alt=\"Open In Colab\"/></a>"
      ]
    },
    {
      "cell_type": "code",
      "source": [
        "# Install tensorflow in case of Jupyter/pycharm notebook \n",
        "!pip install tensorflow"
      ],
      "metadata": {
        "colab": {
          "base_uri": "https://localhost:8080/"
        },
        "id": "3-RgensN5Ba0",
        "outputId": "781c84a8-4523-43a1-be16-52a3af4ca484"
      },
      "execution_count": 1,
      "outputs": [
        {
          "output_type": "stream",
          "name": "stdout",
          "text": [
            "Looking in indexes: https://pypi.org/simple, https://us-python.pkg.dev/colab-wheels/public/simple/\n",
            "Requirement already satisfied: tensorflow in /usr/local/lib/python3.8/dist-packages (2.9.2)\n",
            "Requirement already satisfied: opt-einsum>=2.3.2 in /usr/local/lib/python3.8/dist-packages (from tensorflow) (3.3.0)\n",
            "Requirement already satisfied: grpcio<2.0,>=1.24.3 in /usr/local/lib/python3.8/dist-packages (from tensorflow) (1.51.1)\n",
            "Requirement already satisfied: google-pasta>=0.1.1 in /usr/local/lib/python3.8/dist-packages (from tensorflow) (0.2.0)\n",
            "Requirement already satisfied: gast<=0.4.0,>=0.2.1 in /usr/local/lib/python3.8/dist-packages (from tensorflow) (0.4.0)\n",
            "Requirement already satisfied: h5py>=2.9.0 in /usr/local/lib/python3.8/dist-packages (from tensorflow) (3.1.0)\n",
            "Requirement already satisfied: keras-preprocessing>=1.1.1 in /usr/local/lib/python3.8/dist-packages (from tensorflow) (1.1.2)\n",
            "Requirement already satisfied: protobuf<3.20,>=3.9.2 in /usr/local/lib/python3.8/dist-packages (from tensorflow) (3.19.6)\n",
            "Requirement already satisfied: flatbuffers<2,>=1.12 in /usr/local/lib/python3.8/dist-packages (from tensorflow) (1.12)\n",
            "Requirement already satisfied: typing-extensions>=3.6.6 in /usr/local/lib/python3.8/dist-packages (from tensorflow) (4.4.0)\n",
            "Requirement already satisfied: astunparse>=1.6.0 in /usr/local/lib/python3.8/dist-packages (from tensorflow) (1.6.3)\n",
            "Requirement already satisfied: tensorflow-estimator<2.10.0,>=2.9.0rc0 in /usr/local/lib/python3.8/dist-packages (from tensorflow) (2.9.0)\n",
            "Requirement already satisfied: libclang>=13.0.0 in /usr/local/lib/python3.8/dist-packages (from tensorflow) (15.0.6.1)\n",
            "Requirement already satisfied: tensorflow-io-gcs-filesystem>=0.23.1 in /usr/local/lib/python3.8/dist-packages (from tensorflow) (0.29.0)\n",
            "Requirement already satisfied: setuptools in /usr/local/lib/python3.8/dist-packages (from tensorflow) (57.4.0)\n",
            "Requirement already satisfied: wrapt>=1.11.0 in /usr/local/lib/python3.8/dist-packages (from tensorflow) (1.14.1)\n",
            "Requirement already satisfied: absl-py>=1.0.0 in /usr/local/lib/python3.8/dist-packages (from tensorflow) (1.3.0)\n",
            "Requirement already satisfied: packaging in /usr/local/lib/python3.8/dist-packages (from tensorflow) (21.3)\n",
            "Requirement already satisfied: six>=1.12.0 in /usr/local/lib/python3.8/dist-packages (from tensorflow) (1.15.0)\n",
            "Requirement already satisfied: numpy>=1.20 in /usr/local/lib/python3.8/dist-packages (from tensorflow) (1.21.6)\n",
            "Requirement already satisfied: tensorboard<2.10,>=2.9 in /usr/local/lib/python3.8/dist-packages (from tensorflow) (2.9.1)\n",
            "Requirement already satisfied: termcolor>=1.1.0 in /usr/local/lib/python3.8/dist-packages (from tensorflow) (2.2.0)\n",
            "Requirement already satisfied: keras<2.10.0,>=2.9.0rc0 in /usr/local/lib/python3.8/dist-packages (from tensorflow) (2.9.0)\n",
            "Requirement already satisfied: wheel<1.0,>=0.23.0 in /usr/local/lib/python3.8/dist-packages (from astunparse>=1.6.0->tensorflow) (0.38.4)\n",
            "Requirement already satisfied: tensorboard-data-server<0.7.0,>=0.6.0 in /usr/local/lib/python3.8/dist-packages (from tensorboard<2.10,>=2.9->tensorflow) (0.6.1)\n",
            "Requirement already satisfied: requests<3,>=2.21.0 in /usr/local/lib/python3.8/dist-packages (from tensorboard<2.10,>=2.9->tensorflow) (2.25.1)\n",
            "Requirement already satisfied: werkzeug>=1.0.1 in /usr/local/lib/python3.8/dist-packages (from tensorboard<2.10,>=2.9->tensorflow) (1.0.1)\n",
            "Requirement already satisfied: tensorboard-plugin-wit>=1.6.0 in /usr/local/lib/python3.8/dist-packages (from tensorboard<2.10,>=2.9->tensorflow) (1.8.1)\n",
            "Requirement already satisfied: markdown>=2.6.8 in /usr/local/lib/python3.8/dist-packages (from tensorboard<2.10,>=2.9->tensorflow) (3.4.1)\n",
            "Requirement already satisfied: google-auth-oauthlib<0.5,>=0.4.1 in /usr/local/lib/python3.8/dist-packages (from tensorboard<2.10,>=2.9->tensorflow) (0.4.6)\n",
            "Requirement already satisfied: google-auth<3,>=1.6.3 in /usr/local/lib/python3.8/dist-packages (from tensorboard<2.10,>=2.9->tensorflow) (2.16.0)\n",
            "Requirement already satisfied: pyparsing!=3.0.5,>=2.0.2 in /usr/local/lib/python3.8/dist-packages (from packaging->tensorflow) (3.0.9)\n",
            "Requirement already satisfied: rsa<5,>=3.1.4 in /usr/local/lib/python3.8/dist-packages (from google-auth<3,>=1.6.3->tensorboard<2.10,>=2.9->tensorflow) (4.9)\n",
            "Requirement already satisfied: cachetools<6.0,>=2.0.0 in /usr/local/lib/python3.8/dist-packages (from google-auth<3,>=1.6.3->tensorboard<2.10,>=2.9->tensorflow) (5.2.1)\n",
            "Requirement already satisfied: pyasn1-modules>=0.2.1 in /usr/local/lib/python3.8/dist-packages (from google-auth<3,>=1.6.3->tensorboard<2.10,>=2.9->tensorflow) (0.2.8)\n",
            "Requirement already satisfied: requests-oauthlib>=0.7.0 in /usr/local/lib/python3.8/dist-packages (from google-auth-oauthlib<0.5,>=0.4.1->tensorboard<2.10,>=2.9->tensorflow) (1.3.1)\n",
            "Requirement already satisfied: importlib-metadata>=4.4 in /usr/local/lib/python3.8/dist-packages (from markdown>=2.6.8->tensorboard<2.10,>=2.9->tensorflow) (6.0.0)\n",
            "Requirement already satisfied: urllib3<1.27,>=1.21.1 in /usr/local/lib/python3.8/dist-packages (from requests<3,>=2.21.0->tensorboard<2.10,>=2.9->tensorflow) (1.24.3)\n",
            "Requirement already satisfied: chardet<5,>=3.0.2 in /usr/local/lib/python3.8/dist-packages (from requests<3,>=2.21.0->tensorboard<2.10,>=2.9->tensorflow) (4.0.0)\n",
            "Requirement already satisfied: certifi>=2017.4.17 in /usr/local/lib/python3.8/dist-packages (from requests<3,>=2.21.0->tensorboard<2.10,>=2.9->tensorflow) (2022.12.7)\n",
            "Requirement already satisfied: idna<3,>=2.5 in /usr/local/lib/python3.8/dist-packages (from requests<3,>=2.21.0->tensorboard<2.10,>=2.9->tensorflow) (2.10)\n",
            "Requirement already satisfied: zipp>=0.5 in /usr/local/lib/python3.8/dist-packages (from importlib-metadata>=4.4->markdown>=2.6.8->tensorboard<2.10,>=2.9->tensorflow) (3.11.0)\n",
            "Requirement already satisfied: pyasn1<0.5.0,>=0.4.6 in /usr/local/lib/python3.8/dist-packages (from pyasn1-modules>=0.2.1->google-auth<3,>=1.6.3->tensorboard<2.10,>=2.9->tensorflow) (0.4.8)\n",
            "Requirement already satisfied: oauthlib>=3.0.0 in /usr/local/lib/python3.8/dist-packages (from requests-oauthlib>=0.7.0->google-auth-oauthlib<0.5,>=0.4.1->tensorboard<2.10,>=2.9->tensorflow) (3.2.2)\n"
          ]
        }
      ]
    },
    {
      "cell_type": "code",
      "execution_count": 2,
      "metadata": {
        "colab": {
          "base_uri": "https://localhost:8080/"
        },
        "id": "1FPrU-kUt6Y5",
        "outputId": "2ecb8197-54d7-4ca0-a1e5-54b3f36fe1dd"
      },
      "outputs": [
        {
          "output_type": "stream",
          "name": "stdout",
          "text": [
            "2.9.2\n"
          ]
        }
      ],
      "source": [
        "import tensorflow as tf\n",
        "import keras \n",
        "print(tf.__version__)"
      ]
    },
    {
      "cell_type": "code",
      "source": [
        "#Set out Training Data"
      ],
      "metadata": {
        "id": "taVTLARsuYkG"
      },
      "execution_count": 3,
      "outputs": []
    },
    {
      "cell_type": "code",
      "source": [
        "import numpy as np\n",
        "X=np.array([1,2,3,4,5,6,7])\n",
        "Y=np.array([3,5,7,9,11,13,15])"
      ],
      "metadata": {
        "id": "s9eC5JdiuoJP"
      },
      "execution_count": 4,
      "outputs": []
    },
    {
      "cell_type": "markdown",
      "source": [
        "** Create Model **"
      ],
      "metadata": {
        "id": "Bf7pFVDovklr"
      }
    },
    {
      "cell_type": "code",
      "source": [
        "l0=tf.keras.layers.Dense(units=1,input_shape=[1])\n",
        "\n"
      ],
      "metadata": {
        "id": "BWFvwkVRvoNj"
      },
      "execution_count": 5,
      "outputs": []
    },
    {
      "cell_type": "markdown",
      "source": [
        "Sequential Models"
      ],
      "metadata": {
        "id": "DpduRuysxjAe"
      }
    },
    {
      "cell_type": "code",
      "source": [
        "model=tf.keras.Sequential(l0)\n"
      ],
      "metadata": {
        "id": "GoUxOv9IxgFJ"
      },
      "execution_count": 6,
      "outputs": []
    },
    {
      "cell_type": "code",
      "source": [
        "model"
      ],
      "metadata": {
        "colab": {
          "base_uri": "https://localhost:8080/"
        },
        "id": "b4f3yjQGzQtq",
        "outputId": "3da177cf-bffb-455e-ee82-60c048e97271"
      },
      "execution_count": 7,
      "outputs": [
        {
          "output_type": "execute_result",
          "data": {
            "text/plain": [
              "<keras.engine.sequential.Sequential at 0x7fece07a1940>"
            ]
          },
          "metadata": {},
          "execution_count": 7
        }
      ]
    },
    {
      "cell_type": "markdown",
      "source": [
        "Compile Model\n",
        "\n",
        "\n",
        "1. Loss Function\n",
        "2. optimiser\n"
      ],
      "metadata": {
        "id": "RAryEbOh0cUY"
      }
    },
    {
      "cell_type": "code",
      "source": [
        "model.compile(loss='mean_squared_error',optimizer=tf.keras.optimizers.Adam(0.1))"
      ],
      "metadata": {
        "id": "MYx_R8Ru0gC-"
      },
      "execution_count": 8,
      "outputs": []
    },
    {
      "cell_type": "code",
      "source": [
        "model.fit(X,Y,epochs=50)"
      ],
      "metadata": {
        "colab": {
          "base_uri": "https://localhost:8080/"
        },
        "id": "tbrXj0aJ50Bs",
        "outputId": "9d3d7b17-9ad4-48b5-c479-8edce489f9f3"
      },
      "execution_count": 9,
      "outputs": [
        {
          "output_type": "stream",
          "name": "stdout",
          "text": [
            "Epoch 1/50\n",
            "1/1 [==============================] - 1s 548ms/step - loss: 43.2125\n",
            "Epoch 2/50\n",
            "1/1 [==============================] - 0s 12ms/step - loss: 36.4233\n",
            "Epoch 3/50\n",
            "1/1 [==============================] - 0s 10ms/step - loss: 30.2327\n",
            "Epoch 4/50\n",
            "1/1 [==============================] - 0s 9ms/step - loss: 24.6487\n",
            "Epoch 5/50\n",
            "1/1 [==============================] - 0s 7ms/step - loss: 19.6756\n",
            "Epoch 6/50\n",
            "1/1 [==============================] - 0s 9ms/step - loss: 15.3127\n",
            "Epoch 7/50\n",
            "1/1 [==============================] - 0s 12ms/step - loss: 11.5537\n",
            "Epoch 8/50\n",
            "1/1 [==============================] - 0s 6ms/step - loss: 8.3859\n",
            "Epoch 9/50\n",
            "1/1 [==============================] - 0s 12ms/step - loss: 5.7889\n",
            "Epoch 10/50\n",
            "1/1 [==============================] - 0s 6ms/step - loss: 3.7345\n",
            "Epoch 11/50\n",
            "1/1 [==============================] - 0s 12ms/step - loss: 2.1857\n",
            "Epoch 12/50\n",
            "1/1 [==============================] - 0s 7ms/step - loss: 1.0967\n",
            "Epoch 13/50\n",
            "1/1 [==============================] - 0s 6ms/step - loss: 0.4138\n",
            "Epoch 14/50\n",
            "1/1 [==============================] - 0s 5ms/step - loss: 0.0760\n",
            "Epoch 15/50\n",
            "1/1 [==============================] - 0s 6ms/step - loss: 0.0175\n",
            "Epoch 16/50\n",
            "1/1 [==============================] - 0s 6ms/step - loss: 0.1699\n",
            "Epoch 17/50\n",
            "1/1 [==============================] - 0s 6ms/step - loss: 0.4657\n",
            "Epoch 18/50\n",
            "1/1 [==============================] - 0s 6ms/step - loss: 0.8410\n",
            "Epoch 19/50\n",
            "1/1 [==============================] - 0s 6ms/step - loss: 1.2393\n",
            "Epoch 20/50\n",
            "1/1 [==============================] - 0s 5ms/step - loss: 1.6135\n",
            "Epoch 21/50\n",
            "1/1 [==============================] - 0s 6ms/step - loss: 1.9276\n",
            "Epoch 22/50\n",
            "1/1 [==============================] - 0s 6ms/step - loss: 2.1574\n",
            "Epoch 23/50\n",
            "1/1 [==============================] - 0s 6ms/step - loss: 2.2902\n",
            "Epoch 24/50\n",
            "1/1 [==============================] - 0s 5ms/step - loss: 2.3235\n",
            "Epoch 25/50\n",
            "1/1 [==============================] - 0s 8ms/step - loss: 2.2634\n",
            "Epoch 26/50\n",
            "1/1 [==============================] - 0s 5ms/step - loss: 2.1226\n",
            "Epoch 27/50\n",
            "1/1 [==============================] - 0s 5ms/step - loss: 1.9181\n",
            "Epoch 28/50\n",
            "1/1 [==============================] - 0s 5ms/step - loss: 1.6695\n",
            "Epoch 29/50\n",
            "1/1 [==============================] - 0s 5ms/step - loss: 1.3968\n",
            "Epoch 30/50\n",
            "1/1 [==============================] - 0s 10ms/step - loss: 1.1190\n",
            "Epoch 31/50\n",
            "1/1 [==============================] - 0s 5ms/step - loss: 0.8530\n",
            "Epoch 32/50\n",
            "1/1 [==============================] - 0s 5ms/step - loss: 0.6126\n",
            "Epoch 33/50\n",
            "1/1 [==============================] - 0s 5ms/step - loss: 0.4077\n",
            "Epoch 34/50\n",
            "1/1 [==============================] - 0s 5ms/step - loss: 0.2446\n",
            "Epoch 35/50\n",
            "1/1 [==============================] - 0s 5ms/step - loss: 0.1257\n",
            "Epoch 36/50\n",
            "1/1 [==============================] - 0s 5ms/step - loss: 0.0499\n",
            "Epoch 37/50\n",
            "1/1 [==============================] - 0s 8ms/step - loss: 0.0131\n",
            "Epoch 38/50\n",
            "1/1 [==============================] - 0s 8ms/step - loss: 0.0091\n",
            "Epoch 39/50\n",
            "1/1 [==============================] - 0s 5ms/step - loss: 0.0302\n",
            "Epoch 40/50\n",
            "1/1 [==============================] - 0s 5ms/step - loss: 0.0681\n",
            "Epoch 41/50\n",
            "1/1 [==============================] - 0s 5ms/step - loss: 0.1145\n",
            "Epoch 42/50\n",
            "1/1 [==============================] - 0s 6ms/step - loss: 0.1620\n",
            "Epoch 43/50\n",
            "1/1 [==============================] - 0s 5ms/step - loss: 0.2043\n",
            "Epoch 44/50\n",
            "1/1 [==============================] - 0s 5ms/step - loss: 0.2370\n",
            "Epoch 45/50\n",
            "1/1 [==============================] - 0s 6ms/step - loss: 0.2573\n",
            "Epoch 46/50\n",
            "1/1 [==============================] - 0s 6ms/step - loss: 0.2639\n",
            "Epoch 47/50\n",
            "1/1 [==============================] - 0s 8ms/step - loss: 0.2574\n",
            "Epoch 48/50\n",
            "1/1 [==============================] - 0s 5ms/step - loss: 0.2394\n",
            "Epoch 49/50\n",
            "1/1 [==============================] - 0s 5ms/step - loss: 0.2125\n",
            "Epoch 50/50\n",
            "1/1 [==============================] - 0s 10ms/step - loss: 0.1798\n"
          ]
        },
        {
          "output_type": "execute_result",
          "data": {
            "text/plain": [
              "<keras.callbacks.History at 0x7feccefad730>"
            ]
          },
          "metadata": {},
          "execution_count": 9
        }
      ]
    },
    {
      "cell_type": "code",
      "source": [
        "Y_hat=model.predict([10])"
      ],
      "metadata": {
        "colab": {
          "base_uri": "https://localhost:8080/"
        },
        "id": "O5K8WWPA7kTJ",
        "outputId": "66ee82f1-62a9-40ac-b38e-90d08f6e2b6a"
      },
      "execution_count": 11,
      "outputs": [
        {
          "output_type": "stream",
          "name": "stdout",
          "text": [
            "1/1 [==============================] - 0s 30ms/step\n"
          ]
        }
      ]
    },
    {
      "cell_type": "code",
      "source": [
        "Y_hat"
      ],
      "metadata": {
        "colab": {
          "base_uri": "https://localhost:8080/"
        },
        "id": "WHaxvmuS6CW8",
        "outputId": "9fb8b9b5-4291-4c78-8cbd-e5a3fbf3cfab"
      },
      "execution_count": 12,
      "outputs": [
        {
          "output_type": "execute_result",
          "data": {
            "text/plain": [
              "array([[20.056105]], dtype=float32)"
            ]
          },
          "metadata": {},
          "execution_count": 12
        }
      ]
    },
    {
      "cell_type": "code",
      "source": [
        "l0.get_weights()"
      ],
      "metadata": {
        "colab": {
          "base_uri": "https://localhost:8080/"
        },
        "id": "TQ-o7XGh6Ekn",
        "outputId": "7fde73e7-558c-4040-f6d6-d26eb409dbd5"
      },
      "execution_count": 14,
      "outputs": [
        {
          "output_type": "execute_result",
          "data": {
            "text/plain": [
              "[array([[1.895619]], dtype=float32), array([1.099914], dtype=float32)]"
            ]
          },
          "metadata": {},
          "execution_count": 14
        }
      ]
    },
    {
      "cell_type": "markdown",
      "source": [
        "Model 2"
      ],
      "metadata": {
        "id": "dq2OPuqo936r"
      }
    },
    {
      "cell_type": "code",
      "source": [
        "X=np.array([1,2,3,4,5,6,7])\n",
        "Y=np.array([3,5,7,9,11,13,15])\n",
        "\n",
        "l0=tf.keras.layers.Dense(units=4,input_shap=[1])\n",
        "l1=tf.keras.layers.Dense(units=4)\n",
        "l2=tf.keras.layers.Dense(units=1)\n",
        "\n",
        "import tensoflow as tf\n",
        "model=tf.keras.Sequental([10,11,12])\n",
        "\n",
        "model.copile(loss=\"mean_squared_error\",optimizer=tf.keras.optimizer.Adam(0.1))\n",
        "\n",
        "model.fit(X,Y,EPOCHS=50)\n",
        "y+hat=model.predict([10])\n",
        "print(y_hat)"
      ],
      "metadata": {
        "id": "5g8Cv-gszktQ"
      },
      "execution_count": null,
      "outputs": []
    },
    {
      "cell_type": "code",
      "source": [
        "\n",
        "X=np.array([1,2,3,4,5,6,7])\n",
        "Y=np.array([3,5,7,9,11,13,15])\n",
        "\n",
        "l0=tf.keras.layers.Dense(units=4,input_shape=[1])\n",
        "l1=tf.keras.layers.Dense(units=4)\n",
        "l2=tf.keras.layers.Dense(units=1)\n",
        "\n",
        "import tensorflow as tf\n",
        "model=tf.keras.Sequential([l0,l1,l2])\n",
        "\n",
        "model.compile(loss='mean_squared_error',optimizer=tf.keras.optimizers.Adam(0.1))\n",
        "\n",
        "model.fit(X,Y,epochs=50)\n",
        "y_hat=model.predict([10])\n",
        "print(y_hat)"
      ],
      "metadata": {
        "colab": {
          "base_uri": "https://localhost:8080/"
        },
        "id": "hLG1xEVl95nm",
        "outputId": "fa4d4708-adec-41f1-fef1-cf1a0f07663b"
      },
      "execution_count": 16,
      "outputs": [
        {
          "output_type": "stream",
          "name": "stdout",
          "text": [
            "Epoch 1/50\n",
            "1/1 [==============================] - 0s 398ms/step - loss: 33.6216\n",
            "Epoch 2/50\n",
            "1/1 [==============================] - 0s 7ms/step - loss: 3.5347\n",
            "Epoch 3/50\n",
            "1/1 [==============================] - 0s 8ms/step - loss: 18.0246\n",
            "Epoch 4/50\n",
            "1/1 [==============================] - 0s 5ms/step - loss: 3.6963\n",
            "Epoch 5/50\n",
            "1/1 [==============================] - 0s 8ms/step - loss: 0.6099\n",
            "Epoch 6/50\n",
            "1/1 [==============================] - 0s 5ms/step - loss: 5.6912\n",
            "Epoch 7/50\n",
            "1/1 [==============================] - 0s 5ms/step - loss: 8.0110\n",
            "Epoch 8/50\n",
            "1/1 [==============================] - 0s 5ms/step - loss: 5.8115\n",
            "Epoch 9/50\n",
            "1/1 [==============================] - 0s 5ms/step - loss: 2.0015\n",
            "Epoch 10/50\n",
            "1/1 [==============================] - 0s 8ms/step - loss: 0.0164\n",
            "Epoch 11/50\n",
            "1/1 [==============================] - 0s 6ms/step - loss: 1.2355\n",
            "Epoch 12/50\n",
            "1/1 [==============================] - 0s 6ms/step - loss: 3.4436\n",
            "Epoch 13/50\n",
            "1/1 [==============================] - 0s 8ms/step - loss: 3.5168\n",
            "Epoch 14/50\n",
            "1/1 [==============================] - 0s 6ms/step - loss: 1.6651\n",
            "Epoch 15/50\n",
            "1/1 [==============================] - 0s 7ms/step - loss: 0.1747\n",
            "Epoch 16/50\n",
            "1/1 [==============================] - 0s 6ms/step - loss: 0.1878\n",
            "Epoch 17/50\n",
            "1/1 [==============================] - 0s 7ms/step - loss: 1.1211\n",
            "Epoch 18/50\n",
            "1/1 [==============================] - 0s 6ms/step - loss: 1.8761\n",
            "Epoch 19/50\n",
            "1/1 [==============================] - 0s 6ms/step - loss: 1.8448\n",
            "Epoch 20/50\n",
            "1/1 [==============================] - 0s 6ms/step - loss: 1.1323\n",
            "Epoch 21/50\n",
            "1/1 [==============================] - 0s 7ms/step - loss: 0.3148\n",
            "Epoch 22/50\n",
            "1/1 [==============================] - 0s 10ms/step - loss: 0.0028\n",
            "Epoch 23/50\n",
            "1/1 [==============================] - 0s 7ms/step - loss: 0.3564\n",
            "Epoch 24/50\n",
            "1/1 [==============================] - 0s 7ms/step - loss: 0.9009\n",
            "Epoch 25/50\n",
            "1/1 [==============================] - 0s 7ms/step - loss: 1.0080\n",
            "Epoch 26/50\n",
            "1/1 [==============================] - 0s 7ms/step - loss: 0.5952\n",
            "Epoch 27/50\n",
            "1/1 [==============================] - 0s 7ms/step - loss: 0.1266\n",
            "Epoch 28/50\n",
            "1/1 [==============================] - 0s 7ms/step - loss: 0.0138\n",
            "Epoch 29/50\n",
            "1/1 [==============================] - 0s 11ms/step - loss: 0.2418\n",
            "Epoch 30/50\n",
            "1/1 [==============================] - 0s 13ms/step - loss: 0.5079\n",
            "Epoch 31/50\n",
            "1/1 [==============================] - 0s 10ms/step - loss: 0.5526\n",
            "Epoch 32/50\n",
            "1/1 [==============================] - 0s 9ms/step - loss: 0.3532\n",
            "Epoch 33/50\n",
            "1/1 [==============================] - 0s 7ms/step - loss: 0.0974\n",
            "Epoch 34/50\n",
            "1/1 [==============================] - 0s 7ms/step - loss: 0.0037\n",
            "Epoch 35/50\n",
            "1/1 [==============================] - 0s 38ms/step - loss: 0.1215\n",
            "Epoch 36/50\n",
            "1/1 [==============================] - 0s 37ms/step - loss: 0.2850\n",
            "Epoch 37/50\n",
            "1/1 [==============================] - 0s 9ms/step - loss: 0.2997\n",
            "Epoch 38/50\n",
            "1/1 [==============================] - 0s 9ms/step - loss: 0.1591\n",
            "Epoch 39/50\n",
            "1/1 [==============================] - 0s 6ms/step - loss: 0.0234\n",
            "Epoch 40/50\n",
            "1/1 [==============================] - 0s 6ms/step - loss: 0.0162\n",
            "Epoch 41/50\n",
            "1/1 [==============================] - 0s 6ms/step - loss: 0.1068\n",
            "Epoch 42/50\n",
            "1/1 [==============================] - 0s 7ms/step - loss: 0.1767\n",
            "Epoch 43/50\n",
            "1/1 [==============================] - 0s 6ms/step - loss: 0.1522\n",
            "Epoch 44/50\n",
            "1/1 [==============================] - 0s 6ms/step - loss: 0.0644\n",
            "Epoch 45/50\n",
            "1/1 [==============================] - 0s 7ms/step - loss: 0.0040\n",
            "Epoch 46/50\n",
            "1/1 [==============================] - 0s 6ms/step - loss: 0.0226\n",
            "Epoch 47/50\n",
            "1/1 [==============================] - 0s 6ms/step - loss: 0.0814\n",
            "Epoch 48/50\n",
            "1/1 [==============================] - 0s 6ms/step - loss: 0.1022\n",
            "Epoch 49/50\n",
            "1/1 [==============================] - 0s 6ms/step - loss: 0.0620\n",
            "Epoch 50/50\n",
            "1/1 [==============================] - 0s 6ms/step - loss: 0.0114\n",
            "1/1 [==============================] - 0s 120ms/step\n",
            "[[20.822166]]\n"
          ]
        }
      ]
    },
    {
      "cell_type": "code",
      "source": [
        "y_hat"
      ],
      "metadata": {
        "colab": {
          "base_uri": "https://localhost:8080/"
        },
        "id": "0KnAaUuN_AwK",
        "outputId": "c72b0222-12b5-453d-ae56-12665c4a2c65"
      },
      "execution_count": 17,
      "outputs": [
        {
          "output_type": "execute_result",
          "data": {
            "text/plain": [
              "array([[20.822166]], dtype=float32)"
            ]
          },
          "metadata": {},
          "execution_count": 17
        }
      ]
    },
    {
      "cell_type": "code",
      "source": [
        "l0.get_weights()"
      ],
      "metadata": {
        "colab": {
          "base_uri": "https://localhost:8080/"
        },
        "id": "X3FOd_CbAF6h",
        "outputId": "6587fdbc-fbe2-4164-dcea-f18cbbd5d99b"
      },
      "execution_count": 20,
      "outputs": [
        {
          "output_type": "execute_result",
          "data": {
            "text/plain": [
              "[array([[0.05575496, 0.47613376, 1.0287367 , 0.50593096]], dtype=float32),\n",
              " array([-0.4755208 , -0.55015093,  0.08566988,  0.10435163], dtype=float32)]"
            ]
          },
          "metadata": {},
          "execution_count": 20
        }
      ]
    },
    {
      "cell_type": "code",
      "source": [
        "l1.get_weights()\n"
      ],
      "metadata": {
        "id": "0p9_8636ARIA",
        "outputId": "9212571f-5925-4dad-aa86-6d61017d7c49",
        "colab": {
          "base_uri": "https://localhost:8080/"
        }
      },
      "execution_count": 21,
      "outputs": [
        {
          "output_type": "execute_result",
          "data": {
            "text/plain": [
              "[array([[ 0.02859687,  0.00852909,  0.8356164 , -0.23127457],\n",
              "        [-0.08875041, -0.88820374, -0.21536902, -0.21804954],\n",
              "        [-0.7346085 , -0.3089071 ,  0.24249932,  0.70423156],\n",
              "        [-0.845645  ,  0.8821765 , -0.18475692,  0.8859168 ]],\n",
              "       dtype=float32),\n",
              " array([-0.2525846 , -0.1164773 ,  0.21651036,  0.24670948], dtype=float32)]"
            ]
          },
          "metadata": {},
          "execution_count": 21
        }
      ]
    },
    {
      "cell_type": "code",
      "source": [
        "l2.get_weights()"
      ],
      "metadata": {
        "id": "vExOJhacAUwI",
        "outputId": "032a0f94-6b84-41f3-fd6c-a03323054b0e",
        "colab": {
          "base_uri": "https://localhost:8080/"
        }
      },
      "execution_count": 22,
      "outputs": [
        {
          "output_type": "execute_result",
          "data": {
            "text/plain": [
              "[array([[-0.8498501 ],\n",
              "        [-0.28208604],\n",
              "        [ 0.13044874],\n",
              "        [ 0.7968369 ]], dtype=float32), array([0.35981375], dtype=float32)]"
            ]
          },
          "metadata": {},
          "execution_count": 22
        }
      ]
    }
  ]
}