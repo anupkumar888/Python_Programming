{
  "nbformat": 4,
  "nbformat_minor": 0,
  "metadata": {
    "colab": {
      "provenance": [],
      "include_colab_link": true
    },
    "kernelspec": {
      "display_name": "Python 3",
      "language": "python",
      "name": "python3"
    },
    "language_info": {
      "codemirror_mode": {
        "name": "ipython",
        "version": 3
      },
      "file_extension": ".py",
      "mimetype": "text/x-python",
      "name": "python",
      "nbconvert_exporter": "python",
      "pygments_lexer": "ipython3",
      "version": "3.7.5rc1"
    },
    "gpuClass": "standard"
  },
  "cells": [
    {
      "cell_type": "markdown",
      "metadata": {
        "id": "view-in-github",
        "colab_type": "text"
      },
      "source": [
        "<a href=\"https://colab.research.google.com/github/anupkumar888/Python_Programming/blob/Python-programming/3_MNIST_Callbacks__Notebook_Practice_789idi.ipynb\" target=\"_parent\"><img src=\"https://colab.research.google.com/assets/colab-badge.svg\" alt=\"Open In Colab\"/></a>"
      ]
    },
    {
      "cell_type": "code",
      "metadata": {
        "id": "N9-BCmi15L93",
        "colab": {
          "base_uri": "https://localhost:8080/"
        },
        "outputId": "f0baf889-c7b6-4fdb-dba3-596381be64f7"
      },
      "source": [
        "import tensorflow as tf\n",
        "\n",
        "class myCallback(tf.keras.callbacks.Callback):\n",
        "  def on_epoch_end(self, epoch, logs={}):\n",
        "    if(logs.get('loss')<0.2):\n",
        "      print(\"\\nReached Required accuracy so cancelling training!\")\n",
        "      self.model.stop_training = True\n",
        "\n",
        "mnist = tf.keras.datasets.fashion_mnist\n",
        "\n",
        "(x_train, y_train),(x_test, y_test) = mnist.load_data()\n",
        "x_train, x_test = x_train / 255.0, x_test / 255.0\n",
        "\n",
        "model = tf.keras.models.Sequential([\n",
        "  tf.keras.layers.Flatten(input_shape=(28, 28)),\n",
        "  tf.keras.layers.Dense(512, activation=tf.nn.relu),\n",
        "  tf.keras.layers.Dense(10, activation=tf.nn.softmax)\n",
        "])\n",
        "model.compile(optimizer=tf.optimizers.Adam(),\n",
        "              loss='sparse_categorical_crossentropy',\n",
        "              metrics=['accuracy'])\n",
        "\n",
        "model.fit(x_train, y_train, epochs=17, callbacks=[myCallback()])"
      ],
      "execution_count": null,
      "outputs": [
        {
          "output_type": "stream",
          "name": "stdout",
          "text": [
            "Epoch 1/17\n",
            "1875/1875 [==============================] - 11s 6ms/step - loss: 0.4778 - accuracy: 0.8301\n",
            "Epoch 2/17\n",
            "1875/1875 [==============================] - 11s 6ms/step - loss: 0.3605 - accuracy: 0.8689\n",
            "Epoch 3/17\n",
            "1875/1875 [==============================] - 10s 5ms/step - loss: 0.3240 - accuracy: 0.8804\n",
            "Epoch 4/17\n",
            "1875/1875 [==============================] - 11s 6ms/step - loss: 0.3000 - accuracy: 0.8882\n",
            "Epoch 5/17\n",
            "1875/1875 [==============================] - 11s 6ms/step - loss: 0.2818 - accuracy: 0.8941\n",
            "Epoch 6/17\n",
            "1875/1875 [==============================] - 11s 6ms/step - loss: 0.2694 - accuracy: 0.8988\n",
            "Epoch 7/17\n",
            "1875/1875 [==============================] - 11s 6ms/step - loss: 0.2526 - accuracy: 0.9057\n",
            "Epoch 8/17\n",
            "1875/1875 [==============================] - 11s 6ms/step - loss: 0.2431 - accuracy: 0.9096\n",
            "Epoch 9/17\n",
            "1875/1875 [==============================] - 11s 6ms/step - loss: 0.2334 - accuracy: 0.9125\n",
            "Epoch 10/17\n",
            "1875/1875 [==============================] - 11s 6ms/step - loss: 0.2230 - accuracy: 0.9159\n",
            "Epoch 11/17\n",
            "1875/1875 [==============================] - 11s 6ms/step - loss: 0.2121 - accuracy: 0.9196\n",
            "Epoch 12/17\n",
            "1875/1875 [==============================] - 11s 6ms/step - loss: 0.2062 - accuracy: 0.9217\n",
            "Epoch 13/17\n",
            "1873/1875 [============================>.] - ETA: 0s - loss: 0.1982 - accuracy: 0.9256\n",
            "Reached Required accuracy so cancelling training!\n",
            "1875/1875 [==============================] - 11s 6ms/step - loss: 0.1982 - accuracy: 0.9256\n"
          ]
        },
        {
          "output_type": "execute_result",
          "data": {
            "text/plain": [
              "<keras.callbacks.History at 0x7fac5578b5e0>"
            ]
          },
          "metadata": {},
          "execution_count": 21
        }
      ]
    },
    {
      "cell_type": "code",
      "source": [
        "model.fit(x_train, y_train, epochs=17)"
      ],
      "metadata": {
        "id": "-cnKyXEg4M2o",
        "colab": {
          "base_uri": "https://localhost:8080/"
        },
        "outputId": "2d774610-bbaa-4c37-f8bf-d47f72d229ae"
      },
      "execution_count": null,
      "outputs": [
        {
          "output_type": "stream",
          "name": "stdout",
          "text": [
            "Epoch 1/17\n",
            "1875/1875 [==============================] - 10s 5ms/step - loss: 0.1907 - accuracy: 0.9277\n",
            "Epoch 2/17\n",
            "1875/1875 [==============================] - 10s 5ms/step - loss: 0.1854 - accuracy: 0.9313\n",
            "Epoch 3/17\n",
            "1875/1875 [==============================] - 10s 5ms/step - loss: 0.1792 - accuracy: 0.9322\n",
            "Epoch 4/17\n",
            "1875/1875 [==============================] - 10s 5ms/step - loss: 0.1723 - accuracy: 0.9354\n",
            "Epoch 5/17\n",
            "1875/1875 [==============================] - 11s 6ms/step - loss: 0.1673 - accuracy: 0.9373\n",
            "Epoch 6/17\n",
            "1875/1875 [==============================] - 11s 6ms/step - loss: 0.1634 - accuracy: 0.9386\n",
            "Epoch 7/17\n",
            "1875/1875 [==============================] - 10s 6ms/step - loss: 0.1578 - accuracy: 0.9406\n",
            "Epoch 8/17\n",
            "1875/1875 [==============================] - 11s 6ms/step - loss: 0.1553 - accuracy: 0.9413\n",
            "Epoch 9/17\n",
            "1875/1875 [==============================] - 10s 6ms/step - loss: 0.1475 - accuracy: 0.9446\n",
            "Epoch 10/17\n",
            "1875/1875 [==============================] - 10s 6ms/step - loss: 0.1445 - accuracy: 0.9451\n",
            "Epoch 11/17\n",
            "1875/1875 [==============================] - 11s 6ms/step - loss: 0.1410 - accuracy: 0.9467\n",
            "Epoch 12/17\n",
            "1875/1875 [==============================] - 10s 6ms/step - loss: 0.1369 - accuracy: 0.9484\n",
            "Epoch 13/17\n",
            "1875/1875 [==============================] - 10s 5ms/step - loss: 0.1342 - accuracy: 0.9496\n",
            "Epoch 14/17\n",
            "1875/1875 [==============================] - 10s 5ms/step - loss: 0.1287 - accuracy: 0.9513\n",
            "Epoch 15/17\n",
            "1875/1875 [==============================] - 11s 6ms/step - loss: 0.1249 - accuracy: 0.9531\n",
            "Epoch 16/17\n",
            "1875/1875 [==============================] - 11s 6ms/step - loss: 0.1227 - accuracy: 0.9542\n",
            "Epoch 17/17\n",
            "1875/1875 [==============================] - 11s 6ms/step - loss: 0.1184 - accuracy: 0.9554\n"
          ]
        },
        {
          "output_type": "execute_result",
          "data": {
            "text/plain": [
              "<keras.callbacks.History at 0x7fac58f2a340>"
            ]
          },
          "metadata": {},
          "execution_count": 22
        }
      ]
    }
  ]
}