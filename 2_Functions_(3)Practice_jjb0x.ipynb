{
  "nbformat": 4,
  "nbformat_minor": 0,
  "metadata": {
    "colab": {
      "provenance": [],
      "collapsed_sections": [],
      "include_colab_link": true
    },
    "kernelspec": {
      "name": "python3",
      "display_name": "Python 3"
    },
    "language_info": {
      "name": "python"
    }
  },
  "cells": [
    {
      "cell_type": "markdown",
      "metadata": {
        "id": "view-in-github",
        "colab_type": "text"
      },
      "source": [
        "<a href=\"https://colab.research.google.com/github/anupkumar888/Python_Programming/blob/Python-programming/2_Functions_(3)Practice_jjb0x.ipynb\" target=\"_parent\"><img src=\"https://colab.research.google.com/assets/colab-badge.svg\" alt=\"Open In Colab\"/></a>"
      ]
    },
    {
      "cell_type": "code",
      "execution_count": null,
      "metadata": {
        "id": "X4628SK-dVe4"
      },
      "outputs": [],
      "source": [
        "#Functions\n",
        "def show():\n",
        "  print(\"War of World\")"
      ]
    },
    {
      "cell_type": "code",
      "source": [
        "show()\n"
      ],
      "metadata": {
        "colab": {
          "base_uri": "https://localhost:8080/"
        },
        "id": "EcoaIqzhexvx",
        "outputId": "27a869bb-0b2b-4f58-9c4f-f8cd7999907e"
      },
      "execution_count": null,
      "outputs": [
        {
          "output_type": "stream",
          "name": "stdout",
          "text": [
            "War of World\n"
          ]
        }
      ]
    },
    {
      "cell_type": "code",
      "source": [
        "#write a function to increment a number by  20\n",
        "#User define input from user"
      ],
      "metadata": {
        "id": "OnHLagbHe5wR"
      },
      "execution_count": null,
      "outputs": []
    },
    {
      "cell_type": "code",
      "source": [
        "d=int(input(\"Enter the no:\\t\"))"
      ],
      "metadata": {
        "colab": {
          "base_uri": "https://localhost:8080/"
        },
        "id": "3w75T9xTfc9M",
        "outputId": "4c81867e-9907-4faf-8ff8-f491041c92db"
      },
      "execution_count": null,
      "outputs": [
        {
          "name": "stdout",
          "output_type": "stream",
          "text": [
            "Enter the no:\t339\n"
          ]
        }
      ]
    },
    {
      "cell_type": "code",
      "source": [
        "d"
      ],
      "metadata": {
        "colab": {
          "base_uri": "https://localhost:8080/"
        },
        "id": "VlA4ZPWsfspH",
        "outputId": "733c3831-48b0-4118-82be-465c51d448c7"
      },
      "execution_count": null,
      "outputs": [
        {
          "output_type": "execute_result",
          "data": {
            "text/plain": [
              "339"
            ]
          },
          "metadata": {},
          "execution_count": 8
        }
      ]
    },
    {
      "cell_type": "code",
      "source": [
        "print(d)"
      ],
      "metadata": {
        "colab": {
          "base_uri": "https://localhost:8080/"
        },
        "id": "FSPHq8p5f29_",
        "outputId": "ab5abf33-2046-4fa3-bd27-4706c863ea47"
      },
      "execution_count": null,
      "outputs": [
        {
          "output_type": "stream",
          "name": "stdout",
          "text": [
            "339\n"
          ]
        }
      ]
    },
    {
      "cell_type": "code",
      "source": [
        "type(d)"
      ],
      "metadata": {
        "colab": {
          "base_uri": "https://localhost:8080/"
        },
        "id": "PuEiMqpygAu8",
        "outputId": "6f21c09d-9345-4f74-f5a4-7dde9abad3b2"
      },
      "execution_count": null,
      "outputs": [
        {
          "output_type": "execute_result",
          "data": {
            "text/plain": [
              "int"
            ]
          },
          "metadata": {},
          "execution_count": 11
        }
      ]
    },
    {
      "cell_type": "code",
      "source": [
        "d**2"
      ],
      "metadata": {
        "colab": {
          "base_uri": "https://localhost:8080/"
        },
        "id": "rQpaXO9ygDib",
        "outputId": "55bb4eef-814a-4307-f7ca-8bbbb8abc09d"
      },
      "execution_count": null,
      "outputs": [
        {
          "output_type": "execute_result",
          "data": {
            "text/plain": [
              "114921"
            ]
          },
          "metadata": {},
          "execution_count": 12
        }
      ]
    },
    {
      "cell_type": "code",
      "source": [
        "# Type Casting "
      ],
      "metadata": {
        "id": "gCa4jgtH6n2s"
      },
      "execution_count": null,
      "outputs": []
    },
    {
      "cell_type": "code",
      "source": [
        "x=3\n",
        "y=6.7\n",
        "z=9j\n"
      ],
      "metadata": {
        "id": "Ri0i8iI2gN6Q"
      },
      "execution_count": null,
      "outputs": []
    },
    {
      "cell_type": "code",
      "source": [
        "p=(int(y))\n",
        "print(p)"
      ],
      "metadata": {
        "colab": {
          "base_uri": "https://localhost:8080/"
        },
        "id": "cyP7tmHqr7VF",
        "outputId": "8b32ac64-7d76-4bd4-f5cc-5cb2b9b9b3af"
      },
      "execution_count": null,
      "outputs": [
        {
          "output_type": "stream",
          "name": "stdout",
          "text": [
            "6\n"
          ]
        }
      ]
    },
    {
      "cell_type": "code",
      "source": [
        "h=float(x)\n",
        "print(h)"
      ],
      "metadata": {
        "colab": {
          "base_uri": "https://localhost:8080/"
        },
        "id": "5QVF8pYcsE1G",
        "outputId": "fdefdc2b-10bd-4f48-cfd6-69ad6741f1ad"
      },
      "execution_count": null,
      "outputs": [
        {
          "output_type": "stream",
          "name": "stdout",
          "text": [
            "3.0\n"
          ]
        }
      ]
    },
    {
      "cell_type": "code",
      "source": [
        "\n",
        "n=complex(x)\n",
        "print(n)"
      ],
      "metadata": {
        "colab": {
          "base_uri": "https://localhost:8080/"
        },
        "id": "byo3qcNbsg_D",
        "outputId": "76d9cc9b-7e97-4bb6-f63a-97f70cde1b34"
      },
      "execution_count": null,
      "outputs": [
        {
          "output_type": "stream",
          "name": "stdout",
          "text": [
            "(3+0j)\n"
          ]
        }
      ]
    },
    {
      "cell_type": "code",
      "source": [
        "# Add of 2 user defined no"
      ],
      "metadata": {
        "id": "URXR2ok-7GMz"
      },
      "execution_count": null,
      "outputs": []
    },
    {
      "cell_type": "code",
      "source": [
        "x=int(input(\"Enter a no\\t\"))\n",
        "y=int(input(\"Enter a no\\t\"))\n",
        "z=x+y\n",
        "print(\"Add=\\t\",z)"
      ],
      "metadata": {
        "colab": {
          "base_uri": "https://localhost:8080/"
        },
        "id": "c1VJUR62ssfv",
        "outputId": "d6e785e7-85db-43ed-c6a2-1e9dffd4593f"
      },
      "execution_count": null,
      "outputs": [
        {
          "output_type": "stream",
          "name": "stdout",
          "text": [
            "Enter a no\t22\n",
            "Enter a no\t44\n",
            "Add=\t 66\n"
          ]
        }
      ]
    },
    {
      "cell_type": "code",
      "source": [
        "# Add of 2 user defined no using a Function"
      ],
      "metadata": {
        "id": "EviVnVmT7fgv"
      },
      "execution_count": null,
      "outputs": []
    },
    {
      "cell_type": "code",
      "source": [
        "def add(x,y):\n",
        "  z=x+y\n",
        "  return (z)"
      ],
      "metadata": {
        "id": "kgKH6B94usY6"
      },
      "execution_count": null,
      "outputs": []
    },
    {
      "cell_type": "code",
      "source": [
        "num1= int(input(\"Enter the first number:\"))\n",
        "num2= int(input(\"Enter the second number:\"))\n",
        "ans= add(num1,num2)\n",
        "print(ans)"
      ],
      "metadata": {
        "colab": {
          "base_uri": "https://localhost:8080/"
        },
        "id": "MWb2feDlvLsk",
        "outputId": "97e0eb68-e567-4d9d-fe67-e53a81dad7e4"
      },
      "execution_count": null,
      "outputs": [
        {
          "output_type": "stream",
          "name": "stdout",
          "text": [
            "Enter the first number:111\n",
            "Enter the second number:888\n",
            "999\n"
          ]
        }
      ]
    },
    {
      "cell_type": "code",
      "source": [
        "# Comapre 2 using If else with User Defined no\n"
      ],
      "metadata": {
        "id": "bGUSUdbg8e4R"
      },
      "execution_count": null,
      "outputs": []
    },
    {
      "cell_type": "code",
      "source": [
        "def cmp(x,y):\n",
        "  if(x>y):\n",
        "    print(\"X is big\")\n",
        "  else:\n",
        "    print(\"Y is big\")  "
      ],
      "metadata": {
        "id": "YjdqkEGdxHRM"
      },
      "execution_count": null,
      "outputs": []
    },
    {
      "cell_type": "code",
      "source": [
        "x= int(input(\"Enter the value of number:\\t\"))\n",
        "y= int(input(\"Enter the value of number:\\t\"))\n",
        "cmp(x,y)"
      ],
      "metadata": {
        "colab": {
          "base_uri": "https://localhost:8080/"
        },
        "id": "hQclV92mu7bT",
        "outputId": "92db8e9d-1370-4cc2-9e26-3493dfaf7f2c"
      },
      "execution_count": null,
      "outputs": [
        {
          "output_type": "stream",
          "name": "stdout",
          "text": [
            "Enter the value of number:\t33\n",
            "Enter the value of number:\t99\n",
            "Y is big\n"
          ]
        }
      ]
    },
    {
      "cell_type": "code",
      "source": [
        "# Write a code to display first 10 Odd No using Function and for loop"
      ],
      "metadata": {
        "id": "Y3Q8zwRn9s8-"
      },
      "execution_count": null,
      "outputs": []
    },
    {
      "cell_type": "code",
      "source": [
        "def display():\n",
        "  for i in range(0,10):\n",
        "    print((i*2+1),\"\\t\")\n",
        "\n",
        "display()\n"
      ],
      "metadata": {
        "colab": {
          "base_uri": "https://localhost:8080/"
        },
        "id": "Raua0TI3x3v8",
        "outputId": "46bc7161-7575-4965-c1a2-b0174eb28132"
      },
      "execution_count": null,
      "outputs": [
        {
          "output_type": "stream",
          "name": "stdout",
          "text": [
            "1 \t\n",
            "3 \t\n",
            "5 \t\n",
            "7 \t\n",
            "9 \t\n",
            "11 \t\n",
            "13 \t\n",
            "15 \t\n",
            "17 \t\n",
            "19 \t\n"
          ]
        }
      ]
    },
    {
      "cell_type": "code",
      "source": [
        "#Odd number between 1 to 20\n",
        "def display():\n",
        "  for i in range(1,20,2,):\n",
        "    print(i,\"\\t\")\n",
        "\n",
        "display()"
      ],
      "metadata": {
        "colab": {
          "base_uri": "https://localhost:8080/"
        },
        "id": "cwbREk8x-hHW",
        "outputId": "5498fd6c-8e41-4772-eb3d-0f6f9bf3d9e6"
      },
      "execution_count": null,
      "outputs": [
        {
          "output_type": "stream",
          "name": "stdout",
          "text": [
            "1 \t\n",
            "3 \t\n",
            "5 \t\n",
            "7 \t\n",
            "9 \t\n",
            "11 \t\n",
            "13 \t\n",
            "15 \t\n",
            "17 \t\n",
            "19 \t\n"
          ]
        }
      ]
    },
    {
      "cell_type": "markdown",
      "source": [
        "# Default Parameter Value"
      ],
      "metadata": {
        "id": "lrf7zsOtUnZw"
      }
    },
    {
      "cell_type": "code",
      "source": [
        "def my_function(country= \"GERMANY\"):\n",
        "  print(\"My Country:\" + country)\n",
        "\n",
        "\n",
        "#my_function(\"India\")\n",
        "my_function()\n",
        "my_function(\"Brazil\")\n"
      ],
      "metadata": {
        "colab": {
          "base_uri": "https://localhost:8080/"
        },
        "id": "WMFrOWlM0Hrq",
        "outputId": "1801d117-f104-4cd0-f4b6-51936c0e0277"
      },
      "execution_count": null,
      "outputs": [
        {
          "output_type": "stream",
          "name": "stdout",
          "text": [
            "My Country:GERMANY\n",
            "My Country:Brazil\n"
          ]
        }
      ]
    },
    {
      "cell_type": "markdown",
      "source": [
        "# Passing a List as an Argument"
      ],
      "metadata": {
        "id": "xDrpyzN2VE6Y"
      }
    },
    {
      "cell_type": "code",
      "source": [
        "def my_function(temp):\n",
        "  for x in temp:\n",
        "    print(x)\n",
        "rdt=[\"RDT\",\"POR\",999,44]\n",
        "\n",
        "my_function(rdt)   "
      ],
      "metadata": {
        "colab": {
          "base_uri": "https://localhost:8080/"
        },
        "id": "aTuU9egy3FjN",
        "outputId": "b81e7ae7-da01-4855-b01e-40a80ded0240"
      },
      "execution_count": null,
      "outputs": [
        {
          "output_type": "stream",
          "name": "stdout",
          "text": [
            "RDT\n",
            "POR\n",
            "999\n",
            "44\n"
          ]
        }
      ]
    },
    {
      "cell_type": "markdown",
      "source": [
        "## Return Values"
      ],
      "metadata": {
        "id": "O2NsHZ3f4jjy"
      }
    },
    {
      "cell_type": "code",
      "source": [
        "def my_function(x):\n",
        "  return 5*x\n",
        "\n",
        "print(my_function(5))\n",
        "print(my_function(8))\n",
        "print(my_function(9))"
      ],
      "metadata": {
        "colab": {
          "base_uri": "https://localhost:8080/"
        },
        "id": "X8z2Bc3MVGAY",
        "outputId": "4eb40e35-f5d8-49a1-8603-81a0689b7dbf"
      },
      "execution_count": null,
      "outputs": [
        {
          "output_type": "stream",
          "name": "stdout",
          "text": [
            "25\n",
            "40\n",
            "45\n"
          ]
        }
      ]
    },
    {
      "cell_type": "code",
      "source": [
        "# Addition of 2 number with  Return"
      ],
      "metadata": {
        "id": "GsCfrNlL4sap"
      },
      "execution_count": null,
      "outputs": []
    },
    {
      "cell_type": "code",
      "source": [
        "def my_function(x):\n",
        "  return 9+x\n",
        "\n",
        "print(my_function(1)) \n",
        "print(my_function(88)) \n",
        "print(my_function(99)) "
      ],
      "metadata": {
        "colab": {
          "base_uri": "https://localhost:8080/"
        },
        "id": "-O8--eEf5u7C",
        "outputId": "46cad178-e56b-470e-f04e-bc381860bf9b"
      },
      "execution_count": null,
      "outputs": [
        {
          "output_type": "stream",
          "name": "stdout",
          "text": [
            "10\n",
            "97\n",
            "108\n"
          ]
        }
      ]
    },
    {
      "cell_type": "code",
      "source": [
        "# find the factorial a number using function and if condition"
      ],
      "metadata": {
        "id": "sDn7IJog5pxu"
      },
      "execution_count": null,
      "outputs": []
    },
    {
      "cell_type": "code",
      "source": [
        "def factorial(y):\n",
        "    \"\"\"This is a recursive function\n",
        "    to find the factorial of an integer\"\"\"\n",
        "\n",
        "    if y == 1:\n",
        "        return 1\n",
        "    else:\n",
        "        # recursive call to the function\n",
        "        return (y * factorial(y-1))\n",
        "\n",
        "\n",
        "  # Call a Factroal Function\n",
        "\n",
        "num=int(input(\"Enter a no:\"))\n",
        "result = factorial(num)\n",
        "print(\"The factorial of \", num, \"is\", result)      "
      ],
      "metadata": {
        "colab": {
          "base_uri": "https://localhost:8080/"
        },
        "outputId": "71bbd66d-9a51-4ff1-c888-5f86d6bfbf5c",
        "id": "6fbSSUuV5qO_"
      },
      "execution_count": null,
      "outputs": [
        {
          "output_type": "stream",
          "name": "stdout",
          "text": [
            "Enter a no:6\n",
            "The factorial of  6 is 720\n"
          ]
        }
      ]
    },
    {
      "cell_type": "code",
      "source": [],
      "metadata": {
        "id": "sjHYhu3rVf-q"
      },
      "execution_count": null,
      "outputs": []
    },
    {
      "cell_type": "markdown",
      "source": [
        "## Return Values"
      ],
      "metadata": {
        "id": "tc8Og28iVlh0"
      }
    },
    {
      "cell_type": "code",
      "source": [
        "def my_function(x):\n",
        "  return 5 * x\n",
        "\n",
        "print(my_function(3))\n",
        "print(my_function(5))\n",
        "print(my_function(9))"
      ],
      "metadata": {
        "colab": {
          "base_uri": "https://localhost:8080/"
        },
        "id": "sMkT9UwtVope",
        "outputId": "4b6965c9-ed05-4c83-8ca0-30726bf71d89"
      },
      "execution_count": null,
      "outputs": [
        {
          "output_type": "stream",
          "name": "stdout",
          "text": [
            "15\n",
            "25\n",
            "45\n"
          ]
        }
      ]
    },
    {
      "cell_type": "code",
      "source": [
        "# Addition of 2 no Return"
      ],
      "metadata": {
        "id": "tp_uLfNPVs0t"
      },
      "execution_count": null,
      "outputs": []
    },
    {
      "cell_type": "code",
      "source": [
        "def factorial(x):\n",
        "    \"\"\"This is a recursive function\n",
        "    to find the factorial of an integer\"\"\"\n",
        "\n",
        "    if x == 1:\n",
        "        return 1\n",
        "    else:\n",
        "        # recursive call to the function\n",
        "        return (x * factorial(x-1))\n",
        "\n",
        "\n",
        "  # Call a Factroal Function\n",
        "\n",
        "num=int(input(\"Enter a no:\"))\n",
        "result = factorial(num)\n",
        "print(\"The factorial of\", num, \"is\", result)      "
      ],
      "metadata": {
        "id": "8Ee57DA1Vw_X"
      },
      "execution_count": null,
      "outputs": []
    },
    {
      "cell_type": "code",
      "source": [],
      "metadata": {
        "id": "kFDZXl1UWS4_"
      },
      "execution_count": null,
      "outputs": []
    },
    {
      "cell_type": "markdown",
      "source": [
        "# Lambda Function\n",
        "\n",
        "* A lambda function is a small anonymous function.\n",
        "\n",
        "* A lambda function can take any number of arguments, but can only have one expression.\n",
        "\n"
      ],
      "metadata": {
        "id": "08FHVtyTWmJC"
      }
    },
    {
      "cell_type": "code",
      "source": [
        "x= lambda a : a+20\n",
        "print(x(5))"
      ],
      "metadata": {
        "colab": {
          "base_uri": "https://localhost:8080/"
        },
        "id": "G7aZiKEd-KAa",
        "outputId": "a122b099-68ba-46bd-f291-89f3c4fd8ad9"
      },
      "execution_count": null,
      "outputs": [
        {
          "output_type": "stream",
          "name": "stdout",
          "text": [
            "25\n"
          ]
        }
      ]
    },
    {
      "cell_type": "code",
      "source": [
        "x lambda a,b:a*b\n",
        "print(x(5,6))"
      ],
      "metadata": {
        "id": "Tqa3Qt0k-b33"
      },
      "execution_count": null,
      "outputs": []
    },
    {
      "cell_type": "code",
      "source": [
        "x = lambda a, b : a * b\n",
        "print(x(5, 6))"
      ],
      "metadata": {
        "colab": {
          "base_uri": "https://localhost:8080/"
        },
        "id": "eXDx_RkZW00z",
        "outputId": "3dcafa3a-7d75-4af3-a0aa-223edeb5cd29"
      },
      "execution_count": null,
      "outputs": [
        {
          "output_type": "stream",
          "name": "stdout",
          "text": [
            "30\n"
          ]
        }
      ]
    },
    {
      "cell_type": "code",
      "source": [
        "def my_function(n):\n",
        " return lambda a:a*n\n",
        "\n",
        "mydoubler =myfunc(2)\n",
        "\n",
        "print(mydoubler(11))\n",
        "22"
      ],
      "metadata": {
        "colab": {
          "base_uri": "https://localhost:8080/",
          "height": 235
        },
        "id": "N_V74Yfv-MDX",
        "outputId": "0453673b-1d54-43b4-e151-3cb279ba09bb"
      },
      "execution_count": null,
      "outputs": [
        {
          "output_type": "error",
          "ename": "NameError",
          "evalue": "ignored",
          "traceback": [
            "\u001b[0;31m---------------------------------------------------------------------------\u001b[0m",
            "\u001b[0;31mNameError\u001b[0m                                 Traceback (most recent call last)",
            "\u001b[0;32m<ipython-input-81-8f728b01b86a>\u001b[0m in \u001b[0;36m<module>\u001b[0;34m\u001b[0m\n\u001b[1;32m      2\u001b[0m  \u001b[0;32mreturn\u001b[0m \u001b[0;32mlambda\u001b[0m \u001b[0ma\u001b[0m\u001b[0;34m:\u001b[0m\u001b[0ma\u001b[0m\u001b[0;34m*\u001b[0m\u001b[0mn\u001b[0m\u001b[0;34m\u001b[0m\u001b[0;34m\u001b[0m\u001b[0m\n\u001b[1;32m      3\u001b[0m \u001b[0;34m\u001b[0m\u001b[0m\n\u001b[0;32m----> 4\u001b[0;31m \u001b[0mmydoubler\u001b[0m \u001b[0;34m=\u001b[0m\u001b[0mmyfunc\u001b[0m\u001b[0;34m(\u001b[0m\u001b[0;36m2\u001b[0m\u001b[0;34m)\u001b[0m\u001b[0;34m\u001b[0m\u001b[0;34m\u001b[0m\u001b[0m\n\u001b[0m\u001b[1;32m      5\u001b[0m \u001b[0;34m\u001b[0m\u001b[0m\n\u001b[1;32m      6\u001b[0m \u001b[0mprint\u001b[0m\u001b[0;34m(\u001b[0m\u001b[0mmydoubler\u001b[0m\u001b[0;34m(\u001b[0m\u001b[0;36m11\u001b[0m\u001b[0;34m)\u001b[0m\u001b[0;34m)\u001b[0m\u001b[0;34m\u001b[0m\u001b[0;34m\u001b[0m\u001b[0m\n",
            "\u001b[0;31mNameError\u001b[0m: name 'myfunc' is not defined"
          ]
        }
      ]
    },
    {
      "cell_type": "code",
      "source": [
        "def my_function(n):\n",
        "  return lambda a : a * n\n",
        "\n",
        "mydoubler = myfunc(2)\n",
        "\n",
        "print(mydoubler(66))"
      ],
      "metadata": {
        "colab": {
          "base_uri": "https://localhost:8080/"
        },
        "id": "xhkOWbtIW9Vk",
        "outputId": "9a556f5c-e537-4b15-f272-b67ad9ea146c"
      },
      "execution_count": null,
      "outputs": [
        {
          "output_type": "stream",
          "name": "stdout",
          "text": [
            "132\n"
          ]
        }
      ]
    },
    {
      "cell_type": "code",
      "source": [
        "def myfunc(n):\n",
        "  return lambda a : a * n\n",
        "\n",
        "mytripler = myfunc(3)\n",
        "\n",
        "print(mytripler(99))"
      ],
      "metadata": {
        "colab": {
          "base_uri": "https://localhost:8080/"
        },
        "id": "1RWhzv6GXEYD",
        "outputId": "ae752d32-ad2c-4aa1-da55-cc3ff43ed95c"
      },
      "execution_count": null,
      "outputs": [
        {
          "output_type": "stream",
          "name": "stdout",
          "text": [
            "297\n"
          ]
        }
      ]
    },
    {
      "cell_type": "code",
      "source": [
        "def my_func(n):\n",
        "  return lambda a: a*n\n",
        "\n",
        "mydoubler= myfunc(2)\n",
        "mytripler= myfunc(3)\n",
        "\n",
        "\n",
        "print(mydoubler(33))\n",
        "print(mytripler(33))"
      ],
      "metadata": {
        "colab": {
          "base_uri": "https://localhost:8080/"
        },
        "id": "Q1mNQ64p-NeV",
        "outputId": "7d179b03-5296-4f4a-96f3-e45fe98c775d"
      },
      "execution_count": null,
      "outputs": [
        {
          "output_type": "stream",
          "name": "stdout",
          "text": [
            "66\n",
            "99\n"
          ]
        }
      ]
    },
    {
      "cell_type": "code",
      "source": [],
      "metadata": {
        "id": "offnsZjp-OK1"
      },
      "execution_count": null,
      "outputs": []
    }
  ]
}