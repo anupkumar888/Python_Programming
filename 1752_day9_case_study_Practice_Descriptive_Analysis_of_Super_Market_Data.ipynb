{
  "cells": [
    {
      "cell_type": "markdown",
      "metadata": {
        "id": "view-in-github",
        "colab_type": "text"
      },
      "source": [
        "<a href=\"https://colab.research.google.com/github/anupkumar888/Python_Programming/blob/Python-programming/1752_day9_case_study_Practice_Descriptive_Analysis_of_Super_Market_Data.ipynb\" target=\"_parent\"><img src=\"https://colab.research.google.com/assets/colab-badge.svg\" alt=\"Open In Colab\"/></a>"
      ]
    },
    {
      "cell_type": "markdown",
      "metadata": {
        "id": "QEHHnP7CuZt1"
      },
      "source": [
        "# Descriptive Statistics\n",
        "<h2> Case Study: Descriptive Analysis of Super Market Data </h2>\n",
        "\n",
        "In this case study, you will perform simple descriptive analysis on data."
      ]
    },
    {
      "cell_type": "code",
      "execution_count": 4,
      "metadata": {
        "id": "Kj24fd7HuZuD"
      },
      "outputs": [],
      "source": [
        "#Step1: Import the required libraries\n",
        "import pandas as pd\n",
        "import numpy as np\n",
        "import scipy.stats"
      ]
    },
    {
      "cell_type": "code",
      "source": [
        "from google.colab import drive\n",
        "drive.mount('/content/drive')"
      ],
      "metadata": {
        "colab": {
          "base_uri": "https://localhost:8080/"
        },
        "id": "BWG0WHuIuowj",
        "outputId": "e9936af8-e6b8-4b6f-e127-8c85c82880d5"
      },
      "execution_count": 5,
      "outputs": [
        {
          "output_type": "stream",
          "name": "stdout",
          "text": [
            "Drive already mounted at /content/drive; to attempt to forcibly remount, call drive.mount(\"/content/drive\", force_remount=True).\n"
          ]
        }
      ]
    },
    {
      "cell_type": "code",
      "execution_count": 6,
      "metadata": {
        "id": "pW7rA0hLuZuH"
      },
      "outputs": [],
      "source": [
        "#Step2: Read data from the uploaded csv file\n",
        "df = pd.read_csv(\"/content/drive/MyDrive/DEMOS/Day 9 - Demos/supermarket.csv\")"
      ]
    },
    {
      "cell_type": "code",
      "execution_count": 7,
      "metadata": {
        "colab": {
          "base_uri": "https://localhost:8080/",
          "height": 206
        },
        "id": "THlN51DnuZuK",
        "outputId": "0dcc7902-07db-4402-f8f7-654f7244d921"
      },
      "outputs": [
        {
          "output_type": "execute_result",
          "data": {
            "text/plain": [
              "       ProductCode              Date  Amount  Received Cash CashierName\n",
              "0  LBVT18010004435  01-05-2018 12:36  1121.2         1121.2       MAYTE\n",
              "1  LBVT18010004436  01-05-2018 12:37    18.5           20.0       MAYTE\n",
              "2  LBVT18010004437  01-05-2018 12:38   160.0          200.0       MAYTE\n",
              "3  LBVT18010004438  01-05-2018 12:47   397.5          397.5       MAYTE\n",
              "4  LBVT18010004439  01-05-2018 12:48    22.0           50.0       MAYTE"
            ],
            "text/html": [
              "\n",
              "  <div id=\"df-90ae3e12-0fb0-409b-81be-363fd28157b2\">\n",
              "    <div class=\"colab-df-container\">\n",
              "      <div>\n",
              "<style scoped>\n",
              "    .dataframe tbody tr th:only-of-type {\n",
              "        vertical-align: middle;\n",
              "    }\n",
              "\n",
              "    .dataframe tbody tr th {\n",
              "        vertical-align: top;\n",
              "    }\n",
              "\n",
              "    .dataframe thead th {\n",
              "        text-align: right;\n",
              "    }\n",
              "</style>\n",
              "<table border=\"1\" class=\"dataframe\">\n",
              "  <thead>\n",
              "    <tr style=\"text-align: right;\">\n",
              "      <th></th>\n",
              "      <th>ProductCode</th>\n",
              "      <th>Date</th>\n",
              "      <th>Amount</th>\n",
              "      <th>Received Cash</th>\n",
              "      <th>CashierName</th>\n",
              "    </tr>\n",
              "  </thead>\n",
              "  <tbody>\n",
              "    <tr>\n",
              "      <th>0</th>\n",
              "      <td>LBVT18010004435</td>\n",
              "      <td>01-05-2018 12:36</td>\n",
              "      <td>1121.2</td>\n",
              "      <td>1121.2</td>\n",
              "      <td>MAYTE</td>\n",
              "    </tr>\n",
              "    <tr>\n",
              "      <th>1</th>\n",
              "      <td>LBVT18010004436</td>\n",
              "      <td>01-05-2018 12:37</td>\n",
              "      <td>18.5</td>\n",
              "      <td>20.0</td>\n",
              "      <td>MAYTE</td>\n",
              "    </tr>\n",
              "    <tr>\n",
              "      <th>2</th>\n",
              "      <td>LBVT18010004437</td>\n",
              "      <td>01-05-2018 12:38</td>\n",
              "      <td>160.0</td>\n",
              "      <td>200.0</td>\n",
              "      <td>MAYTE</td>\n",
              "    </tr>\n",
              "    <tr>\n",
              "      <th>3</th>\n",
              "      <td>LBVT18010004438</td>\n",
              "      <td>01-05-2018 12:47</td>\n",
              "      <td>397.5</td>\n",
              "      <td>397.5</td>\n",
              "      <td>MAYTE</td>\n",
              "    </tr>\n",
              "    <tr>\n",
              "      <th>4</th>\n",
              "      <td>LBVT18010004439</td>\n",
              "      <td>01-05-2018 12:48</td>\n",
              "      <td>22.0</td>\n",
              "      <td>50.0</td>\n",
              "      <td>MAYTE</td>\n",
              "    </tr>\n",
              "  </tbody>\n",
              "</table>\n",
              "</div>\n",
              "      <button class=\"colab-df-convert\" onclick=\"convertToInteractive('df-90ae3e12-0fb0-409b-81be-363fd28157b2')\"\n",
              "              title=\"Convert this dataframe to an interactive table.\"\n",
              "              style=\"display:none;\">\n",
              "        \n",
              "  <svg xmlns=\"http://www.w3.org/2000/svg\" height=\"24px\"viewBox=\"0 0 24 24\"\n",
              "       width=\"24px\">\n",
              "    <path d=\"M0 0h24v24H0V0z\" fill=\"none\"/>\n",
              "    <path d=\"M18.56 5.44l.94 2.06.94-2.06 2.06-.94-2.06-.94-.94-2.06-.94 2.06-2.06.94zm-11 1L8.5 8.5l.94-2.06 2.06-.94-2.06-.94L8.5 2.5l-.94 2.06-2.06.94zm10 10l.94 2.06.94-2.06 2.06-.94-2.06-.94-.94-2.06-.94 2.06-2.06.94z\"/><path d=\"M17.41 7.96l-1.37-1.37c-.4-.4-.92-.59-1.43-.59-.52 0-1.04.2-1.43.59L10.3 9.45l-7.72 7.72c-.78.78-.78 2.05 0 2.83L4 21.41c.39.39.9.59 1.41.59.51 0 1.02-.2 1.41-.59l7.78-7.78 2.81-2.81c.8-.78.8-2.07 0-2.86zM5.41 20L4 18.59l7.72-7.72 1.47 1.35L5.41 20z\"/>\n",
              "  </svg>\n",
              "      </button>\n",
              "      \n",
              "  <style>\n",
              "    .colab-df-container {\n",
              "      display:flex;\n",
              "      flex-wrap:wrap;\n",
              "      gap: 12px;\n",
              "    }\n",
              "\n",
              "    .colab-df-convert {\n",
              "      background-color: #E8F0FE;\n",
              "      border: none;\n",
              "      border-radius: 50%;\n",
              "      cursor: pointer;\n",
              "      display: none;\n",
              "      fill: #1967D2;\n",
              "      height: 32px;\n",
              "      padding: 0 0 0 0;\n",
              "      width: 32px;\n",
              "    }\n",
              "\n",
              "    .colab-df-convert:hover {\n",
              "      background-color: #E2EBFA;\n",
              "      box-shadow: 0px 1px 2px rgba(60, 64, 67, 0.3), 0px 1px 3px 1px rgba(60, 64, 67, 0.15);\n",
              "      fill: #174EA6;\n",
              "    }\n",
              "\n",
              "    [theme=dark] .colab-df-convert {\n",
              "      background-color: #3B4455;\n",
              "      fill: #D2E3FC;\n",
              "    }\n",
              "\n",
              "    [theme=dark] .colab-df-convert:hover {\n",
              "      background-color: #434B5C;\n",
              "      box-shadow: 0px 1px 3px 1px rgba(0, 0, 0, 0.15);\n",
              "      filter: drop-shadow(0px 1px 2px rgba(0, 0, 0, 0.3));\n",
              "      fill: #FFFFFF;\n",
              "    }\n",
              "  </style>\n",
              "\n",
              "      <script>\n",
              "        const buttonEl =\n",
              "          document.querySelector('#df-90ae3e12-0fb0-409b-81be-363fd28157b2 button.colab-df-convert');\n",
              "        buttonEl.style.display =\n",
              "          google.colab.kernel.accessAllowed ? 'block' : 'none';\n",
              "\n",
              "        async function convertToInteractive(key) {\n",
              "          const element = document.querySelector('#df-90ae3e12-0fb0-409b-81be-363fd28157b2');\n",
              "          const dataTable =\n",
              "            await google.colab.kernel.invokeFunction('convertToInteractive',\n",
              "                                                     [key], {});\n",
              "          if (!dataTable) return;\n",
              "\n",
              "          const docLinkHtml = 'Like what you see? Visit the ' +\n",
              "            '<a target=\"_blank\" href=https://colab.research.google.com/notebooks/data_table.ipynb>data table notebook</a>'\n",
              "            + ' to learn more about interactive tables.';\n",
              "          element.innerHTML = '';\n",
              "          dataTable['output_type'] = 'display_data';\n",
              "          await google.colab.output.renderOutput(dataTable, element);\n",
              "          const docLink = document.createElement('div');\n",
              "          docLink.innerHTML = docLinkHtml;\n",
              "          element.appendChild(docLink);\n",
              "        }\n",
              "      </script>\n",
              "    </div>\n",
              "  </div>\n",
              "  "
            ]
          },
          "metadata": {},
          "execution_count": 7
        }
      ],
      "source": [
        "#Step3: Display the dataframe\n",
        "df.head()                            #Use the head method to display the first five rows"
      ]
    },
    {
      "cell_type": "code",
      "execution_count": 8,
      "metadata": {
        "colab": {
          "base_uri": "https://localhost:8080/"
        },
        "id": "CR8YT14juZuN",
        "outputId": "e67dd267-d174-424a-d477-1f580576e8b4"
      },
      "outputs": [
        {
          "output_type": "stream",
          "name": "stdout",
          "text": [
            "The mean of amount is: 189.78\n",
            "The median of amount is: 95.0\n"
          ]
        }
      ],
      "source": [
        "#Step4: Calculate the measures of central tendency\n",
        "print(\"The mean of amount is:\" , round(df.Amount.mean(), 2))       #Upto 2 places of decimal\n",
        "\n",
        "print(\"The median of amount is:\" , round(df.Amount.median(),2)) "
      ]
    },
    {
      "cell_type": "code",
      "execution_count": 9,
      "metadata": {
        "colab": {
          "base_uri": "https://localhost:8080/"
        },
        "id": "p0H4ZFhLuZuP",
        "outputId": "eb7a60d8-2c29-496e-81ca-8a21b3f644de"
      },
      "outputs": [
        {
          "output_type": "stream",
          "name": "stdout",
          "text": [
            "The range of amount is: 15036.8\n",
            "The Interquartile range is: 189.7\n",
            "The standard deviation of amount is: 284.03\n",
            "The variance of amount is: 80673.58\n"
          ]
        }
      ],
      "source": [
        "#Step5: Calculate the measures of dispersion\n",
        "print(\"The range of amount is:\" , np.ptp(df.Amount, axis=0)) \n",
        "\n",
        "from scipy.stats import iqr\n",
        "print(\"The Interquartile range is:\", iqr(df.Amount, axis=0))\n",
        "\n",
        "print(\"The standard deviation of amount is:\" , round(np.std(df.Amount, axis=0),2))\n",
        "\n",
        "print(\"The variance of amount is:\" , round(np.var(df.Amount, axis=0),2))"
      ]
    },
    {
      "cell_type": "code",
      "execution_count": 10,
      "metadata": {
        "colab": {
          "base_uri": "https://localhost:8080/"
        },
        "id": "s_X-tsiBuZuS",
        "outputId": "40f44835-0e99-4ae6-962b-bcc87cfdfd1a"
      },
      "outputs": [
        {
          "output_type": "stream",
          "name": "stdout",
          "text": [
            "The 20th percentile of amount is: 30.0\n",
            "The 3rd quartile of amount is: 227.7\n",
            "The z-score of all values in amount is: 0        3.279287\n",
            "1       -0.603037\n",
            "2       -0.104852\n",
            "3        0.731325\n",
            "4       -0.590714\n",
            "           ...   \n",
            "84876   -0.610712\n",
            "84877   -0.568463\n",
            "84878   -0.592967\n",
            "84879   -0.492133\n",
            "84880   -0.562055\n",
            "Name: Amount, Length: 84881, dtype: float64\n"
          ]
        }
      ],
      "source": [
        "#Step6: Calculate the measures of position\n",
        "print(\"The 20th percentile of amount is:\" , np.percentile(df.Amount, 20, axis=0))\n",
        "\n",
        "print(\"The 3rd quartile of amount is:\" , df.Amount.quantile(0.75))\n",
        "\n",
        "from scipy.stats import zscore\n",
        "print(\"The z-score of all values in amount is:\" , zscore(df.Amount, axis=0))"
      ]
    }
  ],
  "metadata": {
    "kernelspec": {
      "display_name": "Python 3",
      "language": "python",
      "name": "python3"
    },
    "language_info": {
      "codemirror_mode": {
        "name": "ipython",
        "version": 3
      },
      "file_extension": ".py",
      "mimetype": "text/x-python",
      "name": "python",
      "nbconvert_exporter": "python",
      "pygments_lexer": "ipython3",
      "version": "3.7.3"
    },
    "colab": {
      "provenance": [],
      "include_colab_link": true
    }
  },
  "nbformat": 4,
  "nbformat_minor": 0
}