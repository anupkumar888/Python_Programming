{
  "nbformat": 4,
  "nbformat_minor": 0,
  "metadata": {
    "colab": {
      "provenance": [],
      "collapsed_sections": [],
      "authorship_tag": "ABX9TyMcwLiGtIllldqKXzRHD98n",
      "include_colab_link": true
    },
    "kernelspec": {
      "name": "python3",
      "display_name": "Python 3"
    },
    "language_info": {
      "name": "python"
    }
  },
  "cells": [
    {
      "cell_type": "markdown",
      "metadata": {
        "id": "view-in-github",
        "colab_type": "text"
      },
      "source": [
        "<a href=\"https://colab.research.google.com/github/anupkumar888/Python_Programming/blob/main/1752_day5_demo1_PRACTICE_Functionality_of_Pandas_Series.ipynb\" target=\"_parent\"><img src=\"https://colab.research.google.com/assets/colab-badge.svg\" alt=\"Open In Colab\"/></a>"
      ]
    },
    {
      "cell_type": "markdown",
      "source": [
        "Data Structures in Pandas\n",
        "\n",
        "Demo 1: Functionality of Pandas Series\n",
        "In this demo, you will be shown how to create Series in Python and use various attributes and functionality of Series using pandas.\n",
        "\n"
      ],
      "metadata": {
        "id": "ZTgES1C94qHn"
      }
    },
    {
      "cell_type": "markdown",
      "source": [
        "Question 1:\n",
        "\n",
        "1) Create a pandas Series from a list  x = [13, -5, 7, 19]\n",
        "\n",
        "2) Create a series using a numpy array having values \"23, 3.0, 7, 11\" and specifying index values as \"a, b, c, d\"\n",
        "\n",
        "3) Get the values and index of the series of the above series\n",
        "\n",
        "4) Access individual elements of the string\n",
        "\n",
        "5) Assign new values to the elements"
      ],
      "metadata": {
        "id": "7695Atst4yB-"
      }
    },
    {
      "cell_type": "code",
      "source": [
        "# Import the required libraries\n",
        "import pandas as pd\n",
        "import numpy as np\n",
        "\n",
        "# 1.1 Create a pandas Series from a list  x = [13, -5, 7, 19]\n",
        "x= [13,-5,7,19]\n",
        "s1=pd.Series(x)\n",
        "\n",
        "# Print the series and observe the default indices created\n",
        "print(s1)\n",
        "\n"
      ],
      "metadata": {
        "colab": {
          "base_uri": "https://localhost:8080/"
        },
        "id": "H88WckDy4tuC",
        "outputId": "27ca6a17-eb44-49ee-e7a0-3e5a3bbda97d"
      },
      "execution_count": 2,
      "outputs": [
        {
          "output_type": "stream",
          "name": "stdout",
          "text": [
            "0    13\n",
            "1    -5\n",
            "2     7\n",
            "3    19\n",
            "dtype: int64\n"
          ]
        }
      ]
    },
    {
      "cell_type": "code",
      "source": [
        "# Notice that the data type is automatically set for the series as 'int64'"
      ],
      "metadata": {
        "id": "siekFuE96Aib"
      },
      "execution_count": 3,
      "outputs": []
    },
    {
      "cell_type": "code",
      "source": [
        "# 1.2 Create a series using a numpy array having values \"23, 3.0, 7, 11\" and specifying index values as \"a, b, c, d\n",
        "\n",
        "y= np.array([23,3.0,7,11])\n",
        "s2=pd.Series(y, index=[\"a\",\"b\",\"c\",\"d\"])\n",
        "\n",
        "print(s2)"
      ],
      "metadata": {
        "colab": {
          "base_uri": "https://localhost:8080/"
        },
        "id": "i9zNO-646Fh8",
        "outputId": "dc6917e3-c657-49db-978f-14e8d1dcf468"
      },
      "execution_count": 31,
      "outputs": [
        {
          "output_type": "stream",
          "name": "stdout",
          "text": [
            "a    23.0\n",
            "b     3.0\n",
            "c     7.0\n",
            "d    11.0\n",
            "dtype: float64\n"
          ]
        }
      ]
    },
    {
      "cell_type": "code",
      "source": [
        "# Note that indices are specifies at the time of creation.\n",
        "\n",
        "# Check the data type of the series\n",
        "s2.dtype"
      ],
      "metadata": {
        "colab": {
          "base_uri": "https://localhost:8080/"
        },
        "id": "17ieiQOA6fuV",
        "outputId": "24db7387-5a35-409b-eb45-71a0601fc98b"
      },
      "execution_count": 13,
      "outputs": [
        {
          "output_type": "execute_result",
          "data": {
            "text/plain": [
              "dtype('float64')"
            ]
          },
          "metadata": {},
          "execution_count": 13
        }
      ]
    },
    {
      "cell_type": "code",
      "source": [
        "# The data type is set as float since one of the values is a float\n"
      ],
      "metadata": {
        "id": "FAoeMJ8Q8d7O"
      },
      "execution_count": null,
      "outputs": []
    },
    {
      "cell_type": "code",
      "source": [
        "# 1.3 Get the values and index of the series\n",
        "\n",
        "print(\"Values:\", s2.values)\n",
        "\n",
        "print(\"Index:\", s2.index)"
      ],
      "metadata": {
        "colab": {
          "base_uri": "https://localhost:8080/"
        },
        "id": "3t9otc5z8euC",
        "outputId": "d7f62e5c-5a62-42c4-a4e2-22ea4b33fd01"
      },
      "execution_count": 22,
      "outputs": [
        {
          "output_type": "stream",
          "name": "stdout",
          "text": [
            "Values: [10.  3.  7. 11. 11.]\n",
            "Index: Index(['a', 'b', 'c', 'd', '1'], dtype='object')\n"
          ]
        }
      ]
    },
    {
      "cell_type": "code",
      "source": [
        "# 1.4 Access the elements of Series\n",
        "\n",
        "print(\"Third element:\" ,s2[2])\n",
        "\n",
        "print(\"First two elements:\\n\")\n",
        "print(s2[0:2])\n",
        "\n",
        "print(\"Element having index 'd':\")\n",
        "print(s2[\"d\"])\n",
        "\n"
      ],
      "metadata": {
        "colab": {
          "base_uri": "https://localhost:8080/"
        },
        "id": "aJ0Xxew_7wFO",
        "outputId": "f22e3b90-3499-44b1-b41c-b511491aedf9"
      },
      "execution_count": 23,
      "outputs": [
        {
          "output_type": "stream",
          "name": "stdout",
          "text": [
            "Third element: 7.0\n",
            "First two elements:\n",
            "\n",
            "a    10.0\n",
            "b     3.0\n",
            "dtype: float64\n",
            "Element having index 'd':\n",
            "11.0\n"
          ]
        }
      ]
    },
    {
      "cell_type": "code",
      "source": [
        "# 1.5 Assign new values to the elements\n",
        "\n",
        "s2['a'] = 101\n",
        "\n",
        "s2['c']= 33\n",
        "\n",
        "print(s2)"
      ],
      "metadata": {
        "colab": {
          "base_uri": "https://localhost:8080/"
        },
        "id": "j4GWPeVQAW2H",
        "outputId": "8fe4042c-9bfb-4679-d48e-e1b4e5603e6e"
      },
      "execution_count": 32,
      "outputs": [
        {
          "output_type": "stream",
          "name": "stdout",
          "text": [
            "a    101.0\n",
            "b      3.0\n",
            "c     33.0\n",
            "d     11.0\n",
            "dtype: float64\n"
          ]
        }
      ]
    },
    {
      "cell_type": "markdown",
      "source": [
        "Question 2:\n",
        "\n",
        "From the raw data below create a Pandas Series\n",
        "\n",
        "'Amit', 'Bob', 'Kate', 'A', 'b', np.nan, 'Car', 'dog', 'cat'\n",
        "\n",
        "1) Print all elements in lower case\n",
        "\n",
        "2) Print all the elements in upper case \n",
        "\n",
        "3) Print the length of all the elements"
      ],
      "metadata": {
        "id": "0emCfcV6A_Xe"
      }
    },
    {
      "cell_type": "code",
      "source": [
        "#2.0  Print all elements in series\n",
        "s=pd.Series(['Amit', 'Bob', 'Kate', 'A', 'b', np.nan, 'Car', 'dog', 'cat'])\n",
        "print(s)"
      ],
      "metadata": {
        "colab": {
          "base_uri": "https://localhost:8080/"
        },
        "id": "BI9OGrWXA5xG",
        "outputId": "db0a5f6f-f73b-4362-a778-1cf417bc0218"
      },
      "execution_count": 33,
      "outputs": [
        {
          "output_type": "stream",
          "name": "stdout",
          "text": [
            "0    Amit\n",
            "1     Bob\n",
            "2    Kate\n",
            "3       A\n",
            "4       b\n",
            "5     NaN\n",
            "6     Car\n",
            "7     dog\n",
            "8     cat\n",
            "dtype: object\n"
          ]
        }
      ]
    },
    {
      "cell_type": "code",
      "source": [
        "#2.1 Print all the elements in lower case\n",
        "\n",
        "print(s.str.lower())"
      ],
      "metadata": {
        "colab": {
          "base_uri": "https://localhost:8080/"
        },
        "id": "0NYOb5wHCC_U",
        "outputId": "065b15b7-22c1-4a5c-b3a1-c592a885ad01"
      },
      "execution_count": 41,
      "outputs": [
        {
          "output_type": "stream",
          "name": "stdout",
          "text": [
            "0    amit\n",
            "1     bob\n",
            "2    kate\n",
            "3       a\n",
            "4       b\n",
            "5     NaN\n",
            "6     car\n",
            "7     dog\n",
            "8     cat\n",
            "dtype: object\n"
          ]
        }
      ]
    },
    {
      "cell_type": "code",
      "source": [
        "#2.2 Print all the elements in upper case\n",
        "\n",
        "print(s.str.upper())"
      ],
      "metadata": {
        "colab": {
          "base_uri": "https://localhost:8080/"
        },
        "id": "MaSXOqLvBWEr",
        "outputId": "ec9a1ac4-0e37-4bb9-a8ce-d9a877404674"
      },
      "execution_count": 42,
      "outputs": [
        {
          "output_type": "stream",
          "name": "stdout",
          "text": [
            "0    AMIT\n",
            "1     BOB\n",
            "2    KATE\n",
            "3       A\n",
            "4       B\n",
            "5     NaN\n",
            "6     CAR\n",
            "7     DOG\n",
            "8     CAT\n",
            "dtype: object\n"
          ]
        }
      ]
    },
    {
      "cell_type": "code",
      "source": [
        "#2.3 Print the length of all the elements\n",
        "\n",
        "print(s.str.len())"
      ],
      "metadata": {
        "colab": {
          "base_uri": "https://localhost:8080/"
        },
        "id": "Pb_fywK3BlIq",
        "outputId": "e8a5b62e-d77a-4717-9dd4-da3cb390d5b7"
      },
      "execution_count": 45,
      "outputs": [
        {
          "output_type": "stream",
          "name": "stdout",
          "text": [
            "0    4.0\n",
            "1    3.0\n",
            "2    4.0\n",
            "3    1.0\n",
            "4    1.0\n",
            "5    NaN\n",
            "6    3.0\n",
            "7    3.0\n",
            "8    3.0\n",
            "dtype: float64\n"
          ]
        }
      ]
    },
    {
      "cell_type": "markdown",
      "metadata": {
        "id": "inrscGfZxkhK"
      },
      "source": [
        "##### Question 3:\n",
        "\n",
        "From the raw data below create a Pandas Series\n",
        "\n",
        "' Arya', 'John ', ' jack ', 'Sam'\n",
        "\n",
        "    1) Print all elements after stripping spaces from the left and right\n",
        "    2) Print all the elements after removing spaces from the left only\n",
        "    3) Print all the elements after removing spaces from the right only\n"
      ]
    },
    {
      "cell_type": "code",
      "source": [
        "#3.1 Print all elements after stripping spaces from the left and right\n",
        "s =pd.Index([' Arya', 'John ', ' jack ', 'Sam'])\n",
        "\n",
        "print(s)\n",
        "print(s.str.strip())"
      ],
      "metadata": {
        "colab": {
          "base_uri": "https://localhost:8080/"
        },
        "id": "TJGltPzrDAeW",
        "outputId": "f48c1492-25f2-4368-d6f7-35926c49533a"
      },
      "execution_count": 47,
      "outputs": [
        {
          "output_type": "stream",
          "name": "stdout",
          "text": [
            "Index([' Arya', 'John ', ' jack ', 'Sam'], dtype='object')\n",
            "Index(['Arya', 'John', 'jack', 'Sam'], dtype='object')\n"
          ]
        }
      ]
    },
    {
      "cell_type": "code",
      "source": [
        "#3.2 Print all the elements after removing spaces from the left only\n",
        "\n",
        "print(s.str.lstrip())"
      ],
      "metadata": {
        "colab": {
          "base_uri": "https://localhost:8080/"
        },
        "id": "saaFw0LqE7pf",
        "outputId": "c0e2cb14-d8d2-4f42-8abc-8141eedc8292"
      },
      "execution_count": 48,
      "outputs": [
        {
          "output_type": "stream",
          "name": "stdout",
          "text": [
            "Index(['Arya', 'John ', 'jack ', 'Sam'], dtype='object')\n"
          ]
        }
      ]
    },
    {
      "cell_type": "code",
      "source": [
        "#3.3  Print all the elements after removing spaces from the right only\n",
        "\n",
        "print(s.str.rstrip())"
      ],
      "metadata": {
        "colab": {
          "base_uri": "https://localhost:8080/"
        },
        "id": "wYN43tk1G_un",
        "outputId": "3d6101e0-74ec-4941-95be-1bc0f153c166"
      },
      "execution_count": 49,
      "outputs": [
        {
          "output_type": "stream",
          "name": "stdout",
          "text": [
            "Index([' Arya', 'John', ' jack', 'Sam'], dtype='object')\n"
          ]
        }
      ]
    },
    {
      "cell_type": "code",
      "source": [
        "Conclusion: This code demonstrates how to create Series in pandas and use various functionality of series"
      ],
      "metadata": {
        "id": "vdg_DuEFIkwV"
      },
      "execution_count": null,
      "outputs": []
    }
  ]
}