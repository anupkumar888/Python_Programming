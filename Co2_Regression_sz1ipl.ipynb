{
  "nbformat": 4,
  "nbformat_minor": 0,
  "metadata": {
    "colab": {
      "provenance": [],
      "include_colab_link": true
    },
    "kernelspec": {
      "name": "python3",
      "display_name": "Python 3"
    },
    "language_info": {
      "name": "python"
    }
  },
  "cells": [
    {
      "cell_type": "markdown",
      "metadata": {
        "id": "view-in-github",
        "colab_type": "text"
      },
      "source": [
        "<a href=\"https://colab.research.google.com/github/anupkumar888/Python_Programming/blob/Python-programming/Co2_Regression_sz1ipl.ipynb\" target=\"_parent\"><img src=\"https://colab.research.google.com/assets/colab-badge.svg\" alt=\"Open In Colab\"/></a>"
      ]
    },
    {
      "cell_type": "code",
      "execution_count": 10,
      "metadata": {
        "id": "x6M6eDPUpkAM"
      },
      "outputs": [],
      "source": [
        "import pandas as pd\n",
        "import numpy as np"
      ]
    },
    {
      "cell_type": "code",
      "source": [
        "from google.colab import drive\n",
        "drive.mount('/content/drive')"
      ],
      "metadata": {
        "colab": {
          "base_uri": "https://localhost:8080/"
        },
        "id": "72FwPsVvYnp8",
        "outputId": "45ea2050-f322-4c9a-a2f6-fa51ffb44e3d"
      },
      "execution_count": 11,
      "outputs": [
        {
          "output_type": "stream",
          "name": "stdout",
          "text": [
            "Drive already mounted at /content/drive; to attempt to forcibly remount, call drive.mount(\"/content/drive\", force_remount=True).\n"
          ]
        }
      ]
    },
    {
      "cell_type": "code",
      "source": [
        "path=\"/content/drive/MyDrive/PYTHON PROGRAMMING/Colab Notebooks/Machine Learning/ML Co2_Regression/FuelConsumptionCo2_r8r5q.csv\""
      ],
      "metadata": {
        "id": "HBREJZM0psL5"
      },
      "execution_count": 12,
      "outputs": []
    },
    {
      "cell_type": "code",
      "source": [
        "df=pd.read_csv(path)\n",
        "print(df.head())"
      ],
      "metadata": {
        "colab": {
          "base_uri": "https://localhost:8080/"
        },
        "id": "jd2XOiELqDHJ",
        "outputId": "f281d3ba-ed8a-4b46-9d4a-58dba013e309"
      },
      "execution_count": 13,
      "outputs": [
        {
          "output_type": "stream",
          "name": "stdout",
          "text": [
            "   MODELYEAR   MAKE       MODEL VEHICLECLASS  ENGINESIZE  CYLINDERS  \\\n",
            "0       2014  ACURA         ILX      COMPACT         2.0          4   \n",
            "1       2014  ACURA         ILX      COMPACT         2.4          4   \n",
            "2       2014  ACURA  ILX HYBRID      COMPACT         1.5          4   \n",
            "3       2014  ACURA     MDX 4WD  SUV - SMALL         3.5          6   \n",
            "4       2014  ACURA     RDX AWD  SUV - SMALL         3.5          6   \n",
            "\n",
            "  TRANSMISSION FUELTYPE  FUELCONSUMPTION_CITY  FUELCONSUMPTION_HWY  \\\n",
            "0          AS5        Z                   9.9                  6.7   \n",
            "1           M6        Z                  11.2                  7.7   \n",
            "2          AV7        Z                   6.0                  5.8   \n",
            "3          AS6        Z                  12.7                  9.1   \n",
            "4          AS6        Z                  12.1                  8.7   \n",
            "\n",
            "   FUELCONSUMPTION_COMB  FUELCONSUMPTION_COMB_MPG  CO2EMISSIONS  \n",
            "0                   8.5                        33           196  \n",
            "1                   9.6                        29           221  \n",
            "2                   5.9                        48           136  \n",
            "3                  11.1                        25           255  \n",
            "4                  10.6                        27           244  \n"
          ]
        }
      ]
    },
    {
      "cell_type": "code",
      "source": [
        "df.info()"
      ],
      "metadata": {
        "colab": {
          "base_uri": "https://localhost:8080/"
        },
        "id": "uGTf4_PnqKgi",
        "outputId": "74e4f6ef-5185-4766-9243-e0febfb3a988"
      },
      "execution_count": 14,
      "outputs": [
        {
          "output_type": "stream",
          "name": "stdout",
          "text": [
            "<class 'pandas.core.frame.DataFrame'>\n",
            "RangeIndex: 1067 entries, 0 to 1066\n",
            "Data columns (total 13 columns):\n",
            " #   Column                    Non-Null Count  Dtype  \n",
            "---  ------                    --------------  -----  \n",
            " 0   MODELYEAR                 1067 non-null   int64  \n",
            " 1   MAKE                      1067 non-null   object \n",
            " 2   MODEL                     1067 non-null   object \n",
            " 3   VEHICLECLASS              1067 non-null   object \n",
            " 4   ENGINESIZE                1067 non-null   float64\n",
            " 5   CYLINDERS                 1067 non-null   int64  \n",
            " 6   TRANSMISSION              1067 non-null   object \n",
            " 7   FUELTYPE                  1067 non-null   object \n",
            " 8   FUELCONSUMPTION_CITY      1067 non-null   float64\n",
            " 9   FUELCONSUMPTION_HWY       1067 non-null   float64\n",
            " 10  FUELCONSUMPTION_COMB      1067 non-null   float64\n",
            " 11  FUELCONSUMPTION_COMB_MPG  1067 non-null   int64  \n",
            " 12  CO2EMISSIONS              1067 non-null   int64  \n",
            "dtypes: float64(4), int64(4), object(5)\n",
            "memory usage: 108.5+ KB\n"
          ]
        }
      ]
    },
    {
      "cell_type": "code",
      "source": [
        "df.describe()"
      ],
      "metadata": {
        "colab": {
          "base_uri": "https://localhost:8080/",
          "height": 300
        },
        "id": "ueF44v_2qWCO",
        "outputId": "8a2a4cf4-c24f-48db-a4be-dc7c7a1fdc34"
      },
      "execution_count": 15,
      "outputs": [
        {
          "output_type": "execute_result",
          "data": {
            "text/plain": [
              "       MODELYEAR   ENGINESIZE    CYLINDERS  FUELCONSUMPTION_CITY  \\\n",
              "count     1067.0  1067.000000  1067.000000           1067.000000   \n",
              "mean      2014.0     3.346298     5.794752             13.296532   \n",
              "std          0.0     1.415895     1.797447              4.101253   \n",
              "min       2014.0     1.000000     3.000000              4.600000   \n",
              "25%       2014.0     2.000000     4.000000             10.250000   \n",
              "50%       2014.0     3.400000     6.000000             12.600000   \n",
              "75%       2014.0     4.300000     8.000000             15.550000   \n",
              "max       2014.0     8.400000    12.000000             30.200000   \n",
              "\n",
              "       FUELCONSUMPTION_HWY  FUELCONSUMPTION_COMB  FUELCONSUMPTION_COMB_MPG  \\\n",
              "count          1067.000000           1067.000000               1067.000000   \n",
              "mean              9.474602             11.580881                 26.441425   \n",
              "std               2.794510              3.485595                  7.468702   \n",
              "min               4.900000              4.700000                 11.000000   \n",
              "25%               7.500000              9.000000                 21.000000   \n",
              "50%               8.800000             10.900000                 26.000000   \n",
              "75%              10.850000             13.350000                 31.000000   \n",
              "max              20.500000             25.800000                 60.000000   \n",
              "\n",
              "       CO2EMISSIONS  \n",
              "count   1067.000000  \n",
              "mean     256.228679  \n",
              "std       63.372304  \n",
              "min      108.000000  \n",
              "25%      207.000000  \n",
              "50%      251.000000  \n",
              "75%      294.000000  \n",
              "max      488.000000  "
            ],
            "text/html": [
              "\n",
              "  <div id=\"df-d3fcc395-653e-4ba4-b818-e3c99bdce15b\">\n",
              "    <div class=\"colab-df-container\">\n",
              "      <div>\n",
              "<style scoped>\n",
              "    .dataframe tbody tr th:only-of-type {\n",
              "        vertical-align: middle;\n",
              "    }\n",
              "\n",
              "    .dataframe tbody tr th {\n",
              "        vertical-align: top;\n",
              "    }\n",
              "\n",
              "    .dataframe thead th {\n",
              "        text-align: right;\n",
              "    }\n",
              "</style>\n",
              "<table border=\"1\" class=\"dataframe\">\n",
              "  <thead>\n",
              "    <tr style=\"text-align: right;\">\n",
              "      <th></th>\n",
              "      <th>MODELYEAR</th>\n",
              "      <th>ENGINESIZE</th>\n",
              "      <th>CYLINDERS</th>\n",
              "      <th>FUELCONSUMPTION_CITY</th>\n",
              "      <th>FUELCONSUMPTION_HWY</th>\n",
              "      <th>FUELCONSUMPTION_COMB</th>\n",
              "      <th>FUELCONSUMPTION_COMB_MPG</th>\n",
              "      <th>CO2EMISSIONS</th>\n",
              "    </tr>\n",
              "  </thead>\n",
              "  <tbody>\n",
              "    <tr>\n",
              "      <th>count</th>\n",
              "      <td>1067.0</td>\n",
              "      <td>1067.000000</td>\n",
              "      <td>1067.000000</td>\n",
              "      <td>1067.000000</td>\n",
              "      <td>1067.000000</td>\n",
              "      <td>1067.000000</td>\n",
              "      <td>1067.000000</td>\n",
              "      <td>1067.000000</td>\n",
              "    </tr>\n",
              "    <tr>\n",
              "      <th>mean</th>\n",
              "      <td>2014.0</td>\n",
              "      <td>3.346298</td>\n",
              "      <td>5.794752</td>\n",
              "      <td>13.296532</td>\n",
              "      <td>9.474602</td>\n",
              "      <td>11.580881</td>\n",
              "      <td>26.441425</td>\n",
              "      <td>256.228679</td>\n",
              "    </tr>\n",
              "    <tr>\n",
              "      <th>std</th>\n",
              "      <td>0.0</td>\n",
              "      <td>1.415895</td>\n",
              "      <td>1.797447</td>\n",
              "      <td>4.101253</td>\n",
              "      <td>2.794510</td>\n",
              "      <td>3.485595</td>\n",
              "      <td>7.468702</td>\n",
              "      <td>63.372304</td>\n",
              "    </tr>\n",
              "    <tr>\n",
              "      <th>min</th>\n",
              "      <td>2014.0</td>\n",
              "      <td>1.000000</td>\n",
              "      <td>3.000000</td>\n",
              "      <td>4.600000</td>\n",
              "      <td>4.900000</td>\n",
              "      <td>4.700000</td>\n",
              "      <td>11.000000</td>\n",
              "      <td>108.000000</td>\n",
              "    </tr>\n",
              "    <tr>\n",
              "      <th>25%</th>\n",
              "      <td>2014.0</td>\n",
              "      <td>2.000000</td>\n",
              "      <td>4.000000</td>\n",
              "      <td>10.250000</td>\n",
              "      <td>7.500000</td>\n",
              "      <td>9.000000</td>\n",
              "      <td>21.000000</td>\n",
              "      <td>207.000000</td>\n",
              "    </tr>\n",
              "    <tr>\n",
              "      <th>50%</th>\n",
              "      <td>2014.0</td>\n",
              "      <td>3.400000</td>\n",
              "      <td>6.000000</td>\n",
              "      <td>12.600000</td>\n",
              "      <td>8.800000</td>\n",
              "      <td>10.900000</td>\n",
              "      <td>26.000000</td>\n",
              "      <td>251.000000</td>\n",
              "    </tr>\n",
              "    <tr>\n",
              "      <th>75%</th>\n",
              "      <td>2014.0</td>\n",
              "      <td>4.300000</td>\n",
              "      <td>8.000000</td>\n",
              "      <td>15.550000</td>\n",
              "      <td>10.850000</td>\n",
              "      <td>13.350000</td>\n",
              "      <td>31.000000</td>\n",
              "      <td>294.000000</td>\n",
              "    </tr>\n",
              "    <tr>\n",
              "      <th>max</th>\n",
              "      <td>2014.0</td>\n",
              "      <td>8.400000</td>\n",
              "      <td>12.000000</td>\n",
              "      <td>30.200000</td>\n",
              "      <td>20.500000</td>\n",
              "      <td>25.800000</td>\n",
              "      <td>60.000000</td>\n",
              "      <td>488.000000</td>\n",
              "    </tr>\n",
              "  </tbody>\n",
              "</table>\n",
              "</div>\n",
              "      <button class=\"colab-df-convert\" onclick=\"convertToInteractive('df-d3fcc395-653e-4ba4-b818-e3c99bdce15b')\"\n",
              "              title=\"Convert this dataframe to an interactive table.\"\n",
              "              style=\"display:none;\">\n",
              "        \n",
              "  <svg xmlns=\"http://www.w3.org/2000/svg\" height=\"24px\"viewBox=\"0 0 24 24\"\n",
              "       width=\"24px\">\n",
              "    <path d=\"M0 0h24v24H0V0z\" fill=\"none\"/>\n",
              "    <path d=\"M18.56 5.44l.94 2.06.94-2.06 2.06-.94-2.06-.94-.94-2.06-.94 2.06-2.06.94zm-11 1L8.5 8.5l.94-2.06 2.06-.94-2.06-.94L8.5 2.5l-.94 2.06-2.06.94zm10 10l.94 2.06.94-2.06 2.06-.94-2.06-.94-.94-2.06-.94 2.06-2.06.94z\"/><path d=\"M17.41 7.96l-1.37-1.37c-.4-.4-.92-.59-1.43-.59-.52 0-1.04.2-1.43.59L10.3 9.45l-7.72 7.72c-.78.78-.78 2.05 0 2.83L4 21.41c.39.39.9.59 1.41.59.51 0 1.02-.2 1.41-.59l7.78-7.78 2.81-2.81c.8-.78.8-2.07 0-2.86zM5.41 20L4 18.59l7.72-7.72 1.47 1.35L5.41 20z\"/>\n",
              "  </svg>\n",
              "      </button>\n",
              "      \n",
              "  <style>\n",
              "    .colab-df-container {\n",
              "      display:flex;\n",
              "      flex-wrap:wrap;\n",
              "      gap: 12px;\n",
              "    }\n",
              "\n",
              "    .colab-df-convert {\n",
              "      background-color: #E8F0FE;\n",
              "      border: none;\n",
              "      border-radius: 50%;\n",
              "      cursor: pointer;\n",
              "      display: none;\n",
              "      fill: #1967D2;\n",
              "      height: 32px;\n",
              "      padding: 0 0 0 0;\n",
              "      width: 32px;\n",
              "    }\n",
              "\n",
              "    .colab-df-convert:hover {\n",
              "      background-color: #E2EBFA;\n",
              "      box-shadow: 0px 1px 2px rgba(60, 64, 67, 0.3), 0px 1px 3px 1px rgba(60, 64, 67, 0.15);\n",
              "      fill: #174EA6;\n",
              "    }\n",
              "\n",
              "    [theme=dark] .colab-df-convert {\n",
              "      background-color: #3B4455;\n",
              "      fill: #D2E3FC;\n",
              "    }\n",
              "\n",
              "    [theme=dark] .colab-df-convert:hover {\n",
              "      background-color: #434B5C;\n",
              "      box-shadow: 0px 1px 3px 1px rgba(0, 0, 0, 0.15);\n",
              "      filter: drop-shadow(0px 1px 2px rgba(0, 0, 0, 0.3));\n",
              "      fill: #FFFFFF;\n",
              "    }\n",
              "  </style>\n",
              "\n",
              "      <script>\n",
              "        const buttonEl =\n",
              "          document.querySelector('#df-d3fcc395-653e-4ba4-b818-e3c99bdce15b button.colab-df-convert');\n",
              "        buttonEl.style.display =\n",
              "          google.colab.kernel.accessAllowed ? 'block' : 'none';\n",
              "\n",
              "        async function convertToInteractive(key) {\n",
              "          const element = document.querySelector('#df-d3fcc395-653e-4ba4-b818-e3c99bdce15b');\n",
              "          const dataTable =\n",
              "            await google.colab.kernel.invokeFunction('convertToInteractive',\n",
              "                                                     [key], {});\n",
              "          if (!dataTable) return;\n",
              "\n",
              "          const docLinkHtml = 'Like what you see? Visit the ' +\n",
              "            '<a target=\"_blank\" href=https://colab.research.google.com/notebooks/data_table.ipynb>data table notebook</a>'\n",
              "            + ' to learn more about interactive tables.';\n",
              "          element.innerHTML = '';\n",
              "          dataTable['output_type'] = 'display_data';\n",
              "          await google.colab.output.renderOutput(dataTable, element);\n",
              "          const docLink = document.createElement('div');\n",
              "          docLink.innerHTML = docLinkHtml;\n",
              "          element.appendChild(docLink);\n",
              "        }\n",
              "      </script>\n",
              "    </div>\n",
              "  </div>\n",
              "  "
            ]
          },
          "metadata": {},
          "execution_count": 15
        }
      ]
    },
    {
      "cell_type": "code",
      "source": [
        "df.columns"
      ],
      "metadata": {
        "colab": {
          "base_uri": "https://localhost:8080/"
        },
        "id": "At4GORpAq2_-",
        "outputId": "49d2cbfc-46be-443a-d02e-84524180cbce"
      },
      "execution_count": 16,
      "outputs": [
        {
          "output_type": "execute_result",
          "data": {
            "text/plain": [
              "Index(['MODELYEAR', 'MAKE', 'MODEL', 'VEHICLECLASS', 'ENGINESIZE', 'CYLINDERS',\n",
              "       'TRANSMISSION', 'FUELTYPE', 'FUELCONSUMPTION_CITY',\n",
              "       'FUELCONSUMPTION_HWY', 'FUELCONSUMPTION_COMB',\n",
              "       'FUELCONSUMPTION_COMB_MPG', 'CO2EMISSIONS'],\n",
              "      dtype='object')"
            ]
          },
          "metadata": {},
          "execution_count": 16
        }
      ]
    },
    {
      "cell_type": "markdown",
      "source": [],
      "metadata": {
        "id": "S-O1r1IjrvHC"
      }
    },
    {
      "cell_type": "code",
      "source": [
        "df['CO2EMISSIONS'].corr(df['FUELCONSUMPTION_COMB'])"
      ],
      "metadata": {
        "colab": {
          "base_uri": "https://localhost:8080/"
        },
        "id": "iYhMaH5NrPk9",
        "outputId": "651f4922-b09d-428c-c211-d8394148a8bd"
      },
      "execution_count": 17,
      "outputs": [
        {
          "output_type": "execute_result",
          "data": {
            "text/plain": [
              "0.8921285933157567"
            ]
          },
          "metadata": {},
          "execution_count": 17
        }
      ]
    },
    {
      "cell_type": "code",
      "source": [],
      "metadata": {
        "id": "MXODIMZcsa92"
      },
      "execution_count": 17,
      "outputs": []
    },
    {
      "cell_type": "code",
      "source": [
        "df['CO2EMISSIONS'].corr(df['CYLINDERS'])"
      ],
      "metadata": {
        "colab": {
          "base_uri": "https://localhost:8080/"
        },
        "id": "zWdU-G-Ar0lv",
        "outputId": "c5047f6d-454b-4a1e-a348-693ef8a62788"
      },
      "execution_count": 18,
      "outputs": [
        {
          "output_type": "execute_result",
          "data": {
            "text/plain": [
              "0.8496845920141155"
            ]
          },
          "metadata": {},
          "execution_count": 18
        }
      ]
    },
    {
      "cell_type": "code",
      "source": [
        "import seaborn as sns\n",
        "sns.scatterplot(df['CYLINDERS'],df['CO2EMISSIONS'])"
      ],
      "metadata": {
        "colab": {
          "base_uri": "https://localhost:8080/",
          "height": 352
        },
        "id": "c2utJNAjscM_",
        "outputId": "592d1aa1-cafb-4114-8880-807b9779137b"
      },
      "execution_count": 19,
      "outputs": [
        {
          "output_type": "stream",
          "name": "stderr",
          "text": [
            "/usr/local/lib/python3.8/dist-packages/seaborn/_decorators.py:36: FutureWarning: Pass the following variables as keyword args: x, y. From version 0.12, the only valid positional argument will be `data`, and passing other arguments without an explicit keyword will result in an error or misinterpretation.\n",
            "  warnings.warn(\n"
          ]
        },
        {
          "output_type": "execute_result",
          "data": {
            "text/plain": [
              "<matplotlib.axes._subplots.AxesSubplot at 0x7fd2ab3be2b0>"
            ]
          },
          "metadata": {},
          "execution_count": 19
        },
        {
          "output_type": "display_data",
          "data": {
            "text/plain": [
              "<Figure size 432x288 with 1 Axes>"
            ],
            "image/png": "[encoded data removed]"
          },
          "metadata": {
            "needs_background": "light"
          }
        }
      ]
    },
    {
      "cell_type": "code",
      "source": [
        "sns.scatterplot(df['FUELCONSUMPTION_COMB'],df['CO2EMISSIONS'])"
      ],
      "metadata": {
        "colab": {
          "base_uri": "https://localhost:8080/",
          "height": 353
        },
        "id": "wzxd-rhbtAAv",
        "outputId": "69eb2e21-919f-433c-8f60-725728e20db1"
      },
      "execution_count": 20,
      "outputs": [
        {
          "output_type": "stream",
          "name": "stderr",
          "text": [
            "/usr/local/lib/python3.8/dist-packages/seaborn/_decorators.py:36: FutureWarning: Pass the following variables as keyword args: x, y. From version 0.12, the only valid positional argument will be `data`, and passing other arguments without an explicit keyword will result in an error or misinterpretation.\n",
            "  warnings.warn(\n"
          ]
        },
        {
          "output_type": "execute_result",
          "data": {
            "text/plain": [
              "<matplotlib.axes._subplots.AxesSubplot at 0x7fd2ab2fd6a0>"
            ]
          },
          "metadata": {},
          "execution_count": 20
        },
        {
          "output_type": "display_data",
          "data": {
            "text/plain": [
              "<Figure size 432x288 with 1 Axes>"
            ],
            "image/png": "[encoded data removed]"
          },
          "metadata": {
            "needs_background": "light"
          }
        }
      ]
    },
    {
      "cell_type": "code",
      "source": [
        "df2=df[['FUELCONSUMPTION_COMB','CYLINDERS','CO2EMISSIONS']]"
      ],
      "metadata": {
        "id": "-WIIRjVhtN0v"
      },
      "execution_count": 21,
      "outputs": []
    },
    {
      "cell_type": "code",
      "source": [
        "df2"
      ],
      "metadata": {
        "colab": {
          "base_uri": "https://localhost:8080/",
          "height": 424
        },
        "id": "l0r2uLCduWFs",
        "outputId": "9de913a9-e926-44d8-eac2-8dae52bb20dd"
      },
      "execution_count": 22,
      "outputs": [
        {
          "output_type": "execute_result",
          "data": {
            "text/plain": [
              "      FUELCONSUMPTION_COMB  CYLINDERS  CO2EMISSIONS\n",
              "0                      8.5          4           196\n",
              "1                      9.6          4           221\n",
              "2                      5.9          4           136\n",
              "3                     11.1          6           255\n",
              "4                     10.6          6           244\n",
              "...                    ...        ...           ...\n",
              "1062                  11.8          6           271\n",
              "1063                  11.5          6           264\n",
              "1064                  11.8          6           271\n",
              "1065                  11.3          6           260\n",
              "1066                  12.8          6           294\n",
              "\n",
              "[1067 rows x 3 columns]"
            ],
            "text/html": [
              "\n",
              "  <div id=\"df-18a8a86b-b5d6-4c65-99d9-c13f76a2d367\">\n",
              "    <div class=\"colab-df-container\">\n",
              "      <div>\n",
              "<style scoped>\n",
              "    .dataframe tbody tr th:only-of-type {\n",
              "        vertical-align: middle;\n",
              "    }\n",
              "\n",
              "    .dataframe tbody tr th {\n",
              "        vertical-align: top;\n",
              "    }\n",
              "\n",
              "    .dataframe thead th {\n",
              "        text-align: right;\n",
              "    }\n",
              "</style>\n",
              "<table border=\"1\" class=\"dataframe\">\n",
              "  <thead>\n",
              "    <tr style=\"text-align: right;\">\n",
              "      <th></th>\n",
              "      <th>FUELCONSUMPTION_COMB</th>\n",
              "      <th>CYLINDERS</th>\n",
              "      <th>CO2EMISSIONS</th>\n",
              "    </tr>\n",
              "  </thead>\n",
              "  <tbody>\n",
              "    <tr>\n",
              "      <th>0</th>\n",
              "      <td>8.5</td>\n",
              "      <td>4</td>\n",
              "      <td>196</td>\n",
              "    </tr>\n",
              "    <tr>\n",
              "      <th>1</th>\n",
              "      <td>9.6</td>\n",
              "      <td>4</td>\n",
              "      <td>221</td>\n",
              "    </tr>\n",
              "    <tr>\n",
              "      <th>2</th>\n",
              "      <td>5.9</td>\n",
              "      <td>4</td>\n",
              "      <td>136</td>\n",
              "    </tr>\n",
              "    <tr>\n",
              "      <th>3</th>\n",
              "      <td>11.1</td>\n",
              "      <td>6</td>\n",
              "      <td>255</td>\n",
              "    </tr>\n",
              "    <tr>\n",
              "      <th>4</th>\n",
              "      <td>10.6</td>\n",
              "      <td>6</td>\n",
              "      <td>244</td>\n",
              "    </tr>\n",
              "    <tr>\n",
              "      <th>...</th>\n",
              "      <td>...</td>\n",
              "      <td>...</td>\n",
              "      <td>...</td>\n",
              "    </tr>\n",
              "    <tr>\n",
              "      <th>1062</th>\n",
              "      <td>11.8</td>\n",
              "      <td>6</td>\n",
              "      <td>271</td>\n",
              "    </tr>\n",
              "    <tr>\n",
              "      <th>1063</th>\n",
              "      <td>11.5</td>\n",
              "      <td>6</td>\n",
              "      <td>264</td>\n",
              "    </tr>\n",
              "    <tr>\n",
              "      <th>1064</th>\n",
              "      <td>11.8</td>\n",
              "      <td>6</td>\n",
              "      <td>271</td>\n",
              "    </tr>\n",
              "    <tr>\n",
              "      <th>1065</th>\n",
              "      <td>11.3</td>\n",
              "      <td>6</td>\n",
              "      <td>260</td>\n",
              "    </tr>\n",
              "    <tr>\n",
              "      <th>1066</th>\n",
              "      <td>12.8</td>\n",
              "      <td>6</td>\n",
              "      <td>294</td>\n",
              "    </tr>\n",
              "  </tbody>\n",
              "</table>\n",
              "<p>1067 rows × 3 columns</p>\n",
              "</div>\n",
              "      <button class=\"colab-df-convert\" onclick=\"convertToInteractive('df-18a8a86b-b5d6-4c65-99d9-c13f76a2d367')\"\n",
              "              title=\"Convert this dataframe to an interactive table.\"\n",
              "              style=\"display:none;\">\n",
              "        \n",
              "  <svg xmlns=\"http://www.w3.org/2000/svg\" height=\"24px\"viewBox=\"0 0 24 24\"\n",
              "       width=\"24px\">\n",
              "    <path d=\"M0 0h24v24H0V0z\" fill=\"none\"/>\n",
              "    <path d=\"M18.56 5.44l.94 2.06.94-2.06 2.06-.94-2.06-.94-.94-2.06-.94 2.06-2.06.94zm-11 1L8.5 8.5l.94-2.06 2.06-.94-2.06-.94L8.5 2.5l-.94 2.06-2.06.94zm10 10l.94 2.06.94-2.06 2.06-.94-2.06-.94-.94-2.06-.94 2.06-2.06.94z\"/><path d=\"M17.41 7.96l-1.37-1.37c-.4-.4-.92-.59-1.43-.59-.52 0-1.04.2-1.43.59L10.3 9.45l-7.72 7.72c-.78.78-.78 2.05 0 2.83L4 21.41c.39.39.9.59 1.41.59.51 0 1.02-.2 1.41-.59l7.78-7.78 2.81-2.81c.8-.78.8-2.07 0-2.86zM5.41 20L4 18.59l7.72-7.72 1.47 1.35L5.41 20z\"/>\n",
              "  </svg>\n",
              "      </button>\n",
              "      \n",
              "  <style>\n",
              "    .colab-df-container {\n",
              "      display:flex;\n",
              "      flex-wrap:wrap;\n",
              "      gap: 12px;\n",
              "    }\n",
              "\n",
              "    .colab-df-convert {\n",
              "      background-color: #E8F0FE;\n",
              "      border: none;\n",
              "      border-radius: 50%;\n",
              "      cursor: pointer;\n",
              "      display: none;\n",
              "      fill: #1967D2;\n",
              "      height: 32px;\n",
              "      padding: 0 0 0 0;\n",
              "      width: 32px;\n",
              "    }\n",
              "\n",
              "    .colab-df-convert:hover {\n",
              "      background-color: #E2EBFA;\n",
              "      box-shadow: 0px 1px 2px rgba(60, 64, 67, 0.3), 0px 1px 3px 1px rgba(60, 64, 67, 0.15);\n",
              "      fill: #174EA6;\n",
              "    }\n",
              "\n",
              "    [theme=dark] .colab-df-convert {\n",
              "      background-color: #3B4455;\n",
              "      fill: #D2E3FC;\n",
              "    }\n",
              "\n",
              "    [theme=dark] .colab-df-convert:hover {\n",
              "      background-color: #434B5C;\n",
              "      box-shadow: 0px 1px 3px 1px rgba(0, 0, 0, 0.15);\n",
              "      filter: drop-shadow(0px 1px 2px rgba(0, 0, 0, 0.3));\n",
              "      fill: #FFFFFF;\n",
              "    }\n",
              "  </style>\n",
              "\n",
              "      <script>\n",
              "        const buttonEl =\n",
              "          document.querySelector('#df-18a8a86b-b5d6-4c65-99d9-c13f76a2d367 button.colab-df-convert');\n",
              "        buttonEl.style.display =\n",
              "          google.colab.kernel.accessAllowed ? 'block' : 'none';\n",
              "\n",
              "        async function convertToInteractive(key) {\n",
              "          const element = document.querySelector('#df-18a8a86b-b5d6-4c65-99d9-c13f76a2d367');\n",
              "          const dataTable =\n",
              "            await google.colab.kernel.invokeFunction('convertToInteractive',\n",
              "                                                     [key], {});\n",
              "          if (!dataTable) return;\n",
              "\n",
              "          const docLinkHtml = 'Like what you see? Visit the ' +\n",
              "            '<a target=\"_blank\" href=https://colab.research.google.com/notebooks/data_table.ipynb>data table notebook</a>'\n",
              "            + ' to learn more about interactive tables.';\n",
              "          element.innerHTML = '';\n",
              "          dataTable['output_type'] = 'display_data';\n",
              "          await google.colab.output.renderOutput(dataTable, element);\n",
              "          const docLink = document.createElement('div');\n",
              "          docLink.innerHTML = docLinkHtml;\n",
              "          element.appendChild(docLink);\n",
              "        }\n",
              "      </script>\n",
              "    </div>\n",
              "  </div>\n",
              "  "
            ]
          },
          "metadata": {},
          "execution_count": 22
        }
      ]
    },
    {
      "cell_type": "code",
      "source": [
        "x=df2[['CYLINDERS','FUELCONSUMPTION_COMB']]\n",
        "y=df2['CO2EMISSIONS']"
      ],
      "metadata": {
        "id": "VGmuREt7uXax"
      },
      "execution_count": 23,
      "outputs": []
    },
    {
      "cell_type": "code",
      "source": [
        "x"
      ],
      "metadata": {
        "colab": {
          "base_uri": "https://localhost:8080/",
          "height": 424
        },
        "id": "2YSSEj74wNGn",
        "outputId": "957b72f3-5da9-420d-ff0f-4ab8739a3f37"
      },
      "execution_count": 24,
      "outputs": [
        {
          "output_type": "execute_result",
          "data": {
            "text/plain": [
              "      CYLINDERS  FUELCONSUMPTION_COMB\n",
              "0             4                   8.5\n",
              "1             4                   9.6\n",
              "2             4                   5.9\n",
              "3             6                  11.1\n",
              "4             6                  10.6\n",
              "...         ...                   ...\n",
              "1062          6                  11.8\n",
              "1063          6                  11.5\n",
              "1064          6                  11.8\n",
              "1065          6                  11.3\n",
              "1066          6                  12.8\n",
              "\n",
              "[1067 rows x 2 columns]"
            ],
            "text/html": [
              "\n",
              "  <div id=\"df-829b3e0c-8492-4259-8e79-f44b0425be1f\">\n",
              "    <div class=\"colab-df-container\">\n",
              "      <div>\n",
              "<style scoped>\n",
              "    .dataframe tbody tr th:only-of-type {\n",
              "        vertical-align: middle;\n",
              "    }\n",
              "\n",
              "    .dataframe tbody tr th {\n",
              "        vertical-align: top;\n",
              "    }\n",
              "\n",
              "    .dataframe thead th {\n",
              "        text-align: right;\n",
              "    }\n",
              "</style>\n",
              "<table border=\"1\" class=\"dataframe\">\n",
              "  <thead>\n",
              "    <tr style=\"text-align: right;\">\n",
              "      <th></th>\n",
              "      <th>CYLINDERS</th>\n",
              "      <th>FUELCONSUMPTION_COMB</th>\n",
              "    </tr>\n",
              "  </thead>\n",
              "  <tbody>\n",
              "    <tr>\n",
              "      <th>0</th>\n",
              "      <td>4</td>\n",
              "      <td>8.5</td>\n",
              "    </tr>\n",
              "    <tr>\n",
              "      <th>1</th>\n",
              "      <td>4</td>\n",
              "      <td>9.6</td>\n",
              "    </tr>\n",
              "    <tr>\n",
              "      <th>2</th>\n",
              "      <td>4</td>\n",
              "      <td>5.9</td>\n",
              "    </tr>\n",
              "    <tr>\n",
              "      <th>3</th>\n",
              "      <td>6</td>\n",
              "      <td>11.1</td>\n",
              "    </tr>\n",
              "    <tr>\n",
              "      <th>4</th>\n",
              "      <td>6</td>\n",
              "      <td>10.6</td>\n",
              "    </tr>\n",
              "    <tr>\n",
              "      <th>...</th>\n",
              "      <td>...</td>\n",
              "      <td>...</td>\n",
              "    </tr>\n",
              "    <tr>\n",
              "      <th>1062</th>\n",
              "      <td>6</td>\n",
              "      <td>11.8</td>\n",
              "    </tr>\n",
              "    <tr>\n",
              "      <th>1063</th>\n",
              "      <td>6</td>\n",
              "      <td>11.5</td>\n",
              "    </tr>\n",
              "    <tr>\n",
              "      <th>1064</th>\n",
              "      <td>6</td>\n",
              "      <td>11.8</td>\n",
              "    </tr>\n",
              "    <tr>\n",
              "      <th>1065</th>\n",
              "      <td>6</td>\n",
              "      <td>11.3</td>\n",
              "    </tr>\n",
              "    <tr>\n",
              "      <th>1066</th>\n",
              "      <td>6</td>\n",
              "      <td>12.8</td>\n",
              "    </tr>\n",
              "  </tbody>\n",
              "</table>\n",
              "<p>1067 rows × 2 columns</p>\n",
              "</div>\n",
              "      <button class=\"colab-df-convert\" onclick=\"convertToInteractive('df-829b3e0c-8492-4259-8e79-f44b0425be1f')\"\n",
              "              title=\"Convert this dataframe to an interactive table.\"\n",
              "              style=\"display:none;\">\n",
              "        \n",
              "  <svg xmlns=\"http://www.w3.org/2000/svg\" height=\"24px\"viewBox=\"0 0 24 24\"\n",
              "       width=\"24px\">\n",
              "    <path d=\"M0 0h24v24H0V0z\" fill=\"none\"/>\n",
              "    <path d=\"M18.56 5.44l.94 2.06.94-2.06 2.06-.94-2.06-.94-.94-2.06-.94 2.06-2.06.94zm-11 1L8.5 8.5l.94-2.06 2.06-.94-2.06-.94L8.5 2.5l-.94 2.06-2.06.94zm10 10l.94 2.06.94-2.06 2.06-.94-2.06-.94-.94-2.06-.94 2.06-2.06.94z\"/><path d=\"M17.41 7.96l-1.37-1.37c-.4-.4-.92-.59-1.43-.59-.52 0-1.04.2-1.43.59L10.3 9.45l-7.72 7.72c-.78.78-.78 2.05 0 2.83L4 21.41c.39.39.9.59 1.41.59.51 0 1.02-.2 1.41-.59l7.78-7.78 2.81-2.81c.8-.78.8-2.07 0-2.86zM5.41 20L4 18.59l7.72-7.72 1.47 1.35L5.41 20z\"/>\n",
              "  </svg>\n",
              "      </button>\n",
              "      \n",
              "  <style>\n",
              "    .colab-df-container {\n",
              "      display:flex;\n",
              "      flex-wrap:wrap;\n",
              "      gap: 12px;\n",
              "    }\n",
              "\n",
              "    .colab-df-convert {\n",
              "      background-color: #E8F0FE;\n",
              "      border: none;\n",
              "      border-radius: 50%;\n",
              "      cursor: pointer;\n",
              "      display: none;\n",
              "      fill: #1967D2;\n",
              "      height: 32px;\n",
              "      padding: 0 0 0 0;\n",
              "      width: 32px;\n",
              "    }\n",
              "\n",
              "    .colab-df-convert:hover {\n",
              "      background-color: #E2EBFA;\n",
              "      box-shadow: 0px 1px 2px rgba(60, 64, 67, 0.3), 0px 1px 3px 1px rgba(60, 64, 67, 0.15);\n",
              "      fill: #174EA6;\n",
              "    }\n",
              "\n",
              "    [theme=dark] .colab-df-convert {\n",
              "      background-color: #3B4455;\n",
              "      fill: #D2E3FC;\n",
              "    }\n",
              "\n",
              "    [theme=dark] .colab-df-convert:hover {\n",
              "      background-color: #434B5C;\n",
              "      box-shadow: 0px 1px 3px 1px rgba(0, 0, 0, 0.15);\n",
              "      filter: drop-shadow(0px 1px 2px rgba(0, 0, 0, 0.3));\n",
              "      fill: #FFFFFF;\n",
              "    }\n",
              "  </style>\n",
              "\n",
              "      <script>\n",
              "        const buttonEl =\n",
              "          document.querySelector('#df-829b3e0c-8492-4259-8e79-f44b0425be1f button.colab-df-convert');\n",
              "        buttonEl.style.display =\n",
              "          google.colab.kernel.accessAllowed ? 'block' : 'none';\n",
              "\n",
              "        async function convertToInteractive(key) {\n",
              "          const element = document.querySelector('#df-829b3e0c-8492-4259-8e79-f44b0425be1f');\n",
              "          const dataTable =\n",
              "            await google.colab.kernel.invokeFunction('convertToInteractive',\n",
              "                                                     [key], {});\n",
              "          if (!dataTable) return;\n",
              "\n",
              "          const docLinkHtml = 'Like what you see? Visit the ' +\n",
              "            '<a target=\"_blank\" href=https://colab.research.google.com/notebooks/data_table.ipynb>data table notebook</a>'\n",
              "            + ' to learn more about interactive tables.';\n",
              "          element.innerHTML = '';\n",
              "          dataTable['output_type'] = 'display_data';\n",
              "          await google.colab.output.renderOutput(dataTable, element);\n",
              "          const docLink = document.createElement('div');\n",
              "          docLink.innerHTML = docLinkHtml;\n",
              "          element.appendChild(docLink);\n",
              "        }\n",
              "      </script>\n",
              "    </div>\n",
              "  </div>\n",
              "  "
            ]
          },
          "metadata": {},
          "execution_count": 24
        }
      ]
    },
    {
      "cell_type": "code",
      "source": [
        "y"
      ],
      "metadata": {
        "colab": {
          "base_uri": "https://localhost:8080/"
        },
        "id": "fRw5s49awWPk",
        "outputId": "d22c9dd5-7132-4073-e424-0af35a20dd7f"
      },
      "execution_count": 25,
      "outputs": [
        {
          "output_type": "execute_result",
          "data": {
            "text/plain": [
              "0       196\n",
              "1       221\n",
              "2       136\n",
              "3       255\n",
              "4       244\n",
              "       ... \n",
              "1062    271\n",
              "1063    264\n",
              "1064    271\n",
              "1065    260\n",
              "1066    294\n",
              "Name: CO2EMISSIONS, Length: 1067, dtype: int64"
            ]
          },
          "metadata": {},
          "execution_count": 25
        }
      ]
    },
    {
      "cell_type": "code",
      "source": [
        "x=np.asanyarray(x)\n",
        "y=np.asanyarray(y)"
      ],
      "metadata": {
        "id": "nP1OM8X2wW_O"
      },
      "execution_count": 26,
      "outputs": []
    },
    {
      "cell_type": "code",
      "source": [
        "\n",
        "y"
      ],
      "metadata": {
        "colab": {
          "base_uri": "https://localhost:8080/"
        },
        "id": "igrZfT42wlKc",
        "outputId": "4ed9c40c-c3cc-406c-c88a-7c952693e738"
      },
      "execution_count": 27,
      "outputs": [
        {
          "output_type": "execute_result",
          "data": {
            "text/plain": [
              "array([196, 221, 136, ..., 271, 260, 294])"
            ]
          },
          "metadata": {},
          "execution_count": 27
        }
      ]
    },
    {
      "cell_type": "code",
      "source": [
        "x"
      ],
      "metadata": {
        "colab": {
          "base_uri": "https://localhost:8080/"
        },
        "id": "CUMRBlVcw8z8",
        "outputId": "4c3771bf-214f-4ccc-a71e-960da42bbd3d"
      },
      "execution_count": 28,
      "outputs": [
        {
          "output_type": "execute_result",
          "data": {
            "text/plain": [
              "array([[ 4. ,  8.5],\n",
              "       [ 4. ,  9.6],\n",
              "       [ 4. ,  5.9],\n",
              "       ...,\n",
              "       [ 6. , 11.8],\n",
              "       [ 6. , 11.3],\n",
              "       [ 6. , 12.8]])"
            ]
          },
          "metadata": {},
          "execution_count": 28
        }
      ]
    },
    {
      "cell_type": "code",
      "source": [
        "import sklearn\n",
        "from sklearn.model_selection import train_test_split\n",
        "\n",
        "x_train,x_test,y_train,y_test=train_test_split(x,y,test_size=0.2)"
      ],
      "metadata": {
        "id": "-dWY3-mGxAcb"
      },
      "execution_count": 29,
      "outputs": []
    },
    {
      "cell_type": "code",
      "source": [
        "x_train"
      ],
      "metadata": {
        "colab": {
          "base_uri": "https://localhost:8080/"
        },
        "id": "ocImCpPsyNv4",
        "outputId": "952f6001-92b1-4ae2-e5e6-fa6b90bea1db"
      },
      "execution_count": 30,
      "outputs": [
        {
          "output_type": "execute_result",
          "data": {
            "text/plain": [
              "array([[ 6. , 11.5],\n",
              "       [ 4. ,  9.6],\n",
              "       [ 8. , 25.8],\n",
              "       ...,\n",
              "       [ 8. , 12.6],\n",
              "       [ 8. , 14.8],\n",
              "       [ 4. ,  9.9]])"
            ]
          },
          "metadata": {},
          "execution_count": 30
        }
      ]
    },
    {
      "cell_type": "code",
      "source": [
        "y_train"
      ],
      "metadata": {
        "colab": {
          "base_uri": "https://localhost:8080/"
        },
        "id": "Y5SN5E6yyQCB",
        "outputId": "73a5633b-996f-4f9a-9264-ccff14336678"
      },
      "execution_count": 31,
      "outputs": [
        {
          "output_type": "execute_result",
          "data": {
            "text/plain": [
              "array([264, 221, 413, 235, 179, 262, 253, 258, 212, 254, 216, 196, 239,\n",
              "       294, 221, 264, 285, 264, 345, 170, 179, 294, 308, 265, 239, 248,\n",
              "       230, 225, 294, 285, 278, 294, 221, 228, 216, 269, 310, 212, 380,\n",
              "       255, 198, 235, 147, 225, 246, 264, 216, 229, 161, 380, 200, 242,\n",
              "       175, 264, 200, 184, 218, 258, 264, 264, 317, 366, 274, 382, 338,\n",
              "       184, 198, 255, 260, 177, 186, 126, 269, 202, 259, 331, 212, 301,\n",
              "       131, 161, 196, 360, 232, 294, 294, 235, 354, 264, 258, 354, 259,\n",
              "       255, 218, 400, 207, 345, 177, 262, 342, 281, 322, 278, 264, 242,\n",
              "       202, 253, 197, 184, 196, 179, 175, 297, 223, 267, 260, 281, 209,\n",
              "       347, 168, 327, 294, 356, 184, 315, 346, 189, 368, 384, 207, 237,\n",
              "       324, 184, 200, 225, 218, 253, 230, 235, 205, 186, 177, 225, 228,\n",
              "       177, 198, 402, 184, 230, 184, 255, 200, 239, 258, 377, 242, 230,\n",
              "       175, 271, 382, 179, 370, 205, 354, 251, 232, 288, 168, 198, 297,\n",
              "       290, 230, 196, 363, 255, 294, 306, 294, 304, 297, 299, 264, 292,\n",
              "       281, 177, 342, 184, 159, 209, 224, 248, 207, 380, 389, 221, 251,\n",
              "       230, 196, 344, 255, 110, 209, 189, 269, 221, 347, 138, 179, 184,\n",
              "       184, 244, 179, 285, 166, 230, 267, 283, 168, 225, 359, 175, 352,\n",
              "       324, 186, 232, 253, 232, 324, 269, 191, 271, 264, 209, 320, 237,\n",
              "       205, 380, 202, 205, 175, 315, 356, 278, 290, 182, 216, 260, 191,\n",
              "       267, 301, 225, 250, 246, 318, 173, 224, 246, 202, 258, 189, 421,\n",
              "       288, 212, 205, 253, 172, 216, 179, 346, 350, 209, 209, 322, 237,\n",
              "       244, 297, 218, 262, 170, 196, 207, 304, 334, 242, 235, 251, 258,\n",
              "       277, 207, 244, 272, 230, 246, 297, 198, 368, 221, 191, 200, 306,\n",
              "       270, 230, 275, 232, 280, 214, 250, 196, 216, 235, 269, 393, 246,\n",
              "       223, 246, 202, 359, 290, 235, 334, 281, 223, 209, 207, 126, 163,\n",
              "       308, 228, 200, 200, 278, 382, 274, 165, 251, 270, 221, 230, 301,\n",
              "       147, 225, 260, 193, 177, 329, 152, 259, 324, 294, 317, 232, 189,\n",
              "       310, 272, 156, 256, 225, 283, 299, 163, 235, 230, 239, 225, 196,\n",
              "       315, 202, 278, 159, 380, 191, 251, 209, 281, 181, 218, 198, 191,\n",
              "       179, 200, 362, 223, 253, 251, 283, 407, 435, 246, 368, 278, 340,\n",
              "       380, 329, 322, 193, 232, 271, 230, 136, 182, 196, 292, 308, 253,\n",
              "       288, 232, 290, 242, 366, 288, 232, 285, 320, 237, 191, 343, 262,\n",
              "       161, 213, 110, 338, 184, 138, 285, 254, 186, 290, 189, 269, 189,\n",
              "       207, 196, 338, 244, 251, 260, 331, 324, 225, 255, 347, 361, 221,\n",
              "       198, 274, 271, 317, 159, 258, 235, 258, 317, 317, 322, 193, 320,\n",
              "       248, 285, 393, 248, 271, 225, 184, 315, 216, 195, 221, 301, 262,\n",
              "       193, 159, 175, 179, 283, 251, 239, 198, 292, 362, 214, 230, 306,\n",
              "       191, 186, 145, 207, 200, 419, 292, 237, 179, 292, 228, 306, 262,\n",
              "       306, 196, 189, 258, 362, 373, 175, 224, 414, 228, 269, 317, 347,\n",
              "       308, 308, 221, 409, 186, 336, 340, 212, 246, 198, 380, 186, 225,\n",
              "       152, 214, 196, 407, 356, 269, 271, 317, 196, 232, 267, 350, 230,\n",
              "       237, 181, 334, 411, 290, 253, 271, 297, 276, 209, 251, 225, 242,\n",
              "       260, 271, 212, 262, 227, 317, 193, 258, 377, 191, 262, 177, 274,\n",
              "       347, 191, 283, 216, 225, 186, 396, 166, 200, 251, 255, 290, 198,\n",
              "       267, 264, 393, 359, 315, 419, 340, 253, 292, 276, 177, 182, 327,\n",
              "       386, 301, 177, 248, 338, 366, 200, 317, 191, 265, 276, 269, 172,\n",
              "       184, 283, 276, 267, 354, 258, 285, 244, 196, 147, 230, 172, 338,\n",
              "       223, 129, 209, 258, 230, 260, 177, 193, 232, 186, 175, 186, 278,\n",
              "       294, 196, 317, 223, 214, 179, 297, 380, 232, 255, 246, 280, 294,\n",
              "       244, 267, 306, 292, 182, 189, 260, 246, 354, 308, 214, 380, 222,\n",
              "       248, 308, 398, 239, 278, 230, 228, 179, 354, 239, 196, 209, 292,\n",
              "       281, 278, 260, 242, 124, 294, 232, 221, 297, 200, 274, 432, 329,\n",
              "       179, 306, 163, 255, 336, 356, 276, 322, 317, 380, 214, 258, 290,\n",
              "       175, 244, 189, 202, 192, 246, 138, 264, 251, 223, 274, 262, 196,\n",
              "       214, 166, 209, 225, 242, 184, 214, 202, 267, 411, 267, 191, 237,\n",
              "       194, 258, 168, 202, 285, 225, 380, 283, 419, 193, 258, 294, 336,\n",
              "       184, 198, 340, 267, 207, 198, 294, 380, 297, 304, 294, 253, 267,\n",
              "       274, 251, 235, 344, 363, 145, 177, 237, 301, 237, 313, 294, 354,\n",
              "       218, 340, 313, 292, 216, 244, 297, 310, 189, 143, 207, 246, 191,\n",
              "       292, 260, 283, 262, 288, 354, 292, 327, 382, 244, 283, 260, 294,\n",
              "       209, 143, 283, 218, 281, 294, 168, 216, 277, 221, 317, 380, 292,\n",
              "       299, 193, 308, 212, 286, 488, 294, 283, 207, 237, 218, 414, 294,\n",
              "       315, 334, 200, 194, 260, 264, 317, 212, 179, 253, 260, 239, 228,\n",
              "       262, 338, 108, 361, 297, 225, 212, 253, 165, 207, 277, 380, 285,\n",
              "       237, 264, 235, 251, 198, 221, 338, 274, 182, 244, 216, 308, 222,\n",
              "       310, 246, 207, 276, 179, 290, 340, 228])"
            ]
          },
          "metadata": {},
          "execution_count": 31
        }
      ]
    },
    {
      "cell_type": "code",
      "source": [
        "y_train.shape"
      ],
      "metadata": {
        "colab": {
          "base_uri": "https://localhost:8080/"
        },
        "id": "ua05TE4FyX0j",
        "outputId": "a1eb902b-4c16-46e2-9341-ceaf891607a3"
      },
      "execution_count": 32,
      "outputs": [
        {
          "output_type": "execute_result",
          "data": {
            "text/plain": [
              "(853,)"
            ]
          },
          "metadata": {},
          "execution_count": 32
        }
      ]
    },
    {
      "cell_type": "code",
      "source": [
        "x_train.shape"
      ],
      "metadata": {
        "colab": {
          "base_uri": "https://localhost:8080/"
        },
        "id": "iwUVdAyEypjA",
        "outputId": "f4a1eb5b-d6f3-4e3c-aea7-dd8fe644c32c"
      },
      "execution_count": 33,
      "outputs": [
        {
          "output_type": "execute_result",
          "data": {
            "text/plain": [
              "(853, 2)"
            ]
          },
          "metadata": {},
          "execution_count": 33
        }
      ]
    },
    {
      "cell_type": "code",
      "source": [
        "x_test.shape"
      ],
      "metadata": {
        "colab": {
          "base_uri": "https://localhost:8080/"
        },
        "id": "aV7CO63Ty2tF",
        "outputId": "321e58cb-3cb6-4362-dde9-d43ebc45435b"
      },
      "execution_count": 34,
      "outputs": [
        {
          "output_type": "execute_result",
          "data": {
            "text/plain": [
              "(214, 2)"
            ]
          },
          "metadata": {},
          "execution_count": 34
        }
      ]
    },
    {
      "cell_type": "code",
      "source": [
        "y_test.shape"
      ],
      "metadata": {
        "colab": {
          "base_uri": "https://localhost:8080/"
        },
        "id": "qE7QsjlOy9Qe",
        "outputId": "9b225449-1646-455e-e06c-9008221f19ac"
      },
      "execution_count": 35,
      "outputs": [
        {
          "output_type": "execute_result",
          "data": {
            "text/plain": [
              "(214,)"
            ]
          },
          "metadata": {},
          "execution_count": 35
        }
      ]
    },
    {
      "cell_type": "code",
      "source": [
        "x_train[0:2]"
      ],
      "metadata": {
        "colab": {
          "base_uri": "https://localhost:8080/"
        },
        "id": "8Bhe-oxlyuHj",
        "outputId": "4d17b38a-ed7f-47cb-c6b1-4b97eb471e00"
      },
      "execution_count": 36,
      "outputs": [
        {
          "output_type": "execute_result",
          "data": {
            "text/plain": [
              "array([[ 6. , 11.5],\n",
              "       [ 4. ,  9.6]])"
            ]
          },
          "metadata": {},
          "execution_count": 36
        }
      ]
    },
    {
      "cell_type": "code",
      "source": [
        "from sklearn import linear_model\n",
        "clf=linear_model.LinearRegression()"
      ],
      "metadata": {
        "id": "AYYheLdPyw6C"
      },
      "execution_count": 37,
      "outputs": []
    },
    {
      "cell_type": "code",
      "source": [
        "clf"
      ],
      "metadata": {
        "colab": {
          "base_uri": "https://localhost:8080/"
        },
        "id": "e8PA_hS4zbmT",
        "outputId": "cb3ddc6f-0b0a-4239-82c3-11ed9dbfa185"
      },
      "execution_count": 38,
      "outputs": [
        {
          "output_type": "execute_result",
          "data": {
            "text/plain": [
              "LinearRegression()"
            ]
          },
          "metadata": {},
          "execution_count": 38
        }
      ]
    },
    {
      "cell_type": "code",
      "source": [
        "clf.fit(x_train,y_train)"
      ],
      "metadata": {
        "colab": {
          "base_uri": "https://localhost:8080/"
        },
        "id": "KjErAP5DzceV",
        "outputId": "cef53374-030e-4df2-a26d-2799894ff269"
      },
      "execution_count": 39,
      "outputs": [
        {
          "output_type": "execute_result",
          "data": {
            "text/plain": [
              "LinearRegression()"
            ]
          },
          "metadata": {},
          "execution_count": 39
        }
      ]
    },
    {
      "cell_type": "code",
      "source": [
        "y_pred=clf.predict(x_test)"
      ],
      "metadata": {
        "id": "kG4oOWchzqlU"
      },
      "execution_count": 40,
      "outputs": []
    },
    {
      "cell_type": "code",
      "source": [
        "y_pred"
      ],
      "metadata": {
        "colab": {
          "base_uri": "https://localhost:8080/"
        },
        "id": "jkSwO_oUz7na",
        "outputId": "be5f4bcb-9b12-471a-9306-9c641787b32d"
      },
      "execution_count": 41,
      "outputs": [
        {
          "output_type": "execute_result",
          "data": {
            "text/plain": [
              "array([357.42668837, 216.00957748, 193.3862405 , 185.1595725 ,\n",
              "       248.1556267 , 203.66957549, 246.0989597 , 248.1556267 ,\n",
              "       214.98124398, 186.187906  , 301.8966794 , 247.1272932 ,\n",
              "       299.84001241, 243.0139592 , 247.1272932 , 186.187906  ,\n",
              "       248.1556267 , 434.55170082, 203.66957549, 267.69396319,\n",
              "       191.3295735 , 185.1595725 , 243.0139592 , 372.0910681 ,\n",
              "       204.69790899, 193.3862405 , 300.8683459 , 196.47124099,\n",
              "       299.84001241, 261.52396219, 364.62502286, 390.33336035,\n",
              "       333.77501788, 403.20878382, 225.53228971, 269.75063019,\n",
              "       312.1800144 , 205.72624249, 243.0139592 , 249.1839602 ,\n",
              "       256.38229469, 274.89229768, 254.3256277 , 401.64502884,\n",
              "       300.8683459 , 371.82335736, 304.9816799 , 260.49562869,\n",
              "       335.83168488, 245.0706262 , 309.85563666, 181.0462385 ,\n",
              "       202.64124199, 240.9572922 , 191.3295735 , 193.3862405 ,\n",
              "       220.12291148, 206.75457599, 252.2689607 , 261.52396219,\n",
              "       196.47124099, 237.60458097, 204.69790899, 211.89624348,\n",
              "       198.52790799, 318.35001539, 187.2162395 , 387.78378133,\n",
              "       304.9816799 , 277.97729818, 273.86396418, 311.1516809 ,\n",
              "       207.78290949, 198.52790799, 300.8683459 , 311.1516809 ,\n",
              "       252.2689607 , 387.78378133, 211.89624348, 190.30124   ,\n",
              "       256.38229469, 191.3295735 , 253.2972942 , 263.58062919,\n",
              "       306.0100134 , 241.9856257 , 266.66562969, 255.3539612 ,\n",
              "       227.58895671, 319.37834889, 175.90457101, 183.1029055 ,\n",
              "       254.3256277 , 257.41062819, 299.84001241, 320.40668239,\n",
              "       201.61290849, 299.84001241, 217.03791098, 195.4429075 ,\n",
              "       219.09457798, 239.66124797, 312.1800144 , 199.55624149,\n",
              "       258.43896169, 351.25668737, 196.47124099, 222.17957848,\n",
              "       387.78378133, 204.69790899, 391.89711532, 212.92457698,\n",
              "       207.78290949, 287.23229967, 297.78334541, 201.61290849,\n",
              "       207.78290949, 270.77896369, 261.52396219, 269.75063019,\n",
              "       192.357907  , 390.33336035, 241.9856257 , 265.63729619,\n",
              "       263.58062919, 245.0706262 , 300.60063517, 362.56835586,\n",
              "       204.69790899, 216.00957748, 234.78729121, 248.1556267 ,\n",
              "       390.33336035, 212.92457698, 204.69790899, 320.40668239,\n",
              "       390.33336035, 223.20791198, 265.63729619, 327.60501689,\n",
              "       247.1272932 , 253.2972942 , 192.357907  , 207.78290949,\n",
              "       294.69834491, 269.75063019, 374.90835786, 221.15124498,\n",
              "       363.59668936, 326.57668339, 338.91668538, 251.2406272 ,\n",
              "       312.1800144 , 193.3862405 , 381.34606959, 238.90062521,\n",
              "       259.46729519, 261.52396219, 238.90062521, 172.81957051,\n",
              "       269.75063019, 184.131239  , 254.3256277 , 295.72667841,\n",
              "       192.357907  , 260.49562869, 211.89624348, 189.2729065 ,\n",
              "       197.49957449, 311.1516809 , 183.1029055 , 243.0139592 ,\n",
              "       292.37396717, 182.074572  , 186.187906  , 233.75895771,\n",
              "       249.1839602 , 210.86790998, 303.9533464 , 397.03878282,\n",
              "       358.45502187, 255.3539612 , 245.0706262 , 324.52001639,\n",
              "       203.66957549, 204.69790899, 253.2972942 , 249.1839602 ,\n",
              "       295.45896767, 323.22397215, 191.3295735 , 225.53228971,\n",
              "       220.12291148, 262.55229569, 186.187906  , 216.00957748,\n",
              "       388.81211483, 224.50395622, 354.34168787, 263.58062919,\n",
              "       299.84001241, 321.43501589, 308.0666804 , 209.83957649,\n",
              "       184.131239  , 197.49957449, 200.58457499, 212.92457698,\n",
              "       330.69001739, 246.0989597 , 214.98124398, 266.66562969,\n",
              "       264.60896269, 339.94501888])"
            ]
          },
          "metadata": {},
          "execution_count": 41
        }
      ]
    },
    {
      "cell_type": "code",
      "source": [
        "from sklearn.metrics import r2_score\n",
        "r2_score(y_test, y_pred)"
      ],
      "metadata": {
        "id": "roe1BRDWz-U6",
        "colab": {
          "base_uri": "https://localhost:8080/"
        },
        "outputId": "832bffb2-58ef-49ca-afbb-b297e4aa9f61"
      },
      "execution_count": 43,
      "outputs": [
        {
          "output_type": "execute_result",
          "data": {
            "text/plain": [
              "0.8694458313694005"
            ]
          },
          "metadata": {},
          "execution_count": 43
        }
      ]
    }
  ]
}