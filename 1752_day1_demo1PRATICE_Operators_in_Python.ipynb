{
  "nbformat": 4,
  "nbformat_minor": 0,
  "metadata": {
    "colab": {
      "provenance": [],
      "collapsed_sections": [],
      "authorship_tag": "ABX9TyOxeLzIm2NGrptY9OU6awj9",
      "include_colab_link": true
    },
    "kernelspec": {
      "name": "python3",
      "display_name": "Python 3"
    },
    "language_info": {
      "name": "python"
    }
  },
  "cells": [
    {
      "cell_type": "markdown",
      "metadata": {
        "id": "view-in-github",
        "colab_type": "text"
      },
      "source": [
        "<a href=\"https://colab.research.google.com/github/anupkumar888/Python_Programming/blob/main/1752_day1_demo1PRATICE_Operators_in_Python.ipynb\" target=\"_parent\"><img src=\"https://colab.research.google.com/assets/colab-badge.svg\" alt=\"Open In Colab\"/></a>"
      ]
    },
    {
      "cell_type": "code",
      "execution_count": null,
      "metadata": {
        "id": "fpTDOuE1gHE3"
      },
      "outputs": [],
      "source": []
    },
    {
      "cell_type": "markdown",
      "source": [
        "## ***Python Basics***\n",
        "# Demo 1: Operators in Python "
      ],
      "metadata": {
        "id": "x2-dqKbvqWTJ"
      }
    },
    {
      "cell_type": "markdown",
      "source": [],
      "metadata": {
        "id": "Mf5-MJ0dqsoe"
      }
    },
    {
      "cell_type": "markdown",
      "metadata": {
        "id": "unRY5oWzTNhR"
      },
      "source": [
        "### Arithmetic Operators and Built-in Functions - Using Python as a calculator\n",
        "The following are examples of the kinds of Python expressions that we can use.\n",
        "\n",
        "| Operator | Description |\n",
        "|----|---|\n",
        "| +  | Addition |\n",
        "| -  | Subtraction |\n",
        "| /  | division |\n",
        "| %  | mod (remainder) |\n",
        "| *  | multiplication |\n",
        "| //  | floor division |\n",
        "| **  | to the power of |"
      ]
    },
    {
      "cell_type": "code",
      "source": [
        "6+5"
      ],
      "metadata": {
        "id": "a2tyxjIvqcbC",
        "colab": {
          "base_uri": "https://localhost:8080/"
        },
        "outputId": "a2324d75-ecd9-43f0-9b0a-545f27090ebe"
      },
      "execution_count": 1,
      "outputs": [
        {
          "output_type": "execute_result",
          "data": {
            "text/plain": [
              "11"
            ]
          },
          "metadata": {},
          "execution_count": 1
        }
      ]
    },
    {
      "cell_type": "code",
      "source": [
        "20-1299"
      ],
      "metadata": {
        "colab": {
          "base_uri": "https://localhost:8080/"
        },
        "id": "At9zrkfzrQrc",
        "outputId": "c528cd84-b2f5-4b1b-e5aa-9ae7dc3f3496"
      },
      "execution_count": 2,
      "outputs": [
        {
          "output_type": "execute_result",
          "data": {
            "text/plain": [
              "-1279"
            ]
          },
          "metadata": {},
          "execution_count": 2
        }
      ]
    },
    {
      "cell_type": "code",
      "source": [
        "54/22"
      ],
      "metadata": {
        "colab": {
          "base_uri": "https://localhost:8080/"
        },
        "id": "_KaMra7MrSds",
        "outputId": "225848d6-d364-4e3a-fa7b-3da5ecb9a8df"
      },
      "execution_count": 3,
      "outputs": [
        {
          "output_type": "execute_result",
          "data": {
            "text/plain": [
              "2.4545454545454546"
            ]
          },
          "metadata": {},
          "execution_count": 3
        }
      ]
    },
    {
      "cell_type": "code",
      "source": [
        "65%33"
      ],
      "metadata": {
        "colab": {
          "base_uri": "https://localhost:8080/"
        },
        "id": "f8wHn3grrbrA",
        "outputId": "2cbb59ce-b1ad-4763-8dcb-994f8a05b633"
      },
      "execution_count": 4,
      "outputs": [
        {
          "output_type": "execute_result",
          "data": {
            "text/plain": [
              "32"
            ]
          },
          "metadata": {},
          "execution_count": 4
        }
      ]
    },
    {
      "cell_type": "code",
      "source": [
        "688//96"
      ],
      "metadata": {
        "colab": {
          "base_uri": "https://localhost:8080/"
        },
        "id": "LDHpezKXrfZT",
        "outputId": "28633f50-dfa0-4cd6-feb5-38c97594ee0b"
      },
      "execution_count": 5,
      "outputs": [
        {
          "output_type": "execute_result",
          "data": {
            "text/plain": [
              "7"
            ]
          },
          "metadata": {},
          "execution_count": 5
        }
      ]
    },
    {
      "cell_type": "code",
      "source": [
        "2**9"
      ],
      "metadata": {
        "colab": {
          "base_uri": "https://localhost:8080/"
        },
        "id": "EyIKfkHxrmG8",
        "outputId": "96252916-39c7-4d67-9b9b-97ac07d746d4"
      },
      "execution_count": 6,
      "outputs": [
        {
          "output_type": "execute_result",
          "data": {
            "text/plain": [
              "512"
            ]
          },
          "metadata": {},
          "execution_count": 6
        }
      ]
    },
    {
      "cell_type": "markdown",
      "metadata": {
        "id": "6VbZR8kBTNhd"
      },
      "source": [
        "Each Python value has a type.  `6`, `5`, `20`, and `6` have type `int`.  `12.5` and `3.14` have type `float`. Float stands for *floating point number*. Floats are approximations to the real numbers."
      ]
    },
    {
      "cell_type": "markdown",
      "source": [
        "Python has two different division operators: / produces a float and // is integer division (it produces an int)."
      ],
      "metadata": {
        "id": "Byp1pm7ir52Y"
      }
    },
    {
      "cell_type": "code",
      "source": [
        "9/3"
      ],
      "metadata": {
        "colab": {
          "base_uri": "https://localhost:8080/"
        },
        "id": "gTMDU1yzrpR9",
        "outputId": "3c9de608-e2a3-4dce-cb1b-bfdc4593450f"
      },
      "execution_count": 7,
      "outputs": [
        {
          "output_type": "execute_result",
          "data": {
            "text/plain": [
              "3.0"
            ]
          },
          "metadata": {},
          "execution_count": 7
        }
      ]
    },
    {
      "cell_type": "code",
      "source": [
        "9//3"
      ],
      "metadata": {
        "colab": {
          "base_uri": "https://localhost:8080/"
        },
        "id": "gylcujT7sJBy",
        "outputId": "b91ed5d2-1bb6-459f-d94d-2861f5949276"
      },
      "execution_count": 9,
      "outputs": [
        {
          "output_type": "execute_result",
          "data": {
            "text/plain": [
              "3"
            ]
          },
          "metadata": {},
          "execution_count": 9
        }
      ]
    },
    {
      "cell_type": "code",
      "metadata": {
        "id": "jgSSweONTNhl"
      },
      "source": [
        "# When writing programs, we can put in English language explanations called comments.\n",
        "# Whatever comes after the # symbol is not executed."
      ],
      "execution_count": null,
      "outputs": []
    },
    {
      "cell_type": "code",
      "metadata": {
        "id": "nq6xHjgXTNho",
        "colab": {
          "base_uri": "https://localhost:8080/"
        },
        "outputId": "4252f15a-f506-461b-d6c9-856538779c5a"
      },
      "source": [
        "3 ** 8  # 3 to the power of 8"
      ],
      "execution_count": 13,
      "outputs": [
        {
          "output_type": "execute_result",
          "data": {
            "text/plain": [
              "6561"
            ]
          },
          "metadata": {},
          "execution_count": 13
        }
      ]
    },
    {
      "cell_type": "code",
      "source": [
        "2**32 # 2to the power 32"
      ],
      "metadata": {
        "colab": {
          "base_uri": "https://localhost:8080/"
        },
        "id": "EDLbR3Rrtm0n",
        "outputId": "5320e414-94d0-40dc-bd1b-f457974e7323"
      },
      "execution_count": 14,
      "outputs": [
        {
          "output_type": "execute_result",
          "data": {
            "text/plain": [
              "4294967296"
            ]
          },
          "metadata": {},
          "execution_count": 14
        }
      ]
    },
    {
      "cell_type": "code",
      "metadata": {
        "id": "uYUFjCuwTNhu",
        "colab": {
          "base_uri": "https://localhost:8080/"
        },
        "outputId": "bfed82f1-b60c-4c7d-ec9e-97dbda24c994"
      },
      "source": [
        "# The % operator gives the remainder of a division.\n",
        "20%3\n"
      ],
      "execution_count": 18,
      "outputs": [
        {
          "output_type": "execute_result",
          "data": {
            "text/plain": [
              "2"
            ]
          },
          "metadata": {},
          "execution_count": 18
        }
      ]
    },
    {
      "cell_type": "code",
      "source": [
        "# 20 // 3 gives the quetiont of 20 // 3\n",
        "20 // 3"
      ],
      "metadata": {
        "colab": {
          "base_uri": "https://localhost:8080/"
        },
        "id": "6U7HUn7JvtXx",
        "outputId": "5d987af6-4e9d-469c-dd82-73b432c99dd7"
      },
      "execution_count": 19,
      "outputs": [
        {
          "output_type": "execute_result",
          "data": {
            "text/plain": [
              "6"
            ]
          },
          "metadata": {},
          "execution_count": 19
        }
      ]
    },
    {
      "cell_type": "markdown",
      "metadata": {
        "id": "_IHV0KZCTNhy"
      },
      "source": [
        "Operator order of precedence (from highest to lowest)\n",
        "\n",
        "- `**`\n",
        "\n",
        "- `-` (negation)\n",
        "\n",
        "- `*`, `/`, `//`, `%` (left to right)\n",
        "\n",
        "- `+` (addition), `-` (subtraction) (left to right)"
      ]
    },
    {
      "cell_type": "markdown",
      "metadata": {
        "id": "zAIHgj7VTNhz"
      },
      "source": [
        "\n",
        "\n",
        "> ERROR ENTERING\n",
        "\n",
        "\n",
        "\n"
      ]
    },
    {
      "cell_type": "markdown",
      "metadata": {
        "id": "J0fldxG0wly3"
      },
      "source": [
        "When programming, it is common to encounter errors.  You will learn how to interpret the error messages, so that you can fix your code.  Here are a few examples:"
      ]
    },
    {
      "cell_type": "code",
      "source": [
        "3+"
      ],
      "metadata": {
        "colab": {
          "base_uri": "https://localhost:8080/",
          "height": 130
        },
        "id": "6Ggp2zwdxJf6",
        "outputId": "1650c736-8604-42d3-b5a3-ff9ca1bbe40e"
      },
      "execution_count": 20,
      "outputs": [
        {
          "output_type": "error",
          "ename": "SyntaxError",
          "evalue": "ignored",
          "traceback": [
            "\u001b[0;36m  File \u001b[0;32m\"<ipython-input-20-54b1899a2ade>\"\u001b[0;36m, line \u001b[0;32m1\u001b[0m\n\u001b[0;31m    3+\u001b[0m\n\u001b[0m      ^\u001b[0m\n\u001b[0;31mSyntaxError\u001b[0m\u001b[0;31m:\u001b[0m invalid syntax\n"
          ]
        }
      ]
    },
    {
      "cell_type": "code",
      "source": [
        "2* *5   #* * containe indentation between them."
      ],
      "metadata": {
        "colab": {
          "base_uri": "https://localhost:8080/",
          "height": 130
        },
        "id": "2aroIgaHxKwb",
        "outputId": "c942ee95-ec05-417f-dc14-cd5cb65f70bf"
      },
      "execution_count": 24,
      "outputs": [
        {
          "output_type": "error",
          "ename": "SyntaxError",
          "evalue": "ignored",
          "traceback": [
            "\u001b[0;36m  File \u001b[0;32m\"<ipython-input-24-bd4fd51b0e01>\"\u001b[0;36m, line \u001b[0;32m1\u001b[0m\n\u001b[0;31m    2* *5 #* * containe indentation between them\u001b[0m\n\u001b[0m       ^\u001b[0m\n\u001b[0;31mSyntaxError\u001b[0m\u001b[0;31m:\u001b[0m invalid syntax\n"
          ]
        }
      ]
    },
    {
      "cell_type": "code",
      "source": [
        "4+5)*5  #( braket is missing."
      ],
      "metadata": {
        "colab": {
          "base_uri": "https://localhost:8080/",
          "height": 130
        },
        "id": "ErMf0H2vxs5z",
        "outputId": "18837e81-8c47-452d-991e-485670434769"
      },
      "execution_count": 25,
      "outputs": [
        {
          "output_type": "error",
          "ename": "SyntaxError",
          "evalue": "ignored",
          "traceback": [
            "\u001b[0;36m  File \u001b[0;32m\"<ipython-input-25-86da87130701>\"\u001b[0;36m, line \u001b[0;32m1\u001b[0m\n\u001b[0;31m    4+5)*5\u001b[0m\n\u001b[0m       ^\u001b[0m\n\u001b[0;31mSyntaxError\u001b[0m\u001b[0;31m:\u001b[0m invalid syntax\n"
          ]
        }
      ]
    },
    {
      "cell_type": "code",
      "source": [
        "9/0"
      ],
      "metadata": {
        "colab": {
          "base_uri": "https://localhost:8080/",
          "height": 165
        },
        "id": "dBjCLYAixPVu",
        "outputId": "62f265ae-6977-4403-da09-82b9bd0bda6e"
      },
      "execution_count": 22,
      "outputs": [
        {
          "output_type": "error",
          "ename": "ZeroDivisionError",
          "evalue": "ignored",
          "traceback": [
            "\u001b[0;31m---------------------------------------------------------------------------\u001b[0m",
            "\u001b[0;31mZeroDivisionError\u001b[0m                         Traceback (most recent call last)",
            "\u001b[0;32m<ipython-input-22-7a5050487faa>\u001b[0m in \u001b[0;36m<module>\u001b[0;34m\u001b[0m\n\u001b[0;32m----> 1\u001b[0;31m \u001b[0;36m9\u001b[0m\u001b[0;34m/\u001b[0m\u001b[0;36m0\u001b[0m\u001b[0;34m\u001b[0m\u001b[0;34m\u001b[0m\u001b[0m\n\u001b[0m",
            "\u001b[0;31mZeroDivisionError\u001b[0m: division by zero"
          ]
        }
      ]
    },
    {
      "cell_type": "markdown",
      "metadata": {
        "id": "9wuz8A80VDtf"
      },
      "source": [
        "####Simplifying Arithmetic Operations\n",
        "\n",
        "> round( ) function rounds the input value to a specified number of places or to the nearest integer.\n",
        "\n"
      ]
    },
    {
      "cell_type": "code",
      "source": [
        "print(round(66.6299))\n",
        "print(round(48.55892, 4))"
      ],
      "metadata": {
        "colab": {
          "base_uri": "https://localhost:8080/"
        },
        "id": "vMFuA5hmyoJ-",
        "outputId": "737a27eb-6fc8-49de-8ee2-86d8bbf75440"
      },
      "execution_count": 27,
      "outputs": [
        {
          "output_type": "stream",
          "name": "stdout",
          "text": [
            "67\n",
            "48.5589\n"
          ]
        }
      ]
    },
    {
      "cell_type": "markdown",
      "metadata": {
        "id": "vmnrQSSQVDti"
      },
      "source": [
        "**complex( )** is used to define a complex number and **abs( )** outputs the absolute value of the same."
      ]
    },
    {
      "cell_type": "code",
      "source": [
        "z=complex(\"10+9j\")\n",
        "print(abs(z))"
      ],
      "metadata": {
        "colab": {
          "base_uri": "https://localhost:8080/"
        },
        "id": "nJThunKGy9XY",
        "outputId": "8f3f47fe-5b94-4fda-d04f-c49759dd2484"
      },
      "execution_count": 31,
      "outputs": [
        {
          "output_type": "stream",
          "name": "stdout",
          "text": [
            "13.45362404707371\n"
          ]
        }
      ]
    },
    {
      "cell_type": "markdown",
      "metadata": {
        "id": "STc5qwDxVDtl"
      },
      "source": [
        "**divmod(x,y)** outputs the quotient and the remainder in a tuple(you will be learning about it in the further chapters) in the format (quotient, remainder). "
      ]
    },
    {
      "cell_type": "code",
      "source": [
        "divmod(99,22)"
      ],
      "metadata": {
        "colab": {
          "base_uri": "https://localhost:8080/"
        },
        "id": "4ty7dtmazr6T",
        "outputId": "ba52dd3d-3def-4bb9-92e7-1d5784aef6f8"
      },
      "execution_count": 32,
      "outputs": [
        {
          "output_type": "execute_result",
          "data": {
            "text/plain": [
              "(4, 11)"
            ]
          },
          "metadata": {},
          "execution_count": 32
        }
      ]
    },
    {
      "cell_type": "markdown",
      "metadata": {
        "id": "xWtI3WxLVDts"
      },
      "source": [
        "**pow(x,y,z)** can be used to find the power $x^y$ also the mod of the resulting value with the third specified number can be found i.e. : ($x^y$ % z)."
      ]
    },
    {
      "cell_type": "code",
      "source": [
        "print(pow(8,2))\n",
        "print(pow(8,2,9))"
      ],
      "metadata": {
        "colab": {
          "base_uri": "https://localhost:8080/"
        },
        "id": "kBqZZSuU0PK2",
        "outputId": "13532fb8-f577-40c4-aae5-424eac456f4e"
      },
      "execution_count": 34,
      "outputs": [
        {
          "output_type": "stream",
          "name": "stdout",
          "text": [
            "64\n",
            "1\n"
          ]
        }
      ]
    },
    {
      "cell_type": "markdown",
      "metadata": {
        "id": "WbRneFDQd_W9"
      },
      "source": [
        "###Assignment Operator\n",
        "Used to assign value to a variable"
      ]
    },
    {
      "cell_type": "markdown",
      "metadata": {
        "id": "3T-GCHHQeQrh"
      },
      "source": [
        "| Operator | Example | Similar to \n",
        "|----------|---------|----------|\n",
        "| = |x=10 |x = 10\n",
        "| +=  | x+=5 | x = x + 5\n",
        "| -= | x-=5 | x = x - 5\n",
        "| *=  | x*=5 |x = x * 5 \n",
        "| /=  | x/=5 |x = x / 5 \n",
        "| %=  | x%=5 |x = x % 5 \n",
        "| **=  | x**=5 |x = x ** 5\n",
        "| &=  | x&=5 |x = x & 5\n",
        "| ^=  | x^=5 |x = x ^ 5\n",
        "| <<=  | x<<=5 |x = x << 5\n",
        "| >>=  | x>>=5 |x = x >> 5\n",
        "\n",
        " \n"
      ]
    },
    {
      "cell_type": "markdown",
      "metadata": {
        "id": "sUhY9kwHSb91"
      },
      "source": [
        "### Comparison Operators \n",
        "\n",
        "These operators will allow us to compare variables and output a Boolean value (True or False). \n",
        "\n",
        "<h3> Table of Comparison Operators </h3><p>  In the table below, consider a=3 and b=4.</p>\n",
        "\n",
        "<table class=\"table table-bordered\">\n",
        "<tr>\n",
        "<th style=\"width:10%\">Operator</th><th style=\"width:45%\">Description</th><th>Example</th>\n",
        "</tr>\n",
        "<tr>\n",
        "<td>==</td>\n",
        "<td>If the values of two operands are equal, then the condition becomes true.</td>\n",
        "<td> (a == b) is not true.</td>\n",
        "</tr>\n",
        "<tr>\n",
        "<td>!=</td>\n",
        "<td>If values of two operands are not equal, then condition becomes true.</td>\n",
        "<td>(a != b) is true</td>\n",
        "</tr>\n",
        "<tr>\n",
        "<td>&gt;</td>\n",
        "<td>If the value of left operand is greater than the value of right operand, then condition becomes true.</td>\n",
        "<td> (a &gt; b) is not true.</td>\n",
        "</tr>\n",
        "<tr>\n",
        "<td>&lt;</td>\n",
        "<td>If the value of left operand is less than the value of right operand, then condition becomes true.</td>\n",
        "<td> (a &lt; b) is true.</td>\n",
        "</tr>\n",
        "<tr>\n",
        "<td>&gt;=</td>\n",
        "<td>If the value of left operand is greater than or equal to the value of right operand, then condition becomes true.</td>\n",
        "<td> (a &gt;= b) is not true. </td>\n",
        "</tr>\n",
        "<tr>\n",
        "<td>&lt;=</td>\n",
        "<td>If the value of left operand is less than or equal to the value of right operand, then condition becomes true.</td>\n",
        "<td> (a &lt;= b) is true. </td>\n",
        "</tr>\n",
        "</table>"
      ]
    },
    {
      "cell_type": "markdown",
      "metadata": {
        "id": "FiZF__pUSb92"
      },
      "source": [
        "Let's now work through quick examples of each of these.\n",
        "\n",
        "#### Equal"
      ]
    },
    {
      "cell_type": "code",
      "metadata": {
        "id": "Reo0v_1aSb92",
        "colab": {
          "base_uri": "https://localhost:8080/",
          "height": 34
        },
        "outputId": "fcb9971a-1fcc-429b-9792-b40229b074d1"
      },
      "source": [
        "2 == 2"
      ],
      "execution_count": null,
      "outputs": [
        {
          "output_type": "execute_result",
          "data": {
            "text/plain": [
              "True"
            ]
          },
          "metadata": {
            "tags": []
          },
          "execution_count": 111
        }
      ]
    },
    {
      "cell_type": "code",
      "metadata": {
        "id": "cX3xvVzGSb96",
        "colab": {
          "base_uri": "https://localhost:8080/",
          "height": 34
        },
        "outputId": "881c87d6-8abb-4eb0-e441-7a577aac672f"
      },
      "source": [
        "1 == 0"
      ],
      "execution_count": null,
      "outputs": [
        {
          "output_type": "execute_result",
          "data": {
            "text/plain": [
              "False"
            ]
          },
          "metadata": {
            "tags": []
          },
          "execution_count": 112
        }
      ]
    },
    {
      "cell_type": "markdown",
      "metadata": {
        "id": "sayhkYDJSb99"
      },
      "source": [
        "Note that <code>==</code> is a <em>comparison</em> operator, while <code>=</code> is an <em>assignment</em> operator."
      ]
    },
    {
      "cell_type": "markdown",
      "metadata": {
        "id": "I2QeGhhnSb9-"
      },
      "source": [
        "#### Not Equal"
      ]
    },
    {
      "cell_type": "code",
      "source": [
        "3!=1"
      ],
      "metadata": {
        "colab": {
          "base_uri": "https://localhost:8080/"
        },
        "id": "iqD85d_i06xx",
        "outputId": "486aa1c8-f543-4f26-f0d9-24ed6daefe79"
      },
      "execution_count": 42,
      "outputs": [
        {
          "output_type": "execute_result",
          "data": {
            "text/plain": [
              "True"
            ]
          },
          "metadata": {},
          "execution_count": 42
        }
      ]
    },
    {
      "cell_type": "code",
      "source": [
        "3!=3"
      ],
      "metadata": {
        "colab": {
          "base_uri": "https://localhost:8080/"
        },
        "id": "-YNrrC9I2jII",
        "outputId": "e677e0c6-8bb9-423d-a154-90d92174358f"
      },
      "execution_count": 41,
      "outputs": [
        {
          "output_type": "execute_result",
          "data": {
            "text/plain": [
              "False"
            ]
          },
          "metadata": {},
          "execution_count": 41
        }
      ]
    },
    {
      "cell_type": "markdown",
      "metadata": {
        "id": "H3w_umq0Sb-E"
      },
      "source": [
        "#### Greater Than"
      ]
    },
    {
      "cell_type": "code",
      "metadata": {
        "id": "pDFenlg2Sb-E",
        "colab": {
          "base_uri": "https://localhost:8080/"
        },
        "outputId": "7aa89fd9-f605-4e00-c940-f731432c0df7"
      },
      "source": [
        "88 > 1"
      ],
      "execution_count": 43,
      "outputs": [
        {
          "output_type": "execute_result",
          "data": {
            "text/plain": [
              "True"
            ]
          },
          "metadata": {},
          "execution_count": 43
        }
      ]
    },
    {
      "cell_type": "code",
      "metadata": {
        "id": "BdaXqPZaSb-H",
        "colab": {
          "base_uri": "https://localhost:8080/"
        },
        "outputId": "d15c704f-e25b-406f-9a1f-bdbdb1a3ef63"
      },
      "source": [
        "0 > 4"
      ],
      "execution_count": 44,
      "outputs": [
        {
          "output_type": "execute_result",
          "data": {
            "text/plain": [
              "False"
            ]
          },
          "metadata": {},
          "execution_count": 44
        }
      ]
    },
    {
      "cell_type": "markdown",
      "metadata": {
        "id": "YT3gk1kwSb-W"
      },
      "source": [
        "#### Less than or Equal to"
      ]
    },
    {
      "cell_type": "code",
      "source": [
        "8<=8"
      ],
      "metadata": {
        "colab": {
          "base_uri": "https://localhost:8080/"
        },
        "id": "aUfZTapb3Cmn",
        "outputId": "d21baf36-ec3b-43d6-e8fe-bd6eb343c40a"
      },
      "execution_count": 45,
      "outputs": [
        {
          "output_type": "execute_result",
          "data": {
            "text/plain": [
              "True"
            ]
          },
          "metadata": {},
          "execution_count": 45
        }
      ]
    },
    {
      "cell_type": "code",
      "source": [
        "8<=0"
      ],
      "metadata": {
        "colab": {
          "base_uri": "https://localhost:8080/"
        },
        "id": "8RKsY14S3hgG",
        "outputId": "59621838-854e-4230-81b1-9277727eeddd"
      },
      "execution_count": 47,
      "outputs": [
        {
          "output_type": "execute_result",
          "data": {
            "text/plain": [
              "False"
            ]
          },
          "metadata": {},
          "execution_count": 47
        }
      ]
    },
    {
      "cell_type": "markdown",
      "metadata": {
        "id": "rnYDR7-fZUVi"
      },
      "source": [
        "#### Chained Comparison Operators\n",
        "\n",
        "An interesting feature of Python is the ability to *chain* multiple comparisons to perform a more complex test. You can use these chained comparisons as shorthand for larger Boolean Expressions.\n",
        "\n",
        "In this lecture we will learn how to chain comparison operators and we will also introduce two other important statements in Python: **and** and **or**.\n",
        "\n",
        "Let's look at a few examples of using chains:"
      ]
    },
    {
      "cell_type": "code",
      "metadata": {
        "id": "xkGxjXBWZUVk",
        "colab": {
          "base_uri": "https://localhost:8080/"
        },
        "outputId": "478a88b5-deea-4701-d5ec-caf677ffdce1"
      },
      "source": [
        "14 < 26 < 37"
      ],
      "execution_count": 48,
      "outputs": [
        {
          "output_type": "execute_result",
          "data": {
            "text/plain": [
              "True"
            ]
          },
          "metadata": {},
          "execution_count": 48
        }
      ]
    },
    {
      "cell_type": "markdown",
      "metadata": {
        "id": "5NquwTgSZUVq"
      },
      "source": [
        "The above statement checks if 14 was less than 26 **and** if 26 was less than 37. We could have written this using an **and** statement in Python:"
      ]
    },
    {
      "cell_type": "code",
      "metadata": {
        "id": "pRjOlVP8ZUVq",
        "colab": {
          "base_uri": "https://localhost:8080/"
        },
        "outputId": "aeea9418-5853-42e6-f905-cbf56d9296b6"
      },
      "source": [
        "14<26 and 26<37"
      ],
      "execution_count": 49,
      "outputs": [
        {
          "output_type": "execute_result",
          "data": {
            "text/plain": [
              "True"
            ]
          },
          "metadata": {},
          "execution_count": 49
        }
      ]
    },
    {
      "cell_type": "markdown",
      "metadata": {
        "id": "5eqBEEWNZUVt"
      },
      "source": [
        "The **and** is used to make sure two checks have to be true in order for the total check to be true. Let's see another example:"
      ]
    },
    {
      "cell_type": "code",
      "metadata": {
        "id": "UfTxbJ8zZUVu",
        "colab": {
          "base_uri": "https://localhost:8080/"
        },
        "outputId": "ff69af1a-1499-484b-bd65-1b413eb640c1"
      },
      "source": [
        "14 < 37> 26"
      ],
      "execution_count": 50,
      "outputs": [
        {
          "output_type": "execute_result",
          "data": {
            "text/plain": [
              "True"
            ]
          },
          "metadata": {},
          "execution_count": 50
        }
      ]
    },
    {
      "cell_type": "markdown",
      "metadata": {
        "id": "NigjU6boZUVx"
      },
      "source": [
        "The above checks if 37 is larger than both of the other numbers, so you could use **and** to rewrite it as:"
      ]
    },
    {
      "cell_type": "code",
      "metadata": {
        "id": "yoaE1rClZUVx",
        "colab": {
          "base_uri": "https://localhost:8080/"
        },
        "outputId": "da307d83-0203-4797-e5de-30be2373edfc"
      },
      "source": [
        "12<37 and 37>26"
      ],
      "execution_count": 51,
      "outputs": [
        {
          "output_type": "execute_result",
          "data": {
            "text/plain": [
              "True"
            ]
          },
          "metadata": {},
          "execution_count": 51
        }
      ]
    },
    {
      "cell_type": "markdown",
      "metadata": {
        "id": "a-98IyL4ZUV0"
      },
      "source": [
        "It's important to note that Python is checking both instances of the comparisons. We can also use **or** to write comparisons in Python. For example:"
      ]
    },
    {
      "cell_type": "code",
      "metadata": {
        "id": "5mYAU37uZUV1",
        "colab": {
          "base_uri": "https://localhost:8080/"
        },
        "outputId": "1f81bb21-49a7-4805-a160-8fccefc99220"
      },
      "source": [
        "12==26 or 26<37"
      ],
      "execution_count": 52,
      "outputs": [
        {
          "output_type": "execute_result",
          "data": {
            "text/plain": [
              "True"
            ]
          },
          "metadata": {},
          "execution_count": 52
        }
      ]
    },
    {
      "cell_type": "markdown",
      "metadata": {
        "id": "GlswasBgZUV3"
      },
      "source": [
        "Note how it was true; this is because with the **or** operator, we only need one *or* the other to be true. Let's see one more example to drive this home:"
      ]
    },
    {
      "cell_type": "code",
      "metadata": {
        "id": "DkQ4b_MCZUV4",
        "colab": {
          "base_uri": "https://localhost:8080/"
        },
        "outputId": "6d878651-ccd4-416e-a493-45e56f8ec810"
      },
      "source": [
        "133==133 or 14500==1"
      ],
      "execution_count": 53,
      "outputs": [
        {
          "output_type": "execute_result",
          "data": {
            "text/plain": [
              "True"
            ]
          },
          "metadata": {},
          "execution_count": 53
        }
      ]
    },
    {
      "cell_type": "markdown",
      "metadata": {
        "id": "cMjvDWu2VDs3"
      },
      "source": [
        "###Bitwise Operators"
      ]
    },
    {
      "cell_type": "markdown",
      "metadata": {
        "id": "lOcFq61LVDs4"
      },
      "source": [
        "| Symbol | Task Performed |\n",
        "|----|---|\n",
        "| &  | Logical And |\n",
        "| l  | Logical OR |\n",
        "| ^  | XOR |\n",
        "| ~  | Negate |\n",
        "| >>  | Right shift |\n",
        "| <<  | Left shift |"
      ]
    },
    {
      "cell_type": "code",
      "source": [
        "a = 9 #10\n",
        "b = 8 #11"
      ],
      "metadata": {
        "id": "6zZlmuSE3ljy"
      },
      "execution_count": 61,
      "outputs": []
    },
    {
      "cell_type": "code",
      "source": [
        "print(a&b)\n",
        "print(bin(a&b))"
      ],
      "metadata": {
        "colab": {
          "base_uri": "https://localhost:8080/"
        },
        "id": "E6d7xweD9bOR",
        "outputId": "f7b36520-e728-4b98-95a8-876106b473d0"
      },
      "execution_count": 63,
      "outputs": [
        {
          "output_type": "stream",
          "name": "stdout",
          "text": [
            "8\n",
            "0b1000\n"
          ]
        }
      ]
    },
    {
      "cell_type": "code",
      "source": [
        "8>>1"
      ],
      "metadata": {
        "colab": {
          "base_uri": "https://localhost:8080/"
        },
        "id": "boUf_Gna8kS_",
        "outputId": "7901182e-8d1b-400a-f2ca-a4c03ff5b2d3"
      },
      "execution_count": 64,
      "outputs": [
        {
          "output_type": "execute_result",
          "data": {
            "text/plain": [
              "4"
            ]
          },
          "metadata": {},
          "execution_count": 64
        }
      ]
    },
    {
      "cell_type": "markdown",
      "metadata": {
        "id": "Qwo00pTuVDs_"
      },
      "source": [
        "0000 10001 -> 8 \n",
        "\n",
        "Shifting the digits by 1 to the right and zero adding to the left side.\n",
        "\n",
        "0000 0100 -> 4"
      ]
    },
    {
      "cell_type": "code",
      "source": [
        "8<<1"
      ],
      "metadata": {
        "colab": {
          "base_uri": "https://localhost:8080/"
        },
        "id": "DwtqU0n09zmB",
        "outputId": "c94952d3-4d70-4b8d-e293-1304ef3268bf"
      },
      "execution_count": 65,
      "outputs": [
        {
          "output_type": "execute_result",
          "data": {
            "text/plain": [
              "16"
            ]
          },
          "metadata": {},
          "execution_count": 65
        }
      ]
    },
    {
      "cell_type": "markdown",
      "metadata": {
        "id": "7Ghj6cCzVDtC"
      },
      "source": [
        "0000 1000 -> 8\n",
        "\n",
        "Shifting the digits by 1 to the left and zero adding to the right side.\n",
        "\n",
        "0001 0000 -> 16"
      ]
    },
    {
      "cell_type": "markdown",
      "metadata": {
        "id": "pjytSoZkoC9K"
      },
      "source": [
        "###Identity Operator\n",
        "Identity operators are used to compare the objects, not if they are equal, but if they are actually the same object, with the same memory location.\n",
        "\n",
        "\n",
        "| Operator | Description | Example\n",
        "|----|---|---|\n",
        "| is  | Returns True if both variables are the same object| x is y\n",
        "| is not  | Returns True if both variables are not the same object| x is not y\t\n"
      ]
    },
    {
      "cell_type": "code",
      "source": [
        "x=88\n",
        "x is 8"
      ],
      "metadata": {
        "colab": {
          "base_uri": "https://localhost:8080/"
        },
        "id": "OJ3yjp8V_QPk",
        "outputId": "2207c714-caef-4f5b-ef16-b936329bdcd6"
      },
      "execution_count": 67,
      "outputs": [
        {
          "output_type": "execute_result",
          "data": {
            "text/plain": [
              "False"
            ]
          },
          "metadata": {},
          "execution_count": 67
        }
      ]
    },
    {
      "cell_type": "code",
      "source": [
        "x is not 100"
      ],
      "metadata": {
        "colab": {
          "base_uri": "https://localhost:8080/"
        },
        "id": "DdyX-DGMAOys",
        "outputId": "983e6b43-e094-47c2-825c-62d9ddab1ba9"
      },
      "execution_count": 70,
      "outputs": [
        {
          "output_type": "execute_result",
          "data": {
            "text/plain": [
              "True"
            ]
          },
          "metadata": {},
          "execution_count": 70
        }
      ]
    },
    {
      "cell_type": "code",
      "source": [
        "x is 88"
      ],
      "metadata": {
        "colab": {
          "base_uri": "https://localhost:8080/"
        },
        "id": "4hLJJV0WAeaf",
        "outputId": "ba36b323-72fd-429f-e965-bdfa09a7675d"
      },
      "execution_count": 69,
      "outputs": [
        {
          "output_type": "execute_result",
          "data": {
            "text/plain": [
              "True"
            ]
          },
          "metadata": {},
          "execution_count": 69
        }
      ]
    }
  ]
}