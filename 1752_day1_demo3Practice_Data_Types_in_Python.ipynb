{
  "nbformat": 4,
  "nbformat_minor": 0,
  "metadata": {
    "colab": {
      "provenance": [],
      "collapsed_sections": [],
      "authorship_tag": "ABX9TyNmxpY7EFIMtMq80tCiQ/2S",
      "include_colab_link": true
    },
    "kernelspec": {
      "name": "python3",
      "display_name": "Python 3"
    },
    "language_info": {
      "name": "python"
    }
  },
  "cells": [
    {
      "cell_type": "markdown",
      "metadata": {
        "id": "view-in-github",
        "colab_type": "text"
      },
      "source": [
        "<a href=\"https://colab.research.google.com/github/anupkumar888/Python_Programming/blob/main/1752_day1_demo3Practice_Data_Types_in_Python.ipynb\" target=\"_parent\"><img src=\"https://colab.research.google.com/assets/colab-badge.svg\" alt=\"Open In Colab\"/></a>"
      ]
    },
    {
      "cell_type": "markdown",
      "source": [
        "#Python Basics\n",
        "\n",
        "###Demo 3: Data Types in Python"
      ],
      "metadata": {
        "id": "LQwHz2FxM8am"
      }
    },
    {
      "cell_type": "markdown",
      "metadata": {
        "id": "PvsBVW1nxFVE"
      },
      "source": [
        "### Numbers"
      ]
    },
    {
      "cell_type": "markdown",
      "metadata": {
        "id": "hm_-zx5IxQPe"
      },
      "source": [
        "Payal is beginner in Python. She is just sitting outside and studying Python. Let us see how she applies Python here. "
      ]
    },
    {
      "cell_type": "code",
      "metadata": {
        "id": "ANoIwf0shGyg",
        "colab": {
          "base_uri": "https://localhost:8080/"
        },
        "outputId": "4b83dbdf-b8cc-4696-820d-d7367c5b4b73"
      },
      "source": [
        "bus=input('Number of bus:')\n",
        "people=input('People per bus:')"
      ],
      "execution_count": null,
      "outputs": [
        {
          "name": "stdout",
          "output_type": "stream",
          "text": [
            "Number of bus:10\n",
            "People per bus:20\n"
          ]
        }
      ]
    },
    {
      "cell_type": "markdown",
      "metadata": {
        "id": "-QHG1TShx1bP"
      },
      "source": [
        "Encountering Errors:"
      ]
    },
    {
      "cell_type": "code",
      "metadata": {
        "id": "NM46Epwdx0nV",
        "colab": {
          "base_uri": "https://localhost:8080/",
          "height": 130
        },
        "outputId": "9c220df3-cc27-4fdf-bf97-3a2931c2ec2b"
      },
      "source": [
        "print('Number of people each bus will carry?',int(people)/int(bus) # ) is missing in the end of line."
      ],
      "execution_count": null,
      "outputs": [
        {
          "output_type": "error",
          "ename": "SyntaxError",
          "evalue": "ignored",
          "traceback": [
            "\u001b[0;36m  File \u001b[0;32m\"<ipython-input-10-734a5efa8468>\"\u001b[0;36m, line \u001b[0;32m1\u001b[0m\n\u001b[0;31m    print('Number of people each bus will carry?',int(people)/int(bus) # ) is missing in the end of line.\u001b[0m\n\u001b[0m                                                                                                         ^\u001b[0m\n\u001b[0;31mSyntaxError\u001b[0m\u001b[0;31m:\u001b[0m unexpected EOF while parsing\n"
          ]
        }
      ]
    },
    {
      "cell_type": "code",
      "metadata": {
        "colab": {
          "base_uri": "https://localhost:8080/"
        },
        "outputId": "3123a5ad-352c-4bac-c155-41a78af91c41",
        "id": "p_NBEuAb5wPu"
      },
      "source": [
        "print('Number of people each bus will carry?',int(people)/int(bus))"
      ],
      "execution_count": null,
      "outputs": [
        {
          "output_type": "stream",
          "name": "stdout",
          "text": [
            "Number of people each bus will carry? 2.0\n"
          ]
        }
      ]
    },
    {
      "cell_type": "code",
      "source": [],
      "metadata": {
        "id": "VCCYZoVX-hQQ"
      },
      "execution_count": null,
      "outputs": []
    },
    {
      "cell_type": "code",
      "metadata": {
        "id": "VhFPZ0gahGys",
        "colab": {
          "base_uri": "https://localhost:8080/"
        },
        "outputId": "c3cf9547-1122-4914-f79d-edbc15da305d"
      },
      "source": [
        "#It is not possible to carry half right?\n",
        "each_bus_people=int(people)//int(bus)\n",
        "print('Number of people on each bus?',each_bus_people)"
      ],
      "execution_count": null,
      "outputs": [
        {
          "output_type": "stream",
          "name": "stdout",
          "text": [
            "Number of people on each bus? 2\n"
          ]
        }
      ]
    },
    {
      "cell_type": "markdown",
      "metadata": {
        "id": "Ix3rmqDEhGyy"
      },
      "source": [
        "Every bus caries a leat 10 people. That makes sense. But there is one more problem:\n",
        "Which bus carries more people  or vice versa."
      ]
    },
    {
      "cell_type": "code",
      "source": [
        "#How many peolple should be on the bus?yup...\n",
        "people_presumed = int(each_bus_people)*int(bus)\n",
        "print(\"Total number of people presumed:\",people_presumed)\n",
        "print(\"Total number of people origanally:\",people)\n",
        "more_people=int(people)-people_presumed\n",
        "print(\"number of bus carriying more peolpe:\",more_people)"
      ],
      "metadata": {
        "colab": {
          "base_uri": "https://localhost:8080/"
        },
        "id": "BN_zeYH96KKo",
        "outputId": "22a13a9c-a409-4248-a1ef-8fa3ef8ee3f0"
      },
      "execution_count": null,
      "outputs": [
        {
          "output_type": "stream",
          "name": "stdout",
          "text": [
            "Total number of people presumed: 20\n",
            "Total number of people origanally: 20\n",
            "number of bus carriying more peolpe: 0\n"
          ]
        }
      ]
    },
    {
      "cell_type": "code",
      "source": [
        "#This is basic formatting in python\n",
        "print(\"Means %i bus carring more people than average people\"%(more_people))"
      ],
      "metadata": {
        "colab": {
          "base_uri": "https://localhost:8080/"
        },
        "id": "EOWlHHD2_-vS",
        "outputId": "9a5587cf-e49c-4f30-c601-ea45347cfacb"
      },
      "execution_count": null,
      "outputs": [
        {
          "output_type": "stream",
          "name": "stdout",
          "text": [
            "Means 0 bus carring more people than average people\n"
          ]
        }
      ]
    },
    {
      "cell_type": "markdown",
      "metadata": {
        "id": "g-Cg8pCgyj6T"
      },
      "source": [
        "Now, Kiran wants to measure the area of the farm house. She asks her dad to enter length and breadth of the farm house."
      ]
    },
    {
      "cell_type": "code",
      "source": [
        "# %i represent an integer value\n",
        "length, breadth=input(\"Enter length and breadth of the farm house seperated by comma:\").split(\",\")\n",
        "area=float(length)*float(breadth)\n",
        "print(\"Area of farm house:\",area)"
      ],
      "metadata": {
        "colab": {
          "base_uri": "https://localhost:8080/"
        },
        "id": "TJPFL3CgBI1B",
        "outputId": "1ae477de-95d8-479f-8f2f-9adf6b396c69"
      },
      "execution_count": null,
      "outputs": [
        {
          "output_type": "stream",
          "name": "stdout",
          "text": [
            "Enter length and breadth of the farm house seperated by comma:50,50\n",
            "Area of farm house: 2500.0\n"
          ]
        }
      ]
    },
    {
      "cell_type": "code",
      "metadata": {
        "id": "Y_8treQ3hGzO",
        "colab": {
          "base_uri": "https://localhost:8080/"
        },
        "outputId": "4a5af3f1-1228-4512-c56f-6e61c27a8197"
      },
      "source": [
        "# Some of the land is used as green_house land. So, the usable area should be-\n",
        "green_house_land=500\n",
        "area -= 500\n",
        "print('Usable area:',area)"
      ],
      "execution_count": null,
      "outputs": [
        {
          "output_type": "stream",
          "name": "stdout",
          "text": [
            "Usable area: 2000.0\n"
          ]
        }
      ]
    },
    {
      "cell_type": "code",
      "metadata": {
        "id": "cdekEQzuhGzQ",
        "colab": {
          "base_uri": "https://localhost:8080/"
        },
        "outputId": "6927859b-e58a-4db4-ff50-c70ce6892415"
      },
      "source": [
        "# Rest of the area is evenly divided into 10 parts\n",
        "print('Area for each section:',area/10)"
      ],
      "execution_count": null,
      "outputs": [
        {
          "output_type": "stream",
          "name": "stdout",
          "text": [
            "Area for each section: 200.0\n"
          ]
        }
      ]
    },
    {
      "cell_type": "code",
      "source": [
        "# The precision level is not too high,Payal needs upto 4 decimal places\n",
        "print(\"Area for each section %0.6f\"%(area/10))"
      ],
      "metadata": {
        "colab": {
          "base_uri": "https://localhost:8080/"
        },
        "id": "1Oc65N-2KkkZ",
        "outputId": "cb217b9e-b167-4967-c26f-068bcee8e9b2"
      },
      "execution_count": null,
      "outputs": [
        {
          "output_type": "stream",
          "name": "stdout",
          "text": [
            "Area for each section 200.000000\n"
          ]
        }
      ]
    },
    {
      "cell_type": "code",
      "metadata": {
        "id": "k4rxVV03hGzV",
        "colab": {
          "base_uri": "https://localhost:8080/"
        },
        "outputId": "30ab545d-5226-4cdc-97a7-e42c397497a1"
      },
      "source": [
        "# Formating can also be done using formate() function\n",
        "print(\"Area for each section {:.6f}\".format(area/10))"
      ],
      "execution_count": null,
      "outputs": [
        {
          "output_type": "stream",
          "name": "stdout",
          "text": [
            "Area for each section 200.000000\n"
          ]
        }
      ]
    },
    {
      "cell_type": "code",
      "metadata": {
        "id": "R6pKJDE6hGze"
      },
      "source": [
        "# later Payal learnt how to use complex number in python\n",
        "A=30+3j\n",
        "B=77-12j"
      ],
      "execution_count": null,
      "outputs": []
    },
    {
      "cell_type": "code",
      "source": [
        "#Operation on complex numbers\n",
        "print(\"Addition of two complex number:\",A+B)\n",
        "print(\"Multiplication of acomploxnumber and integer:\",A*2)\n",
        "print(\"Real part of complex number:\",A.real)\n",
        "print(\"Conjugate of a complex number:\",A.conjugate())\n",
        "print(\"Imaginary part of real number:\",A.imag)\n"
      ],
      "metadata": {
        "colab": {
          "base_uri": "https://localhost:8080/"
        },
        "id": "wNfX8OLQU7Bx",
        "outputId": "0727245e-7044-4a0f-87a2-946a7c8068db"
      },
      "execution_count": null,
      "outputs": [
        {
          "output_type": "stream",
          "name": "stdout",
          "text": [
            "Addition of two complex number: (107-9j)\n",
            "Multiplication of acomploxnumber and integer: (60+6j)\n",
            "Real part of complex number: 30.0\n",
            "Conjugate of a complex number: (30-3j)\n",
            "Imaginary part of real number: 3.0\n"
          ]
        }
      ]
    },
    {
      "cell_type": "code",
      "source": [
        "#Comparision of real part of integer\n",
        "print(A.real==30)\n"
      ],
      "metadata": {
        "colab": {
          "base_uri": "https://localhost:8080/"
        },
        "id": "YtQcHJFkXMck",
        "outputId": "64e10fd0-851f-4361-ed07-5fdede84bd84"
      },
      "execution_count": null,
      "outputs": [
        {
          "output_type": "stream",
          "name": "stdout",
          "text": [
            "True\n"
          ]
        }
      ]
    },
    {
      "cell_type": "code",
      "metadata": {
        "id": "mtU2ZAnwhGzm",
        "colab": {
          "base_uri": "https://localhost:8080/"
        },
        "outputId": "d3d9129e-f4f9-4206-f360-d0caef48bdfe"
      },
      "source": [
        "# left shift and right shift\n",
        "#binary of 6=00000110 so left shifting by two places\n",
        "#110(6)<<3 => 110000 which is 48 in decimal value\n",
        "#110(6)>>2 => 0001 which is 1 in decimal value\n",
        "6<<3,6>>2"
      ],
      "execution_count": null,
      "outputs": [
        {
          "output_type": "execute_result",
          "data": {
            "text/plain": [
              "(48, 1)"
            ]
          },
          "metadata": {},
          "execution_count": 26
        }
      ]
    },
    {
      "cell_type": "code",
      "metadata": {
        "colab": {
          "base_uri": "https://localhost:8080/"
        },
        "outputId": "7c853990-4b74-4422-dd80-9bdf0ea8fd00",
        "id": "zMpwW9HVXV2M"
      },
      "source": [
        "# To represent a number in various number systems\n",
        "test=int(input(\"Enter anumber:\"))\n",
        "print(\"octal %s:\"%oct(test))\n",
        "print(\"binary %s:\"%bin(test))\n",
        "print(\"hexadecimal %s:\"%hex(test))\n",
        "# %s? these function return specific value in string for representation\n"
      ],
      "execution_count": null,
      "outputs": [
        {
          "output_type": "stream",
          "name": "stdout",
          "text": [
            "Enter anumber:22\n",
            "octal 0o26:\n",
            "binary 0b10110:\n",
            "hexadecimal 0x16:\n"
          ]
        }
      ]
    },
    {
      "cell_type": "code",
      "metadata": {
        "id": "CCcpGX1xhGzv",
        "colab": {
          "base_uri": "https://localhost:8080/"
        },
        "outputId": "21de2122-661a-4b9b-83ff-fee34fe0708c"
      },
      "source": [
        "# Exponential and powers\n",
        "print('2 to 7th power:%d'%2**7)\n",
        "print('four times ten to the sixth power:%d'%4e6) # python support E- notation"
      ],
      "execution_count": null,
      "outputs": [
        {
          "output_type": "stream",
          "name": "stdout",
          "text": [
            "2 to 7th power:128\n",
            "four times ten to the sixth power:4000000\n"
          ]
        }
      ]
    },
    {
      "cell_type": "code",
      "metadata": {
        "id": "ELdYgx10hGz8",
        "colab": {
          "base_uri": "https://localhost:8080/"
        },
        "outputId": "a7e358cc-02ff-4c16-a712-ec48f046165d"
      },
      "source": [
        "# While playing with numbers she noticed something unsual\n",
        "print(1.1+2.2==3.3)"
      ],
      "execution_count": null,
      "outputs": [
        {
          "output_type": "stream",
          "name": "stdout",
          "text": [
            "False\n"
          ]
        }
      ]
    },
    {
      "cell_type": "code",
      "metadata": {
        "id": "RMbgkvqQhGz-",
        "colab": {
          "base_uri": "https://localhost:8080/"
        },
        "outputId": "47d80fbb-a8ee-409a-bc22-d4a4a6718cce"
      },
      "source": [
        "#How can that be possible?\n",
        "x=1.1+2.2\n",
        "y=3.3\n",
        "print(x==y)"
      ],
      "execution_count": null,
      "outputs": [
        {
          "output_type": "stream",
          "name": "stdout",
          "text": [
            "False\n"
          ]
        }
      ]
    },
    {
      "cell_type": "code",
      "source": [
        "#  It due to machine error. Machines cannot store decimals precisely\n",
        "print(x)\n",
        "print(y)"
      ],
      "metadata": {
        "colab": {
          "base_uri": "https://localhost:8080/"
        },
        "id": "B_iqX6wTdvBV",
        "outputId": "a6556f85-b999-4d91-893a-f0f6f1b59eba"
      },
      "execution_count": null,
      "outputs": [
        {
          "output_type": "stream",
          "name": "stdout",
          "text": [
            "3.3000000000000003\n",
            "3.3\n"
          ]
        }
      ]
    },
    {
      "cell_type": "code",
      "source": [],
      "metadata": {
        "id": "lszT1qQud7K3"
      },
      "execution_count": null,
      "outputs": []
    },
    {
      "cell_type": "code",
      "metadata": {
        "id": "sxm_IS_ChG0G",
        "colab": {
          "base_uri": "https://localhost:8080/"
        },
        "outputId": "837bde32-a6e5-407c-c5e1-f2d282f2e0a9"
      },
      "source": [
        "''' Payal wants to convert temperature from Fahrenheit to Celcuis\n",
        "    Let us try to help her\n",
        "    She knows the Formula is: C = 5 / 9 * (F - 32)\n",
        "    One more thing! This is how we write multiline comments in Python.\n",
        "'''\n",
        "F=int(input('Enter the temperature in fahrenheit: '))\n",
        "C=5/9*(F-32)\n",
        "print('Celcuis: %0.2f'%C)\n",
        "\n",
        "\n",
        "\n"
      ],
      "execution_count": null,
      "outputs": [
        {
          "output_type": "stream",
          "name": "stdout",
          "text": [
            "Enter the temperature in fahrenheit: 100\n",
            "Celcuis: 37.78\n"
          ]
        }
      ]
    },
    {
      "cell_type": "markdown",
      "metadata": {
        "id": "BRBc_CUAydwF"
      },
      "source": [
        "### Basic List Methods\n",
        "\n",
        "If you are familiar with another programming language, you might start to draw parallels between arrays in another language and lists in Python. Lists in Python however, tend to be more flexible than arrays in other languages for a two good reasons: they have no fixed size (meaning we don't have to specify how big a list will be), and they have no fixed type constraint (like we've seen above).\n",
        "\n",
        "Let's go ahead and explore some more special methods for lists:\n",
        "It should also be noted that lists indexing will return an error if there is no element at that index. For example:\n",
        "\n",
        "We can use the sort method and the reverse methods to also effect your lists:"
      ]
    },
    {
      "cell_type": "code",
      "source": [
        "new_list=[\"a\",\"c\",\"d\",\"x\",\"n\",\"h\"]"
      ],
      "metadata": {
        "id": "HrZNqM4_1jO7"
      },
      "execution_count": 4,
      "outputs": []
    },
    {
      "cell_type": "code",
      "source": [
        "#show\n",
        "new_list"
      ],
      "metadata": {
        "colab": {
          "base_uri": "https://localhost:8080/"
        },
        "id": "tYQrONAdZLeV",
        "outputId": "08761a65-8d7d-497c-8dad-6794912ad7e5"
      },
      "execution_count": 5,
      "outputs": [
        {
          "output_type": "execute_result",
          "data": {
            "text/plain": [
              "['a', 'c', 'd', 'x', 'n', 'h']"
            ]
          },
          "metadata": {},
          "execution_count": 5
        }
      ]
    },
    {
      "cell_type": "code",
      "source": [
        "# reverse the order of elements in the list\n",
        "new_list.reverse()"
      ],
      "metadata": {
        "id": "HVVgGzSlZZko"
      },
      "execution_count": 7,
      "outputs": []
    },
    {
      "cell_type": "code",
      "source": [
        "new_list"
      ],
      "metadata": {
        "colab": {
          "base_uri": "https://localhost:8080/"
        },
        "id": "dsBcbwRlZ03i",
        "outputId": "d1054d9c-4360-4ace-f117-873b85b8a892"
      },
      "execution_count": 8,
      "outputs": [
        {
          "output_type": "execute_result",
          "data": {
            "text/plain": [
              "['h', 'n', 'x', 'd', 'c', 'a']"
            ]
          },
          "metadata": {},
          "execution_count": 8
        }
      ]
    },
    {
      "cell_type": "markdown",
      "metadata": {
        "id": "ab7DE9Huydwx"
      },
      "source": [
        "### Nesting Lists\n",
        "A great feature of of Python data structures is that they support *nesting*. This means we can have data structures within data structures. For example: A list inside a list.\n",
        "\n",
        "Let's see how this works!"
      ]
    },
    {
      "cell_type": "code",
      "source": [
        "# Let's make three lists\n",
        "list_1=[9,7,0]\n",
        "list_2=[4,8,6]\n",
        "list_3=[7,0,9]\n"
      ],
      "metadata": {
        "id": "8JTgs6S0Z9_f"
      },
      "execution_count": 13,
      "outputs": []
    },
    {
      "cell_type": "code",
      "source": [
        "# Make a list of lists to form a matrix\n",
        "matrix = [list_1,list_2,list_3]"
      ],
      "metadata": {
        "id": "iZfIkzHLaV85"
      },
      "execution_count": 14,
      "outputs": []
    },
    {
      "cell_type": "code",
      "source": [
        "#Show\n",
        "matrix"
      ],
      "metadata": {
        "colab": {
          "base_uri": "https://localhost:8080/"
        },
        "id": "as-ht5ZRagzp",
        "outputId": "04491823-4db1-4c99-a9a8-31a6aaa86708"
      },
      "execution_count": 15,
      "outputs": [
        {
          "output_type": "execute_result",
          "data": {
            "text/plain": [
              "[[9, 7, 0], [4, 8, 6], [7, 0, 9]]"
            ]
          },
          "metadata": {},
          "execution_count": 15
        }
      ]
    },
    {
      "cell_type": "markdown",
      "source": [
        "We can again use indexing to grab elements, but now there are two levels for the index. The items in the matrix object, and then the items inside that list!"
      ],
      "metadata": {
        "id": "H7SfqmsSaubi"
      }
    },
    {
      "cell_type": "code",
      "source": [
        "# Grab first item in matrix object\n",
        "matrix[0]"
      ],
      "metadata": {
        "colab": {
          "base_uri": "https://localhost:8080/"
        },
        "id": "qtAvPuQxanL8",
        "outputId": "4c22df10-4700-4171-9163-6c6622f20a1f"
      },
      "execution_count": 16,
      "outputs": [
        {
          "output_type": "execute_result",
          "data": {
            "text/plain": [
              "[9, 7, 0]"
            ]
          },
          "metadata": {},
          "execution_count": 16
        }
      ]
    },
    {
      "cell_type": "code",
      "source": [
        "# Grab first item of the first list  in the matrix object\n",
        "matrix[0][0]"
      ],
      "metadata": {
        "colab": {
          "base_uri": "https://localhost:8080/"
        },
        "id": "ydJEpmQKa4sQ",
        "outputId": "e36a192d-5aff-4e6a-ceef-e0025ec2731d"
      },
      "execution_count": 17,
      "outputs": [
        {
          "output_type": "execute_result",
          "data": {
            "text/plain": [
              "9"
            ]
          },
          "metadata": {},
          "execution_count": 17
        }
      ]
    },
    {
      "cell_type": "markdown",
      "metadata": {
        "id": "hCwTsUSM7pJH"
      },
      "source": [
        "### Dictionaries\n",
        "\n",
        "We've been learning about *sequences* in Python but now we're going to switch gears and learn about *mappings* in Python. If you're familiar with other languages you can think of these Dictionaries as hash tables. \n",
        "\n",
        "This section will serve as a brief introduction to dictionaries and consist of:\n",
        "\n",
        "    1.) Constructing a Dictionary\n",
        "    2.) Accessing objects from a dictionary\n",
        "    3.) Nesting Dictionaries\n",
        "    4.) Basic Dictionary Methods\n",
        "\n",
        "So what are mappings? Mappings are a collection of objects that are stored by a *key*, unlike a sequence that stored objects by their relative position. This is an important distinction, since mappings won't retain order since they have objects defined by a key.\n",
        "\n",
        "A Python dictionary consists of a key and then an associated value. That value can be almost any Python object.\n",
        "\n",
        "\n",
        "## Constructing a Dictionary\n",
        "Let's see how we can construct dictionaries to get a better understanding of how they work!"
      ]
    },
    {
      "cell_type": "code",
      "metadata": {
        "id": "VyGszYeu7pJI"
      },
      "source": [
        "# Make a dictionary with {} and : to signify a key and a value\n",
        "my_dict = {'key1':'value1','key2':'value2','key3':'value3'}"
      ],
      "execution_count": 18,
      "outputs": []
    },
    {
      "cell_type": "code",
      "metadata": {
        "id": "KeYJ5k_Q7pJL",
        "colab": {
          "base_uri": "https://localhost:8080/",
          "height": 35
        },
        "outputId": "1379049c-6d79-4584-a296-fc1bb00ac6ef"
      },
      "source": [
        "# Call values by their key\n",
        "my_dict['key3']"
      ],
      "execution_count": 19,
      "outputs": [
        {
          "output_type": "execute_result",
          "data": {
            "text/plain": [
              "'value3'"
            ],
            "application/vnd.google.colaboratory.intrinsic+json": {
              "type": "string"
            }
          },
          "metadata": {},
          "execution_count": 19
        }
      ]
    },
    {
      "cell_type": "markdown",
      "metadata": {
        "id": "C_pal7y57pJO"
      },
      "source": [
        "Its important to note that dictionaries are very flexible in the data types they can hold. For example:"
      ]
    },
    {
      "cell_type": "code",
      "metadata": {
        "id": "q37vEMyJ7pJP"
      },
      "source": [
        "my_dict = {'key1':1203,'key2':[22,299,33],'key3':['itemb',' ITEMG','itemz']}"
      ],
      "execution_count": 28,
      "outputs": []
    },
    {
      "cell_type": "code",
      "metadata": {
        "id": "TbkVgp5-7pJS",
        "colab": {
          "base_uri": "https://localhost:8080/"
        },
        "outputId": "0e72e3d8-3c37-4de2-a642-421240cc0aea"
      },
      "source": [
        "# Let's call items from the dictionary\n",
        "my_dict['key3']"
      ],
      "execution_count": 29,
      "outputs": [
        {
          "output_type": "execute_result",
          "data": {
            "text/plain": [
              "['itemb', ' ITEMG', 'itemz']"
            ]
          },
          "metadata": {},
          "execution_count": 29
        }
      ]
    },
    {
      "cell_type": "code",
      "metadata": {
        "id": "ZasU5MpB7pJV",
        "colab": {
          "base_uri": "https://localhost:8080/",
          "height": 35
        },
        "outputId": "64421563-141b-42ae-ef10-17e9aed3f69f"
      },
      "source": [
        "# Can call an index on that value\n",
        "my_dict['key3'][0]"
      ],
      "execution_count": 30,
      "outputs": [
        {
          "output_type": "execute_result",
          "data": {
            "text/plain": [
              "'itemb'"
            ],
            "application/vnd.google.colaboratory.intrinsic+json": {
              "type": "string"
            }
          },
          "metadata": {},
          "execution_count": 30
        }
      ]
    },
    {
      "cell_type": "code",
      "metadata": {
        "id": "y7TsHWV47pJX",
        "colab": {
          "base_uri": "https://localhost:8080/",
          "height": 35
        },
        "outputId": "0839b718-c3de-46ab-be67-322aadcd691e"
      },
      "source": [
        "# Can then even call methods on that value and make  the result upper case\n",
        "my_dict['key3'][0].upper()"
      ],
      "execution_count": 31,
      "outputs": [
        {
          "output_type": "execute_result",
          "data": {
            "text/plain": [
              "'ITEMB'"
            ],
            "application/vnd.google.colaboratory.intrinsic+json": {
              "type": "string"
            }
          },
          "metadata": {},
          "execution_count": 31
        }
      ]
    },
    {
      "cell_type": "code",
      "source": [
        "\n",
        "#Can then even call methods on that value and make the result lower case\n",
        "my_dict['key3'][1].lower"
      ],
      "metadata": {
        "colab": {
          "base_uri": "https://localhost:8080/"
        },
        "id": "IbWEMiT-c3qW",
        "outputId": "0a4e6180-995f-43d3-dbf3-0f41ecd302ff"
      },
      "execution_count": 35,
      "outputs": [
        {
          "output_type": "execute_result",
          "data": {
            "text/plain": [
              "<function str.lower()>"
            ]
          },
          "metadata": {},
          "execution_count": 35
        }
      ]
    },
    {
      "cell_type": "markdown",
      "metadata": {
        "id": "Ba1M-6Yi7pJb"
      },
      "source": [
        "We can affect the values of a key as well. For instance:"
      ]
    },
    {
      "cell_type": "code",
      "metadata": {
        "id": "TS6aI32M7pJb",
        "colab": {
          "base_uri": "https://localhost:8080/"
        },
        "outputId": "1276caae-1b3e-4dd9-d39d-f7a5869fe08a"
      },
      "source": [
        "my_dict['key1']"
      ],
      "execution_count": 36,
      "outputs": [
        {
          "output_type": "execute_result",
          "data": {
            "text/plain": [
              "1203"
            ]
          },
          "metadata": {},
          "execution_count": 36
        }
      ]
    },
    {
      "cell_type": "code",
      "metadata": {
        "id": "aWpHZcwG7pJe"
      },
      "source": [
        "# Subtract 123 from the value\n",
        "my_dict['key1'] = my_dict['key1'] - 123"
      ],
      "execution_count": 38,
      "outputs": []
    },
    {
      "cell_type": "code",
      "metadata": {
        "id": "xG5yEsMC7pJh",
        "colab": {
          "base_uri": "https://localhost:8080/"
        },
        "outputId": "bedfbf0d-fe93-4e20-eadd-730aee969131"
      },
      "source": [
        "#Check\n",
        "my_dict['key1']"
      ],
      "execution_count": 39,
      "outputs": [
        {
          "output_type": "execute_result",
          "data": {
            "text/plain": [
              "957"
            ]
          },
          "metadata": {},
          "execution_count": 39
        }
      ]
    },
    {
      "cell_type": "markdown",
      "metadata": {
        "id": "iqLy9B_37pJj"
      },
      "source": [
        "A quick note, Python has a built-in method of doing a self subtraction or addition (or multiplication or division). We could have also used += or -= for the above statement. For example:"
      ]
    },
    {
      "cell_type": "code",
      "metadata": {
        "id": "XjW_-45p7pJk",
        "colab": {
          "base_uri": "https://localhost:8080/"
        },
        "outputId": "93fdef57-9c36-4ce8-cf38-d394bc8ec44a"
      },
      "source": [
        "# Set the object equal to itself minus 123 \n",
        "my_dict['key1'] -= 123\n",
        "my_dict['key1']"
      ],
      "execution_count": 40,
      "outputs": [
        {
          "output_type": "execute_result",
          "data": {
            "text/plain": [
              "834"
            ]
          },
          "metadata": {},
          "execution_count": 40
        }
      ]
    },
    {
      "cell_type": "code",
      "metadata": {
        "colab": {
          "base_uri": "https://localhost:8080/"
        },
        "outputId": "30c74689-b269-41dc-a926-b51ed8c14935",
        "id": "NkmyRvk1fBEY"
      },
      "source": [
        "# Set the object equal to itself multiplly 3 \n",
        "my_dict['key1'] *= 123\n",
        "my_dict['key1']"
      ],
      "execution_count": 41,
      "outputs": [
        {
          "output_type": "execute_result",
          "data": {
            "text/plain": [
              "102582"
            ]
          },
          "metadata": {},
          "execution_count": 41
        }
      ]
    },
    {
      "cell_type": "markdown",
      "metadata": {
        "id": "YWSZyICP7pJm"
      },
      "source": [
        "We can also create keys by assignment. For instance if we started off with an empty dictionary, we could continually add to it:"
      ]
    },
    {
      "cell_type": "code",
      "metadata": {
        "id": "iCv5EgmJ7pJo"
      },
      "source": [
        "# Create a new dictionary\n",
        "d = {}"
      ],
      "execution_count": 43,
      "outputs": []
    },
    {
      "cell_type": "code",
      "metadata": {
        "id": "iA2kF8p97pJr"
      },
      "source": [
        "# Create a new key through assignment\n",
        "d['plane'] = 'Indian Airlines'"
      ],
      "execution_count": 44,
      "outputs": []
    },
    {
      "cell_type": "code",
      "metadata": {
        "id": "mFzx97IG7pJu"
      },
      "source": [
        "# Can do this with any object\n",
        "d['answer'] = 42"
      ],
      "execution_count": 45,
      "outputs": []
    },
    {
      "cell_type": "code",
      "metadata": {
        "id": "dAbBtBhO7pJx",
        "colab": {
          "base_uri": "https://localhost:8080/"
        },
        "outputId": "c8b6e1e4-7031-481f-a5da-e1abff36b9ff"
      },
      "source": [
        "#Show\n",
        "d"
      ],
      "execution_count": 46,
      "outputs": [
        {
          "output_type": "execute_result",
          "data": {
            "text/plain": [
              "{'plane': 'Indian Airlines', 'answer': 42}"
            ]
          },
          "metadata": {},
          "execution_count": 46
        }
      ]
    },
    {
      "cell_type": "markdown",
      "source": [
        "Nesting with Dictionaries\n",
        "Hopefully you're starting to see how powerful Python is with its flexibility of nesting objects and calling methods on them. Let's see a dictionary nested inside a dictionary:"
      ],
      "metadata": {
        "id": "AGCPRVEmgI1w"
      }
    },
    {
      "cell_type": "code",
      "metadata": {
        "id": "nlnyFtRQ7pJ1"
      },
      "source": [
        "# Dictionary nested inside a dictionary nested inside a dictionary\n",
        "d = {'key1':{'nestkey':{'subnestkey':'HERO'}}}"
      ],
      "execution_count": 49,
      "outputs": []
    },
    {
      "cell_type": "markdown",
      "metadata": {
        "id": "O1fUFfwM7pJ4"
      },
      "source": [
        "Wow! That's a quite the inception of dictionaries! Let's see how we can grab that value:"
      ]
    },
    {
      "cell_type": "code",
      "source": [
        "# Keep calling the keys\n",
        "d['key1']['nestkey']['subnestkey']"
      ],
      "metadata": {
        "colab": {
          "base_uri": "https://localhost:8080/",
          "height": 35
        },
        "id": "YuXG6rLbgMTI",
        "outputId": "b57de85c-f899-402b-d1a6-636258033a9c"
      },
      "execution_count": 50,
      "outputs": [
        {
          "output_type": "execute_result",
          "data": {
            "text/plain": [
              "'HERO'"
            ],
            "application/vnd.google.colaboratory.intrinsic+json": {
              "type": "string"
            }
          },
          "metadata": {},
          "execution_count": 50
        }
      ]
    },
    {
      "cell_type": "markdown",
      "metadata": {
        "id": "Dj8lMPUT7pKB"
      },
      "source": [
        "### A few Dictionary Methods\n",
        "\n",
        "There are a few methods we can call on a dictionary. Let's get a quick introduction to a few of them:"
      ]
    },
    {
      "cell_type": "code",
      "source": [
        "# Create a typical dictionary\n",
        "d = {'key1':1,'key2':28,'key3':93}"
      ],
      "metadata": {
        "id": "2XeX6Kxsgx2Z"
      },
      "execution_count": 51,
      "outputs": []
    },
    {
      "cell_type": "code",
      "source": [
        "# Method to return a list of all keys \n",
        "d.keys()"
      ],
      "metadata": {
        "colab": {
          "base_uri": "https://localhost:8080/"
        },
        "id": "AL1mzCqGgy7C",
        "outputId": "ab97559e-a0ce-406c-c43c-0387d0e8a5dc"
      },
      "execution_count": 52,
      "outputs": [
        {
          "output_type": "execute_result",
          "data": {
            "text/plain": [
              "dict_keys(['key1', 'key2', 'key3'])"
            ]
          },
          "metadata": {},
          "execution_count": 52
        }
      ]
    },
    {
      "cell_type": "code",
      "source": [
        "# Method to grab all values\n",
        "d.values()"
      ],
      "metadata": {
        "colab": {
          "base_uri": "https://localhost:8080/"
        },
        "id": "IkpT4T7xgzSg",
        "outputId": "51cf0770-3439-4785-ca21-2536398b8af1"
      },
      "execution_count": 53,
      "outputs": [
        {
          "output_type": "execute_result",
          "data": {
            "text/plain": [
              "dict_values([1, 28, 93])"
            ]
          },
          "metadata": {},
          "execution_count": 53
        }
      ]
    },
    {
      "cell_type": "code",
      "source": [
        "# Method to return tuples of all items  (we'll learn about tuples soon)\n",
        "d.items()"
      ],
      "metadata": {
        "colab": {
          "base_uri": "https://localhost:8080/"
        },
        "id": "zRKlPmVog7Ju",
        "outputId": "264a6d8a-0141-4929-fef5-f7dc5a16a92d"
      },
      "execution_count": 54,
      "outputs": [
        {
          "output_type": "execute_result",
          "data": {
            "text/plain": [
              "dict_items([('key1', 1), ('key2', 28), ('key3', 93)])"
            ]
          },
          "metadata": {},
          "execution_count": 54
        }
      ]
    },
    {
      "cell_type": "code",
      "source": [],
      "metadata": {
        "id": "jS0_qaP5g7Y4"
      },
      "execution_count": null,
      "outputs": []
    }
  ]
}