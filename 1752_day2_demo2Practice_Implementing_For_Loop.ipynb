{
  "nbformat": 4,
  "nbformat_minor": 0,
  "metadata": {
    "colab": {
      "provenance": [],
      "collapsed_sections": [],
      "authorship_tag": "ABX9TyNigaBd5krRq0OGSvRxxe65",
      "include_colab_link": true
    },
    "kernelspec": {
      "name": "python3",
      "display_name": "Python 3"
    },
    "language_info": {
      "name": "python"
    }
  },
  "cells": [
    {
      "cell_type": "markdown",
      "metadata": {
        "id": "view-in-github",
        "colab_type": "text"
      },
      "source": [
        "<a href=\"https://colab.research.google.com/github/anupkumar888/Python_Programming/blob/main/1752_day2_demo2Practice_Implementing_For_Loop.ipynb\" target=\"_parent\"><img src=\"https://colab.research.google.com/assets/colab-badge.svg\" alt=\"Open In Colab\"/></a>"
      ]
    },
    {
      "cell_type": "markdown",
      "metadata": {
        "id": "K3Rt_5S0Q8QB"
      },
      "source": [
        "#Control Flow and Functions in Python\n",
        "\n",
        "###Demo 2: Implementing For Loop"
      ]
    },
    {
      "cell_type": "markdown",
      "metadata": {
        "id": "N0Ng_S1JQ8QG"
      },
      "source": [
        "In this demo, you will be shown how to perform iteration over list, tuples, string and dictionaries and implementation of fibonacci series using for loop."
      ]
    },
    {
      "cell_type": "markdown",
      "metadata": {
        "id": "kQTbV0MvDMVC"
      },
      "source": [
        "#Control Flow and Functions in Python\n",
        "\n",
        "###Demo 2: Implementing For Loop"
      ]
    },
    {
      "cell_type": "markdown",
      "metadata": {
        "id": "WjNXQfpsQ8QG"
      },
      "source": [
        "### Perform iteration over list, tuple, strings and dictionaries"
      ]
    },
    {
      "cell_type": "markdown",
      "metadata": {
        "id": "cnS4IbSGQ8QI"
      },
      "source": [
        "### Step 1: Iterate over a list"
      ]
    },
    {
      "cell_type": "code",
      "source": [
        "print(\"List Iteration\")\n",
        "l= [\"Ding\",\"A\",\"Dong\"]\n",
        "for i in l:\n",
        "  print (i)"
      ],
      "metadata": {
        "colab": {
          "base_uri": "https://localhost:8080/"
        },
        "id": "2e3NkZXmDg_5",
        "outputId": "22b0f9f5-84f8-456d-df91-8f3e829f709b"
      },
      "execution_count": 4,
      "outputs": [
        {
          "output_type": "stream",
          "name": "stdout",
          "text": [
            "List Iteration\n",
            "Ding\n",
            "A\n",
            "Dong\n"
          ]
        }
      ]
    },
    {
      "cell_type": "markdown",
      "metadata": {
        "id": "-X0TMmq_Q8QK"
      },
      "source": [
        "### Step 2: Iterate over a tuple"
      ]
    },
    {
      "cell_type": "code",
      "execution_count": 3,
      "metadata": {
        "id": "I_ifkwJwQ8QI",
        "outputId": "ead19b63-b851-40b6-a2db-5d726dcf1e57",
        "colab": {
          "base_uri": "https://localhost:8080/"
        }
      },
      "outputs": [
        {
          "output_type": "stream",
          "name": "stdout",
          "text": [
            "\n",
            "Tuplple Iteration\n",
            "Ding\n",
            "A\n",
            "Dong\n"
          ]
        }
      ],
      "source": [
        " #Tterating over atuple(imutable)\n",
        "print(\"\\nTuplple Iteration\")\n",
        "t=(\"Ding\",\"A\",\"Dong\")\n",
        "for i in t:\n",
        "  print(i)"
      ]
    },
    {
      "cell_type": "markdown",
      "metadata": {
        "id": "OAU0eyMmQ8QL"
      },
      "source": [
        "### Step 3: Iterate over a string"
      ]
    },
    {
      "cell_type": "code",
      "source": [
        " #Iteration over a string\n",
        " #Taking a string from user\n",
        "s= input(\"Ënter a string:\")\n",
        " # cheking for palindrome using the \"for\" loop\n",
        "for i in range(0,len(s)//2):\n",
        "  if(s[i] != s[len(s)-i-1]):\n",
        "    found = False\n",
        "    break\n",
        "else:\n",
        "   found = True\n",
        "  # Checking whether the given string and reversed string is same\n",
        "if found:\n",
        "    print(\"The string is a palindrome.\")\n",
        "else:\n",
        "    print(\"The string is not a palindrome.\")      "
      ],
      "metadata": {
        "colab": {
          "base_uri": "https://localhost:8080/"
        },
        "id": "kglwG5CoPgyj",
        "outputId": "257a4298-d790-4973-f782-2ed6abc789b8"
      },
      "execution_count": 9,
      "outputs": [
        {
          "output_type": "stream",
          "name": "stdout",
          "text": [
            "Ënter a string:1221\n",
            "The string is a palindrome.\n"
          ]
        }
      ]
    },
    {
      "cell_type": "markdown",
      "metadata": {
        "id": "TDyOlGZqQ8QN"
      },
      "source": [
        "### Step 4: Iterate over a dictionary"
      ]
    },
    {
      "cell_type": "code",
      "source": [
        " # Iteration over dicitionary\n",
        " statesAndCapital ={\n",
        "     'Goa':'Panjim','Maharashtra':'Mumbai','Karnataka':'Bengaluru','Tamil Nadu':'Chennai' ,'Utar Pradesh':'Banarash'  \n",
        " }\n",
        "print('List of given states and their capital:\\n')\n",
        "\n",
        " #Iteration over values\n",
        " for state , capital in statesAndCapital.items():\n",
        "   print(state, \":\", \"capital\")"
      ],
      "metadata": {
        "colab": {
          "base_uri": "https://localhost:8080/"
        },
        "id": "n2LW06cFVeeF",
        "outputId": "c90fc535-968a-4542-843c-43f80278338e"
      },
      "execution_count": 16,
      "outputs": [
        {
          "output_type": "stream",
          "name": "stdout",
          "text": [
            "List of given states and their capital:\n",
            "\n",
            "Goa : capital\n",
            "Maharashtra : capital\n",
            "Karnataka : capital\n",
            "Tamil Nadu : capital\n",
            "Utar Pradesh : capital\n"
          ]
        }
      ]
    },
    {
      "cell_type": "markdown",
      "metadata": {
        "id": "Ed1bZBqHQ8QO"
      },
      "source": [
        "### Implementation of Fibonacci series using for loop"
      ]
    },
    {
      "cell_type": "markdown",
      "metadata": {
        "id": "FgH1TTIyQ8QQ"
      },
      "source": [
        "### Step 1: Take input from user "
      ]
    },
    {
      "cell_type": "code",
      "execution_count": 45,
      "metadata": {
        "id": "yQgZsEvhQ8QO",
        "outputId": "6ffedb97-c672-4c4a-c8a7-72e97ffcd29c",
        "colab": {
          "base_uri": "https://localhost:8080/"
        }
      },
      "outputs": [
        {
          "name": "stdout",
          "output_type": "stream",
          "text": [
            "\n",
            " Please Enter the Number:2\n"
          ]
        }
      ],
      "source": [
        "# FiBONACCI series will start at 0 and continue upto below number\n",
        "Number = int(input(\"\\n Please Enter the Number:\"))"
      ]
    },
    {
      "cell_type": "markdown",
      "metadata": {
        "id": "A6G8Tc8aQ8QS"
      },
      "source": [
        "### Step 2: Initialize first and second value from the inputs"
      ]
    },
    {
      "cell_type": "code",
      "execution_count": 48,
      "metadata": {
        "id": "XVSzfRwDQ8QR"
      },
      "outputs": [],
      "source": [
        "First_Value=0\n",
        "Second_Value=1"
      ]
    },
    {
      "cell_type": "markdown",
      "metadata": {
        "id": "IZUF8Nx_Q8QT"
      },
      "source": [
        "### Step 3: Generate and display fibonacci series"
      ]
    },
    {
      "cell_type": "code",
      "source": [
        "for Num in range(0, Number):\n",
        "           if(Num <= 1):\n",
        "                      Next = Num\n",
        "           else:\n",
        "                      Next = First_Value + Second_Value\n",
        "                      First_Value = Second_Value\n",
        "                      Second_Value = Next\n",
        "           print(Next)"
      ],
      "metadata": {
        "colab": {
          "base_uri": "https://localhost:8080/"
        },
        "id": "4IiY8q1YbNBk",
        "outputId": "c3657b26-d6d7-4f42-c3f3-5461592b23a6"
      },
      "execution_count": 49,
      "outputs": [
        {
          "output_type": "stream",
          "name": "stdout",
          "text": [
            "0\n",
            "1\n"
          ]
        }
      ]
    },
    {
      "cell_type": "markdown",
      "metadata": {
        "id": "rXDb7wdkQ8QT"
      },
      "source": [
        "#### Conclusion: This code demonstrates how to implement for loop"
      ]
    },
    {
      "cell_type": "code",
      "execution_count": null,
      "metadata": {
        "id": "UqlsVslCQ8QU"
      },
      "outputs": [],
      "source": []
    }
  ]
}