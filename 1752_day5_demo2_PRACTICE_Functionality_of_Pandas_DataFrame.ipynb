{
  "nbformat": 4,
  "nbformat_minor": 0,
  "metadata": {
    "colab": {
      "provenance": [],
      "collapsed_sections": [],
      "authorship_tag": "ABX9TyNVgNkeb3Xd0d/ASSSLHoOm",
      "include_colab_link": true
    },
    "kernelspec": {
      "name": "python3",
      "display_name": "Python 3"
    },
    "language_info": {
      "name": "python"
    }
  },
  "cells": [
    {
      "cell_type": "markdown",
      "metadata": {
        "id": "view-in-github",
        "colab_type": "text"
      },
      "source": [
        "<a href=\"https://colab.research.google.com/github/anupkumar888/Python_Programming/blob/Python-programming/1752_day5_demo2_PRACTICE_Functionality_of_Pandas_DataFrame.ipynb\" target=\"_parent\"><img src=\"https://colab.research.google.com/assets/colab-badge.svg\" alt=\"Open In Colab\"/></a>"
      ]
    },
    {
      "cell_type": "markdown",
      "metadata": {
        "id": "HMLWbuv3LCd4"
      },
      "source": [
        "#Data Structures in Pandas\n",
        "\n",
        "###Demo 2: Functionality of Pandas DataFrame\n",
        "\n",
        "In this demo, you will be shown how to use dataFrames to represent data using Python."
      ]
    },
    {
      "cell_type": "markdown",
      "metadata": {
        "id": "6DKfX-kGLCeL"
      },
      "source": [
        "##### Question 1:\n",
        "\n",
        "Perform the following Pandas Operations\n",
        "\n",
        "    1) From the raw data below create a data frame\n",
        "    \n",
        "    'first_name': ['Jason', 'Molly', 'Tina', 'Jake', 'Amy'], \n",
        "    'last_name': ['Miller', 'Jacobson', \".\", 'Milner', 'Cooze'], \n",
        "    'age': [42, 52, 36, 24, 73], \n",
        "    'preTestScore': [4, 24, 31, \".\", \".\"],\n",
        "    'postTestScore': [\"25,000\", \"94,000\", 57, 62, 70]\n",
        "\n",
        "    2) Save the dataframe into a csv file as example.csv\n",
        "    3) Read the example.csv and print the data frame\n",
        "    4) Read the example.csv without column heading\n",
        "    5) Read the example.csv and make the index columns as 'First Name’ and 'Last   Name'\n",
        "    6) Read the first 3 rows of the dataFrame and print the dataFrame\n",
        "    7) The column 'postTestScore' has \",\" in their values around numbers to represent thousands. Load example.csv file which ignores the default behaviour of comma while reading the 'postTestScore' column \n"
      ]
    },
    {
      "cell_type": "code",
      "source": [
        "# Import the required libraries\n",
        "\n",
        "import pandas as pd\n",
        "import numpy as np"
      ],
      "metadata": {
        "id": "Dgf1Ov7_JLug"
      },
      "execution_count": 1,
      "outputs": []
    },
    {
      "cell_type": "code",
      "source": [
        "# 1. From the raw data below create a data frame\n",
        "\n",
        "raw_data ={'first_name': ['Jason', 'Molly', 'Tina', 'Jake', 'Amy'], \n",
        "'last_name': ['Miller', 'Jacobson', \".\", 'Milner', 'Cooze'], \n",
        "'age': [42, 52, 36, 24, 73], \n",
        "'preTestScore': [4, 24, 31, \".\", \".\"],\n",
        "'postTestScore': [\"25,000\", \"94,000\", 57, 62, 70]}\n",
        "\n",
        "df = pd.DataFrame(raw_data, columns = ['first_name', 'last_name', 'age', 'preTestScore', 'postTestScore'])\n",
        "print(df)\n"
      ],
      "metadata": {
        "colab": {
          "base_uri": "https://localhost:8080/"
        },
        "id": "1nw7bK8LJvSn",
        "outputId": "b49b13a8-3136-460f-c0e0-6323f5be03d5"
      },
      "execution_count": 9,
      "outputs": [
        {
          "output_type": "stream",
          "name": "stdout",
          "text": [
            "  first_name last_name  age preTestScore postTestScore\n",
            "0      Jason    Miller   42            4        25,000\n",
            "1      Molly  Jacobson   52           24        94,000\n",
            "2       Tina         .   36           31            57\n",
            "3       Jake    Milner   24            .            62\n",
            "4        Amy     Cooze   73            .            70\n"
          ]
        }
      ]
    },
    {
      "cell_type": "code",
      "source": [
        "#2. Save the dataframe into a csv file as example.csv\n",
        "\n",
        "df.to_csv(\"example.csv\")"
      ],
      "metadata": {
        "id": "7J1cim7PK_xu"
      },
      "execution_count": 10,
      "outputs": []
    },
    {
      "cell_type": "code",
      "source": [
        "# 3. Read data from CSV and print the dataFrame\n",
        "\n",
        "df1 = pd.read_csv(\"example.csv\",header=0)\n",
        "print(df1)"
      ],
      "metadata": {
        "colab": {
          "base_uri": "https://localhost:8080/"
        },
        "id": "ts5GEy_cL-Bt",
        "outputId": "891aff94-7bcd-4f61-92ac-dcec740dc663"
      },
      "execution_count": 11,
      "outputs": [
        {
          "output_type": "stream",
          "name": "stdout",
          "text": [
            "   Unnamed: 0 first_name last_name  age preTestScore postTestScore\n",
            "0           0      Jason    Miller   42            4        25,000\n",
            "1           1      Molly  Jacobson   52           24        94,000\n",
            "2           2       Tina         .   36           31            57\n",
            "3           3       Jake    Milner   24            .            62\n",
            "4           4        Amy     Cooze   73            .            70\n"
          ]
        }
      ]
    },
    {
      "cell_type": "code",
      "source": [
        "#$ 4. Read data from CSV without headers\n",
        "\n",
        "df3 =pd.read_csv(\"example.csv\",header=None)\n",
        "print(df3) "
      ],
      "metadata": {
        "colab": {
          "base_uri": "https://localhost:8080/"
        },
        "id": "X6kxk7wxMwXR",
        "outputId": "4221a49f-d9dd-4e54-fcfd-c9aaddcaa72c"
      },
      "execution_count": 12,
      "outputs": [
        {
          "output_type": "stream",
          "name": "stdout",
          "text": [
            "     0           1          2    3             4              5\n",
            "0  NaN  first_name  last_name  age  preTestScore  postTestScore\n",
            "1  0.0       Jason     Miller   42             4         25,000\n",
            "2  1.0       Molly   Jacobson   52            24         94,000\n",
            "3  2.0        Tina          .   36            31             57\n",
            "4  3.0        Jake     Milner   24             .             62\n",
            "5  4.0         Amy      Cooze   73             .             70\n"
          ]
        }
      ]
    },
    {
      "cell_type": "code",
      "source": [
        "# 5. Read the data again with headers and make the index columns as 'First Name’ and 'Last Name'\n",
        "\n",
        "df4 = pd.read_csv('example.csv', header=0, index_col=['First Name', 'Last Name'], \n",
        "                 names=['UID', 'First Name', 'Last Name', 'Age', 'Pre-Test Score', 'Post-Test Score'])\n",
        "print(df4)"
      ],
      "metadata": {
        "colab": {
          "base_uri": "https://localhost:8080/"
        },
        "id": "6dMBQlo2Nc6R",
        "outputId": "7e1164f1-db4b-4646-c0dc-f5ce22493ccd"
      },
      "execution_count": 16,
      "outputs": [
        {
          "output_type": "stream",
          "name": "stdout",
          "text": [
            "                      UID  Age Pre-Test Score Post-Test Score\n",
            "First Name Last Name                                         \n",
            "Jason      Miller       0   42              4          25,000\n",
            "Molly      Jacobson     1   52             24          94,000\n",
            "Tina       .            2   36             31              57\n",
            "Jake       Milner       3   24              .              62\n",
            "Amy        Cooze        4   73              .              70\n"
          ]
        }
      ]
    },
    {
      "cell_type": "code",
      "source": [
        "# 6. Read the first 3 rows of the dataFrame and print the dataFrame\n",
        "\n",
        "df5=pd.read_csv(\"example.csv\", nrows=3)\n",
        "print(df5)"
      ],
      "metadata": {
        "colab": {
          "base_uri": "https://localhost:8080/"
        },
        "id": "jGNwHrzVOstE",
        "outputId": "ad0d3db4-1c52-4573-8236-a618c29fd1e0"
      },
      "execution_count": 17,
      "outputs": [
        {
          "output_type": "stream",
          "name": "stdout",
          "text": [
            "   Unnamed: 0 first_name last_name  age  preTestScore postTestScore\n",
            "0           0      Jason    Miller   42             4        25,000\n",
            "1           1      Molly  Jacobson   52            24        94,000\n",
            "2           2       Tina         .   36            31            57\n"
          ]
        }
      ]
    },
    {
      "cell_type": "code",
      "source": [
        "# 7. The column 'postTestScore' has \",\" in their values around numbers to represent thousands.Load example.csv file which ignores the default behaviour of comma while reading the 'postTestScore' column\n",
        "\n",
        "df6 = pd.read_csv(\"example.csv\", thousands=\",\")\n",
        "print(df6)"
      ],
      "metadata": {
        "colab": {
          "base_uri": "https://localhost:8080/"
        },
        "id": "EJBYd-jrREm_",
        "outputId": "b56decbd-b072-48f8-e9b8-cde2e2ede846"
      },
      "execution_count": 23,
      "outputs": [
        {
          "output_type": "stream",
          "name": "stdout",
          "text": [
            "   Unnamed: 0 first_name last_name  age preTestScore  postTestScore\n",
            "0           0      Jason    Miller   42            4          25000\n",
            "1           1      Molly  Jacobson   52           24          94000\n",
            "2           2       Tina         .   36           31             57\n",
            "3           3       Jake    Milner   24            .             62\n",
            "4           4        Amy     Cooze   73            .             70\n"
          ]
        }
      ]
    },
    {
      "cell_type": "markdown",
      "source": [
        "##### Question 2:\n",
        "\n",
        "    1) Read diabetes data from a CSV file\n",
        "    2) Print the first 10 rows and last 5 of the dataFrame\n",
        "    3) Display a summary of the data in dataFrame\n",
        "    4) Display summary of only Glucose column\n",
        "    5) Take a sample of the data using first 15 rows\n",
        "    6) Add a new column \"New_Age\" in the dataframe by adding 1 to values in existing \"Age\" column\n",
        "    7) Drop the column \"SkinThickness\" as it is not relevant to our analysis\n",
        "    8) Filter rows where patient's age is greater than or equal to 50 since such patients have high possibility of having diabetes. Use column New_Age. Incorporate another condition for filtering rows as Outcome = 1.\n",
        "    9) Sort values in the dataFrame df4 by \"Glucose\" in descending order"
      ],
      "metadata": {
        "id": "mUjStc3ro44X"
      }
    },
    {
      "cell_type": "code",
      "source": [
        "# Read diabetes data from a CSV file\n",
        "import pandas as pd\n",
        "from google.colab import drive\n",
        "drive.mount(\"/content/drive\")"
      ],
      "metadata": {
        "colab": {
          "base_uri": "https://localhost:8080/"
        },
        "id": "EdmJsjxPRaAM",
        "outputId": "48605a4e-0ff2-4bfe-922c-ed62ce336e92"
      },
      "execution_count": 1,
      "outputs": [
        {
          "output_type": "stream",
          "name": "stdout",
          "text": [
            "Mounted at /content/drive\n"
          ]
        }
      ]
    },
    {
      "cell_type": "code",
      "source": [
        "df = pd.read_csv(r\"/content/drive/MyDrive/PYTHON PROGRAMMING/Colab Notebooks/PANDAS EDA/day_5 - demos_fze_u4o9t31/Day 5 - Demos/diabetes.csv\")\n",
        "print(df)"
      ],
      "metadata": {
        "colab": {
          "base_uri": "https://localhost:8080/"
        },
        "id": "cFoioLImYuXT",
        "outputId": "a4660b3a-1985-456f-a9fd-b45d9aaeb402"
      },
      "execution_count": 4,
      "outputs": [
        {
          "output_type": "stream",
          "name": "stdout",
          "text": [
            "     Pregnancies  Glucose  BloodPressure  SkinThickness  Insulin   BMI  \\\n",
            "0              6      148             72             35    250.0  33.6   \n",
            "1              1       85             66             29    300.0  26.6   \n",
            "2              8      183             64              0      NaN  23.3   \n",
            "3              1       89             66             23     94.0  28.1   \n",
            "4              0      137             40             35    168.0  43.1   \n",
            "..           ...      ...            ...            ...      ...   ...   \n",
            "763           10      101             76             48    180.0  32.9   \n",
            "764            2      122             70             27      0.0  36.8   \n",
            "765            5      121             72             23    112.0  26.2   \n",
            "766            1      126             60              0      0.0  30.1   \n",
            "767            1       93             70             31      0.0  30.4   \n",
            "\n",
            "     DiabetesPedigreeFunction  Age  Outcome  \n",
            "0                       0.627   50        1  \n",
            "1                       0.351   31        0  \n",
            "2                       0.672   32        1  \n",
            "3                       0.167   21        0  \n",
            "4                       2.288   33        1  \n",
            "..                        ...  ...      ...  \n",
            "763                     0.171   63        0  \n",
            "764                     0.340   27        0  \n",
            "765                     0.245   30        0  \n",
            "766                     0.349   47        1  \n",
            "767                     0.315   23        0  \n",
            "\n",
            "[768 rows x 9 columns]\n"
          ]
        }
      ]
    },
    {
      "cell_type": "code",
      "source": [
        "# Print the first 10 rows of the dataFrame\n",
        "print(df.head(10))"
      ],
      "metadata": {
        "colab": {
          "base_uri": "https://localhost:8080/"
        },
        "id": "6QO9Qcd-aal8",
        "outputId": "30011338-bda9-4f06-ff58-0db7d8eaca62"
      },
      "execution_count": 5,
      "outputs": [
        {
          "output_type": "stream",
          "name": "stdout",
          "text": [
            "   Pregnancies  Glucose  BloodPressure  SkinThickness  Insulin   BMI  \\\n",
            "0            6      148             72             35    250.0  33.6   \n",
            "1            1       85             66             29    300.0  26.6   \n",
            "2            8      183             64              0      NaN  23.3   \n",
            "3            1       89             66             23     94.0  28.1   \n",
            "4            0      137             40             35    168.0  43.1   \n",
            "5            5      116             74              0      NaN  25.6   \n",
            "6            3       78             50             32     88.0  31.0   \n",
            "7           10      115              0              0    400.0  35.3   \n",
            "8            2      197             70             45    543.0  30.5   \n",
            "9            8      125             96              0      0.0   0.0   \n",
            "\n",
            "   DiabetesPedigreeFunction  Age  Outcome  \n",
            "0                     0.627   50        1  \n",
            "1                     0.351   31        0  \n",
            "2                     0.672   32        1  \n",
            "3                     0.167   21        0  \n",
            "4                     2.288   33        1  \n",
            "5                     0.201   30        0  \n",
            "6                     0.248   26        1  \n",
            "7                     0.134   29        0  \n",
            "8                     0.158   53        1  \n",
            "9                     0.232   54        1  \n"
          ]
        }
      ]
    },
    {
      "cell_type": "code",
      "source": [
        "# Print the last 5 rows of the dataFrame\n",
        "print(df.tail()))"
      ],
      "metadata": {
        "colab": {
          "base_uri": "https://localhost:8080/",
          "height": 132
        },
        "id": "A7EjT8xoe3mm",
        "outputId": "ee79943b-fc87-4fd6-978d-60f074c59cc0"
      },
      "execution_count": 6,
      "outputs": [
        {
          "output_type": "error",
          "ename": "SyntaxError",
          "evalue": "ignored",
          "traceback": [
            "\u001b[0;36m  File \u001b[0;32m\"<ipython-input-6-14e1884661aa>\"\u001b[0;36m, line \u001b[0;32m2\u001b[0m\n\u001b[0;31m    print(df.tail()))\u001b[0m\n\u001b[0m                    ^\u001b[0m\n\u001b[0;31mSyntaxError\u001b[0m\u001b[0;31m:\u001b[0m invalid syntax\n"
          ]
        }
      ]
    },
    {
      "cell_type": "code",
      "source": [
        "# Display a summary of the data in dataFrame\n",
        "print(df.describe())"
      ],
      "metadata": {
        "colab": {
          "base_uri": "https://localhost:8080/"
        },
        "id": "KOdjI1Izns2Q",
        "outputId": "7f57eafa-8d4e-4e2b-998b-f18992a4f2c8"
      },
      "execution_count": 7,
      "outputs": [
        {
          "output_type": "stream",
          "name": "stdout",
          "text": [
            "       Pregnancies     Glucose  BloodPressure  SkinThickness     Insulin  \\\n",
            "count   768.000000  768.000000     768.000000     768.000000  766.000000   \n",
            "mean      3.845052  120.894531      69.105469      20.536458   81.248042   \n",
            "std       3.369578   31.972618      19.355807      15.952218  116.221576   \n",
            "min       0.000000    0.000000       0.000000       0.000000    0.000000   \n",
            "25%       1.000000   99.000000      62.000000       0.000000    0.000000   \n",
            "50%       3.000000  117.000000      72.000000      23.000000   36.500000   \n",
            "75%       6.000000  140.250000      80.000000      32.000000  130.000000   \n",
            "max      17.000000  199.000000     122.000000      99.000000  846.000000   \n",
            "\n",
            "              BMI  DiabetesPedigreeFunction         Age     Outcome  \n",
            "count  768.000000                768.000000  768.000000  768.000000  \n",
            "mean    31.992578                  0.471876   33.240885    0.348958  \n",
            "std      7.884160                  0.331329   11.760232    0.476951  \n",
            "min      0.000000                  0.078000   21.000000    0.000000  \n",
            "25%     27.300000                  0.243750   24.000000    0.000000  \n",
            "50%     32.000000                  0.372500   29.000000    0.000000  \n",
            "75%     36.600000                  0.626250   41.000000    1.000000  \n",
            "max     67.100000                  2.420000   81.000000    1.000000  \n"
          ]
        }
      ]
    },
    {
      "cell_type": "code",
      "source": [
        "# Display summary of only Glucose column\n",
        "print(df.Glucose.describe())"
      ],
      "metadata": {
        "colab": {
          "base_uri": "https://localhost:8080/"
        },
        "id": "5UxmqDlln5Ye",
        "outputId": "edecb1fc-504d-457c-bfc2-074f95279c24"
      },
      "execution_count": 8,
      "outputs": [
        {
          "output_type": "stream",
          "name": "stdout",
          "text": [
            "count    768.000000\n",
            "mean     120.894531\n",
            "std       31.972618\n",
            "min        0.000000\n",
            "25%       99.000000\n",
            "50%      117.000000\n",
            "75%      140.250000\n",
            "max      199.000000\n",
            "Name: Glucose, dtype: float64\n"
          ]
        }
      ]
    },
    {
      "cell_type": "code",
      "source": [
        "# Take a sample of the data using first 15 rows\n",
        "df2 = df.iloc[:15]\n",
        "print(df2)"
      ],
      "metadata": {
        "colab": {
          "base_uri": "https://localhost:8080/"
        },
        "id": "TR2dGJ6epIYp",
        "outputId": "b7f978a6-d0da-4a8d-c560-9c74c6c50462"
      },
      "execution_count": 10,
      "outputs": [
        {
          "output_type": "stream",
          "name": "stdout",
          "text": [
            "    Pregnancies  Glucose  BloodPressure  SkinThickness  Insulin   BMI  \\\n",
            "0             6      148             72             35    250.0  33.6   \n",
            "1             1       85             66             29    300.0  26.6   \n",
            "2             8      183             64              0      NaN  23.3   \n",
            "3             1       89             66             23     94.0  28.1   \n",
            "4             0      137             40             35    168.0  43.1   \n",
            "5             5      116             74              0      NaN  25.6   \n",
            "6             3       78             50             32     88.0  31.0   \n",
            "7            10      115              0              0    400.0  35.3   \n",
            "8             2      197             70             45    543.0  30.5   \n",
            "9             8      125             96              0      0.0   0.0   \n",
            "10            4      110             92              0      0.0  37.6   \n",
            "11           10      168             74              0      0.0  38.0   \n",
            "12           10      139             80              0      0.0  27.1   \n",
            "13            1      189             60             23    846.0  30.1   \n",
            "14            5      166             72             19    175.0  25.8   \n",
            "\n",
            "    DiabetesPedigreeFunction  Age  Outcome  \n",
            "0                      0.627   50        1  \n",
            "1                      0.351   31        0  \n",
            "2                      0.672   32        1  \n",
            "3                      0.167   21        0  \n",
            "4                      2.288   33        1  \n",
            "5                      0.201   30        0  \n",
            "6                      0.248   26        1  \n",
            "7                      0.134   29        0  \n",
            "8                      0.158   53        1  \n",
            "9                      0.232   54        1  \n",
            "10                     0.191   30        0  \n",
            "11                     0.537   34        1  \n",
            "12                     1.441   57        0  \n",
            "13                     0.398   59        1  \n",
            "14                     0.587   51        1  \n"
          ]
        }
      ]
    },
    {
      "cell_type": "code",
      "source": [
        "# Add a new column \"New_Age\" in the dataframe by adding 1 to values in existing \"Age\" column\n",
        "df2[\"New_Age\"]=df[\"Age\"]+ 1\n",
        "print(df2)"
      ],
      "metadata": {
        "colab": {
          "base_uri": "https://localhost:8080/"
        },
        "id": "ils_J61QoIic",
        "outputId": "1393fe57-7083-48b5-f50c-95b812452ae5"
      },
      "execution_count": 14,
      "outputs": [
        {
          "output_type": "stream",
          "name": "stdout",
          "text": [
            "    Pregnancies  Glucose  BloodPressure  SkinThickness  Insulin   BMI  \\\n",
            "0             6      148             72             35    250.0  33.6   \n",
            "1             1       85             66             29    300.0  26.6   \n",
            "2             8      183             64              0      NaN  23.3   \n",
            "3             1       89             66             23     94.0  28.1   \n",
            "4             0      137             40             35    168.0  43.1   \n",
            "5             5      116             74              0      NaN  25.6   \n",
            "6             3       78             50             32     88.0  31.0   \n",
            "7            10      115              0              0    400.0  35.3   \n",
            "8             2      197             70             45    543.0  30.5   \n",
            "9             8      125             96              0      0.0   0.0   \n",
            "10            4      110             92              0      0.0  37.6   \n",
            "11           10      168             74              0      0.0  38.0   \n",
            "12           10      139             80              0      0.0  27.1   \n",
            "13            1      189             60             23    846.0  30.1   \n",
            "14            5      166             72             19    175.0  25.8   \n",
            "\n",
            "    DiabetesPedigreeFunction  Age  Outcome  New_Age  \n",
            "0                      0.627   50        1       51  \n",
            "1                      0.351   31        0       32  \n",
            "2                      0.672   32        1       33  \n",
            "3                      0.167   21        0       22  \n",
            "4                      2.288   33        1       34  \n",
            "5                      0.201   30        0       31  \n",
            "6                      0.248   26        1       27  \n",
            "7                      0.134   29        0       30  \n",
            "8                      0.158   53        1       54  \n",
            "9                      0.232   54        1       55  \n",
            "10                     0.191   30        0       31  \n",
            "11                     0.537   34        1       35  \n",
            "12                     1.441   57        0       58  \n",
            "13                     0.398   59        1       60  \n",
            "14                     0.587   51        1       52  \n"
          ]
        },
        {
          "output_type": "stream",
          "name": "stderr",
          "text": [
            "/usr/local/lib/python3.7/dist-packages/ipykernel_launcher.py:2: SettingWithCopyWarning: \n",
            "A value is trying to be set on a copy of a slice from a DataFrame.\n",
            "Try using .loc[row_indexer,col_indexer] = value instead\n",
            "\n",
            "See the caveats in the documentation: https://pandas.pydata.org/pandas-docs/stable/user_guide/indexing.html#returning-a-view-versus-a-copy\n",
            "  \n"
          ]
        }
      ]
    },
    {
      "cell_type": "code",
      "source": [
        "# Drop the column \"SkinThickness\" as it is not relevant to our analysis\n",
        "\n",
        "df3 = df2.drop(['SkinThickness'], axis=1)\n",
        "print(df3.head())"
      ],
      "metadata": {
        "colab": {
          "base_uri": "https://localhost:8080/"
        },
        "id": "-swl9358pWTe",
        "outputId": "31f49afa-b983-4812-cedb-70d9d4d58ca3"
      },
      "execution_count": 20,
      "outputs": [
        {
          "output_type": "stream",
          "name": "stdout",
          "text": [
            "   Pregnancies  Glucose  BloodPressure  Insulin   BMI  \\\n",
            "0            6      148             72    250.0  33.6   \n",
            "1            1       85             66    300.0  26.6   \n",
            "2            8      183             64      NaN  23.3   \n",
            "3            1       89             66     94.0  28.1   \n",
            "4            0      137             40    168.0  43.1   \n",
            "\n",
            "   DiabetesPedigreeFunction  Age  Outcome  New_Age  \n",
            "0                     0.627   50        1       51  \n",
            "1                     0.351   31        0       32  \n",
            "2                     0.672   32        1       33  \n",
            "3                     0.167   21        0       22  \n",
            "4                     2.288   33        1       34  \n"
          ]
        }
      ]
    },
    {
      "cell_type": "code",
      "source": [
        "# Filter rows where patient's age is greater than or equal to 50 since such patients have high possibility of having diabetes. \n",
        "# Use column New_Age\n",
        "\n",
        "df3[df3['New_Age']>= 50]"
      ],
      "metadata": {
        "colab": {
          "base_uri": "https://localhost:8080/",
          "height": 238
        },
        "id": "uv6ox13jqb4i",
        "outputId": "6c12a3b0-9427-4e01-d7f8-e30d6e0759c0"
      },
      "execution_count": 23,
      "outputs": [
        {
          "output_type": "execute_result",
          "data": {
            "text/plain": [
              "    Pregnancies  Glucose  BloodPressure  Insulin   BMI  \\\n",
              "0             6      148             72    250.0  33.6   \n",
              "8             2      197             70    543.0  30.5   \n",
              "9             8      125             96      0.0   0.0   \n",
              "12           10      139             80      0.0  27.1   \n",
              "13            1      189             60    846.0  30.1   \n",
              "14            5      166             72    175.0  25.8   \n",
              "\n",
              "    DiabetesPedigreeFunction  Age  Outcome  New_Age  \n",
              "0                      0.627   50        1       51  \n",
              "8                      0.158   53        1       54  \n",
              "9                      0.232   54        1       55  \n",
              "12                     1.441   57        0       58  \n",
              "13                     0.398   59        1       60  \n",
              "14                     0.587   51        1       52  "
            ],
            "text/html": [
              "\n",
              "  <div id=\"df-99fdd956-75a6-4629-9b04-d6ff74bc2377\">\n",
              "    <div class=\"colab-df-container\">\n",
              "      <div>\n",
              "<style scoped>\n",
              "    .dataframe tbody tr th:only-of-type {\n",
              "        vertical-align: middle;\n",
              "    }\n",
              "\n",
              "    .dataframe tbody tr th {\n",
              "        vertical-align: top;\n",
              "    }\n",
              "\n",
              "    .dataframe thead th {\n",
              "        text-align: right;\n",
              "    }\n",
              "</style>\n",
              "<table border=\"1\" class=\"dataframe\">\n",
              "  <thead>\n",
              "    <tr style=\"text-align: right;\">\n",
              "      <th></th>\n",
              "      <th>Pregnancies</th>\n",
              "      <th>Glucose</th>\n",
              "      <th>BloodPressure</th>\n",
              "      <th>Insulin</th>\n",
              "      <th>BMI</th>\n",
              "      <th>DiabetesPedigreeFunction</th>\n",
              "      <th>Age</th>\n",
              "      <th>Outcome</th>\n",
              "      <th>New_Age</th>\n",
              "    </tr>\n",
              "  </thead>\n",
              "  <tbody>\n",
              "    <tr>\n",
              "      <th>0</th>\n",
              "      <td>6</td>\n",
              "      <td>148</td>\n",
              "      <td>72</td>\n",
              "      <td>250.0</td>\n",
              "      <td>33.6</td>\n",
              "      <td>0.627</td>\n",
              "      <td>50</td>\n",
              "      <td>1</td>\n",
              "      <td>51</td>\n",
              "    </tr>\n",
              "    <tr>\n",
              "      <th>8</th>\n",
              "      <td>2</td>\n",
              "      <td>197</td>\n",
              "      <td>70</td>\n",
              "      <td>543.0</td>\n",
              "      <td>30.5</td>\n",
              "      <td>0.158</td>\n",
              "      <td>53</td>\n",
              "      <td>1</td>\n",
              "      <td>54</td>\n",
              "    </tr>\n",
              "    <tr>\n",
              "      <th>9</th>\n",
              "      <td>8</td>\n",
              "      <td>125</td>\n",
              "      <td>96</td>\n",
              "      <td>0.0</td>\n",
              "      <td>0.0</td>\n",
              "      <td>0.232</td>\n",
              "      <td>54</td>\n",
              "      <td>1</td>\n",
              "      <td>55</td>\n",
              "    </tr>\n",
              "    <tr>\n",
              "      <th>12</th>\n",
              "      <td>10</td>\n",
              "      <td>139</td>\n",
              "      <td>80</td>\n",
              "      <td>0.0</td>\n",
              "      <td>27.1</td>\n",
              "      <td>1.441</td>\n",
              "      <td>57</td>\n",
              "      <td>0</td>\n",
              "      <td>58</td>\n",
              "    </tr>\n",
              "    <tr>\n",
              "      <th>13</th>\n",
              "      <td>1</td>\n",
              "      <td>189</td>\n",
              "      <td>60</td>\n",
              "      <td>846.0</td>\n",
              "      <td>30.1</td>\n",
              "      <td>0.398</td>\n",
              "      <td>59</td>\n",
              "      <td>1</td>\n",
              "      <td>60</td>\n",
              "    </tr>\n",
              "    <tr>\n",
              "      <th>14</th>\n",
              "      <td>5</td>\n",
              "      <td>166</td>\n",
              "      <td>72</td>\n",
              "      <td>175.0</td>\n",
              "      <td>25.8</td>\n",
              "      <td>0.587</td>\n",
              "      <td>51</td>\n",
              "      <td>1</td>\n",
              "      <td>52</td>\n",
              "    </tr>\n",
              "  </tbody>\n",
              "</table>\n",
              "</div>\n",
              "      <button class=\"colab-df-convert\" onclick=\"convertToInteractive('df-99fdd956-75a6-4629-9b04-d6ff74bc2377')\"\n",
              "              title=\"Convert this dataframe to an interactive table.\"\n",
              "              style=\"display:none;\">\n",
              "        \n",
              "  <svg xmlns=\"http://www.w3.org/2000/svg\" height=\"24px\"viewBox=\"0 0 24 24\"\n",
              "       width=\"24px\">\n",
              "    <path d=\"M0 0h24v24H0V0z\" fill=\"none\"/>\n",
              "    <path d=\"M18.56 5.44l.94 2.06.94-2.06 2.06-.94-2.06-.94-.94-2.06-.94 2.06-2.06.94zm-11 1L8.5 8.5l.94-2.06 2.06-.94-2.06-.94L8.5 2.5l-.94 2.06-2.06.94zm10 10l.94 2.06.94-2.06 2.06-.94-2.06-.94-.94-2.06-.94 2.06-2.06.94z\"/><path d=\"M17.41 7.96l-1.37-1.37c-.4-.4-.92-.59-1.43-.59-.52 0-1.04.2-1.43.59L10.3 9.45l-7.72 7.72c-.78.78-.78 2.05 0 2.83L4 21.41c.39.39.9.59 1.41.59.51 0 1.02-.2 1.41-.59l7.78-7.78 2.81-2.81c.8-.78.8-2.07 0-2.86zM5.41 20L4 18.59l7.72-7.72 1.47 1.35L5.41 20z\"/>\n",
              "  </svg>\n",
              "      </button>\n",
              "      \n",
              "  <style>\n",
              "    .colab-df-container {\n",
              "      display:flex;\n",
              "      flex-wrap:wrap;\n",
              "      gap: 12px;\n",
              "    }\n",
              "\n",
              "    .colab-df-convert {\n",
              "      background-color: #E8F0FE;\n",
              "      border: none;\n",
              "      border-radius: 50%;\n",
              "      cursor: pointer;\n",
              "      display: none;\n",
              "      fill: #1967D2;\n",
              "      height: 32px;\n",
              "      padding: 0 0 0 0;\n",
              "      width: 32px;\n",
              "    }\n",
              "\n",
              "    .colab-df-convert:hover {\n",
              "      background-color: #E2EBFA;\n",
              "      box-shadow: 0px 1px 2px rgba(60, 64, 67, 0.3), 0px 1px 3px 1px rgba(60, 64, 67, 0.15);\n",
              "      fill: #174EA6;\n",
              "    }\n",
              "\n",
              "    [theme=dark] .colab-df-convert {\n",
              "      background-color: #3B4455;\n",
              "      fill: #D2E3FC;\n",
              "    }\n",
              "\n",
              "    [theme=dark] .colab-df-convert:hover {\n",
              "      background-color: #434B5C;\n",
              "      box-shadow: 0px 1px 3px 1px rgba(0, 0, 0, 0.15);\n",
              "      filter: drop-shadow(0px 1px 2px rgba(0, 0, 0, 0.3));\n",
              "      fill: #FFFFFF;\n",
              "    }\n",
              "  </style>\n",
              "\n",
              "      <script>\n",
              "        const buttonEl =\n",
              "          document.querySelector('#df-99fdd956-75a6-4629-9b04-d6ff74bc2377 button.colab-df-convert');\n",
              "        buttonEl.style.display =\n",
              "          google.colab.kernel.accessAllowed ? 'block' : 'none';\n",
              "\n",
              "        async function convertToInteractive(key) {\n",
              "          const element = document.querySelector('#df-99fdd956-75a6-4629-9b04-d6ff74bc2377');\n",
              "          const dataTable =\n",
              "            await google.colab.kernel.invokeFunction('convertToInteractive',\n",
              "                                                     [key], {});\n",
              "          if (!dataTable) return;\n",
              "\n",
              "          const docLinkHtml = 'Like what you see? Visit the ' +\n",
              "            '<a target=\"_blank\" href=https://colab.research.google.com/notebooks/data_table.ipynb>data table notebook</a>'\n",
              "            + ' to learn more about interactive tables.';\n",
              "          element.innerHTML = '';\n",
              "          dataTable['output_type'] = 'display_data';\n",
              "          await google.colab.output.renderOutput(dataTable, element);\n",
              "          const docLink = document.createElement('div');\n",
              "          docLink.innerHTML = docLinkHtml;\n",
              "          element.appendChild(docLink);\n",
              "        }\n",
              "      </script>\n",
              "    </div>\n",
              "  </div>\n",
              "  "
            ]
          },
          "metadata": {},
          "execution_count": 23
        }
      ]
    },
    {
      "cell_type": "code",
      "source": [
        "# Incorporate another condition for filtering rows as Outcome is '1'\n",
        "\n",
        "df4 = df3[(df3['New_Age']>=50) & (df3['Outcome'] == 1)]\n",
        "print(df4)"
      ],
      "metadata": {
        "colab": {
          "base_uri": "https://localhost:8080/"
        },
        "id": "p0ZuQvHSrXkd",
        "outputId": "8bc00772-63e4-44cd-bfc2-60a295e402d3"
      },
      "execution_count": 24,
      "outputs": [
        {
          "output_type": "stream",
          "name": "stdout",
          "text": [
            "    Pregnancies  Glucose  BloodPressure  Insulin   BMI  \\\n",
            "0             6      148             72    250.0  33.6   \n",
            "8             2      197             70    543.0  30.5   \n",
            "9             8      125             96      0.0   0.0   \n",
            "13            1      189             60    846.0  30.1   \n",
            "14            5      166             72    175.0  25.8   \n",
            "\n",
            "    DiabetesPedigreeFunction  Age  Outcome  New_Age  \n",
            "0                      0.627   50        1       51  \n",
            "8                      0.158   53        1       54  \n",
            "9                      0.232   54        1       55  \n",
            "13                     0.398   59        1       60  \n",
            "14                     0.587   51        1       52  \n"
          ]
        }
      ]
    },
    {
      "cell_type": "code",
      "source": [
        "# Sort values in the dataFrame df4 by \"Glucose\" in descending order\n",
        "\n",
        "df4.sort_values(by=['Glucose'] , ascending = False)"
      ],
      "metadata": {
        "colab": {
          "base_uri": "https://localhost:8080/",
          "height": 206
        },
        "id": "hd2WezF-stcb",
        "outputId": "8efe2c2d-1b5b-4217-bde1-a977afefe265"
      },
      "execution_count": 25,
      "outputs": [
        {
          "output_type": "execute_result",
          "data": {
            "text/plain": [
              "    Pregnancies  Glucose  BloodPressure  Insulin   BMI  \\\n",
              "8             2      197             70    543.0  30.5   \n",
              "13            1      189             60    846.0  30.1   \n",
              "14            5      166             72    175.0  25.8   \n",
              "0             6      148             72    250.0  33.6   \n",
              "9             8      125             96      0.0   0.0   \n",
              "\n",
              "    DiabetesPedigreeFunction  Age  Outcome  New_Age  \n",
              "8                      0.158   53        1       54  \n",
              "13                     0.398   59        1       60  \n",
              "14                     0.587   51        1       52  \n",
              "0                      0.627   50        1       51  \n",
              "9                      0.232   54        1       55  "
            ],
            "text/html": [
              "\n",
              "  <div id=\"df-cac8d760-4204-48b9-8703-cf0d117443e8\">\n",
              "    <div class=\"colab-df-container\">\n",
              "      <div>\n",
              "<style scoped>\n",
              "    .dataframe tbody tr th:only-of-type {\n",
              "        vertical-align: middle;\n",
              "    }\n",
              "\n",
              "    .dataframe tbody tr th {\n",
              "        vertical-align: top;\n",
              "    }\n",
              "\n",
              "    .dataframe thead th {\n",
              "        text-align: right;\n",
              "    }\n",
              "</style>\n",
              "<table border=\"1\" class=\"dataframe\">\n",
              "  <thead>\n",
              "    <tr style=\"text-align: right;\">\n",
              "      <th></th>\n",
              "      <th>Pregnancies</th>\n",
              "      <th>Glucose</th>\n",
              "      <th>BloodPressure</th>\n",
              "      <th>Insulin</th>\n",
              "      <th>BMI</th>\n",
              "      <th>DiabetesPedigreeFunction</th>\n",
              "      <th>Age</th>\n",
              "      <th>Outcome</th>\n",
              "      <th>New_Age</th>\n",
              "    </tr>\n",
              "  </thead>\n",
              "  <tbody>\n",
              "    <tr>\n",
              "      <th>8</th>\n",
              "      <td>2</td>\n",
              "      <td>197</td>\n",
              "      <td>70</td>\n",
              "      <td>543.0</td>\n",
              "      <td>30.5</td>\n",
              "      <td>0.158</td>\n",
              "      <td>53</td>\n",
              "      <td>1</td>\n",
              "      <td>54</td>\n",
              "    </tr>\n",
              "    <tr>\n",
              "      <th>13</th>\n",
              "      <td>1</td>\n",
              "      <td>189</td>\n",
              "      <td>60</td>\n",
              "      <td>846.0</td>\n",
              "      <td>30.1</td>\n",
              "      <td>0.398</td>\n",
              "      <td>59</td>\n",
              "      <td>1</td>\n",
              "      <td>60</td>\n",
              "    </tr>\n",
              "    <tr>\n",
              "      <th>14</th>\n",
              "      <td>5</td>\n",
              "      <td>166</td>\n",
              "      <td>72</td>\n",
              "      <td>175.0</td>\n",
              "      <td>25.8</td>\n",
              "      <td>0.587</td>\n",
              "      <td>51</td>\n",
              "      <td>1</td>\n",
              "      <td>52</td>\n",
              "    </tr>\n",
              "    <tr>\n",
              "      <th>0</th>\n",
              "      <td>6</td>\n",
              "      <td>148</td>\n",
              "      <td>72</td>\n",
              "      <td>250.0</td>\n",
              "      <td>33.6</td>\n",
              "      <td>0.627</td>\n",
              "      <td>50</td>\n",
              "      <td>1</td>\n",
              "      <td>51</td>\n",
              "    </tr>\n",
              "    <tr>\n",
              "      <th>9</th>\n",
              "      <td>8</td>\n",
              "      <td>125</td>\n",
              "      <td>96</td>\n",
              "      <td>0.0</td>\n",
              "      <td>0.0</td>\n",
              "      <td>0.232</td>\n",
              "      <td>54</td>\n",
              "      <td>1</td>\n",
              "      <td>55</td>\n",
              "    </tr>\n",
              "  </tbody>\n",
              "</table>\n",
              "</div>\n",
              "      <button class=\"colab-df-convert\" onclick=\"convertToInteractive('df-cac8d760-4204-48b9-8703-cf0d117443e8')\"\n",
              "              title=\"Convert this dataframe to an interactive table.\"\n",
              "              style=\"display:none;\">\n",
              "        \n",
              "  <svg xmlns=\"http://www.w3.org/2000/svg\" height=\"24px\"viewBox=\"0 0 24 24\"\n",
              "       width=\"24px\">\n",
              "    <path d=\"M0 0h24v24H0V0z\" fill=\"none\"/>\n",
              "    <path d=\"M18.56 5.44l.94 2.06.94-2.06 2.06-.94-2.06-.94-.94-2.06-.94 2.06-2.06.94zm-11 1L8.5 8.5l.94-2.06 2.06-.94-2.06-.94L8.5 2.5l-.94 2.06-2.06.94zm10 10l.94 2.06.94-2.06 2.06-.94-2.06-.94-.94-2.06-.94 2.06-2.06.94z\"/><path d=\"M17.41 7.96l-1.37-1.37c-.4-.4-.92-.59-1.43-.59-.52 0-1.04.2-1.43.59L10.3 9.45l-7.72 7.72c-.78.78-.78 2.05 0 2.83L4 21.41c.39.39.9.59 1.41.59.51 0 1.02-.2 1.41-.59l7.78-7.78 2.81-2.81c.8-.78.8-2.07 0-2.86zM5.41 20L4 18.59l7.72-7.72 1.47 1.35L5.41 20z\"/>\n",
              "  </svg>\n",
              "      </button>\n",
              "      \n",
              "  <style>\n",
              "    .colab-df-container {\n",
              "      display:flex;\n",
              "      flex-wrap:wrap;\n",
              "      gap: 12px;\n",
              "    }\n",
              "\n",
              "    .colab-df-convert {\n",
              "      background-color: #E8F0FE;\n",
              "      border: none;\n",
              "      border-radius: 50%;\n",
              "      cursor: pointer;\n",
              "      display: none;\n",
              "      fill: #1967D2;\n",
              "      height: 32px;\n",
              "      padding: 0 0 0 0;\n",
              "      width: 32px;\n",
              "    }\n",
              "\n",
              "    .colab-df-convert:hover {\n",
              "      background-color: #E2EBFA;\n",
              "      box-shadow: 0px 1px 2px rgba(60, 64, 67, 0.3), 0px 1px 3px 1px rgba(60, 64, 67, 0.15);\n",
              "      fill: #174EA6;\n",
              "    }\n",
              "\n",
              "    [theme=dark] .colab-df-convert {\n",
              "      background-color: #3B4455;\n",
              "      fill: #D2E3FC;\n",
              "    }\n",
              "\n",
              "    [theme=dark] .colab-df-convert:hover {\n",
              "      background-color: #434B5C;\n",
              "      box-shadow: 0px 1px 3px 1px rgba(0, 0, 0, 0.15);\n",
              "      filter: drop-shadow(0px 1px 2px rgba(0, 0, 0, 0.3));\n",
              "      fill: #FFFFFF;\n",
              "    }\n",
              "  </style>\n",
              "\n",
              "      <script>\n",
              "        const buttonEl =\n",
              "          document.querySelector('#df-cac8d760-4204-48b9-8703-cf0d117443e8 button.colab-df-convert');\n",
              "        buttonEl.style.display =\n",
              "          google.colab.kernel.accessAllowed ? 'block' : 'none';\n",
              "\n",
              "        async function convertToInteractive(key) {\n",
              "          const element = document.querySelector('#df-cac8d760-4204-48b9-8703-cf0d117443e8');\n",
              "          const dataTable =\n",
              "            await google.colab.kernel.invokeFunction('convertToInteractive',\n",
              "                                                     [key], {});\n",
              "          if (!dataTable) return;\n",
              "\n",
              "          const docLinkHtml = 'Like what you see? Visit the ' +\n",
              "            '<a target=\"_blank\" href=https://colab.research.google.com/notebooks/data_table.ipynb>data table notebook</a>'\n",
              "            + ' to learn more about interactive tables.';\n",
              "          element.innerHTML = '';\n",
              "          dataTable['output_type'] = 'display_data';\n",
              "          await google.colab.output.renderOutput(dataTable, element);\n",
              "          const docLink = document.createElement('div');\n",
              "          docLink.innerHTML = docLinkHtml;\n",
              "          element.appendChild(docLink);\n",
              "        }\n",
              "      </script>\n",
              "    </div>\n",
              "  </div>\n",
              "  "
            ]
          },
          "metadata": {},
          "execution_count": 25
        }
      ]
    },
    {
      "cell_type": "markdown",
      "source": [
        "Conclusion: This code demonstrates how to create dataFrames in pandas and use various functionality of dataFrames"
      ],
      "metadata": {
        "id": "Oo-nCNOftNGi"
      }
    }
  ]
}