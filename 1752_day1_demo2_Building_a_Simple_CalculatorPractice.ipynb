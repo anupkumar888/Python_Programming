{
  "nbformat": 4,
  "nbformat_minor": 0,
  "metadata": {
    "colab": {
      "provenance": [],
      "collapsed_sections": [],
      "authorship_tag": "ABX9TyNRm2x1Zs5Kh0t1n1yHjmRO",
      "include_colab_link": true
    },
    "kernelspec": {
      "name": "python3",
      "display_name": "Python 3"
    },
    "language_info": {
      "name": "python"
    }
  },
  "cells": [
    {
      "cell_type": "markdown",
      "metadata": {
        "id": "view-in-github",
        "colab_type": "text"
      },
      "source": [
        "<a href=\"https://colab.research.google.com/github/anupkumar888/Python_Programming/blob/main/1752_day1_demo2_Building_a_Simple_CalculatorPractice.ipynb\" target=\"_parent\"><img src=\"https://colab.research.google.com/assets/colab-badge.svg\" alt=\"Open In Colab\"/></a>"
      ]
    },
    {
      "cell_type": "markdown",
      "metadata": {
        "id": "_rYP6CA3fwRE"
      },
      "source": [
        "#Python Basics\n",
        "\n",
        "###Demo 2: Building a Simple Calculator"
      ]
    },
    {
      "cell_type": "code",
      "source": [
        "num1=int(input(\"enter the value of num1\"))\n",
        "num2=int(input(\"nmter the value of num2\"))\n",
        "sum= num1 + num2\n",
        "diff = num1-num2\n",
        "mult= num1*num2\n",
        "div= num1/num2\n",
        "mod= num1%num2\n",
        "mean=(num1+num2)/2\n",
        "print(\"Sum of {0} and {1} is {2}\".format(num1, num2,sum))\n",
        "print(\"Diff of {0} and {1} is {2}\".format(num1,num2,diff))\n",
        "print(\"Mult of {0} and {1} is {2}\".format(num1, num2,mult))\n",
        "print(\"Div of {0} and {1} is {2}\".format(num1, num2,div))\n",
        "print(\"Mod of {0} and {1} is {2}\".format(num1, num2,mod))\n",
        "print(\"Mean of {0} and {1} is {2}\".format(num1, num2,mean))"
      ],
      "metadata": {
        "colab": {
          "base_uri": "https://localhost:8080/"
        },
        "id": "_BO9enINETaA",
        "outputId": "c02c46c8-6bfa-49ac-c528-c9ccf3e2981e"
      },
      "execution_count": 10,
      "outputs": [
        {
          "output_type": "stream",
          "name": "stdout",
          "text": [
            "enter the value of num1100\n",
            "nmter the value of num2200\n",
            "Sum of 100 and 200 is 300\n",
            "Diff of 100 and 200 is -100\n",
            "Mult of 100 and 200 is 20000\n",
            "Div of 100 and 200 is 0.5\n",
            "Mod of 100 and 200 is 100\n",
            "Mean of 100 and 200 is 150.0\n"
          ]
        }
      ]
    }
  ]
}