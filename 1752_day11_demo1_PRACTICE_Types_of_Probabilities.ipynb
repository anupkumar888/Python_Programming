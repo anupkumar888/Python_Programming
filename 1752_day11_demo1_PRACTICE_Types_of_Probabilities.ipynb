{
  "nbformat": 4,
  "nbformat_minor": 0,
  "metadata": {
    "colab": {
      "provenance": [],
      "mount_file_id": "1uJ0M203B3epmi8bw_eBmF7tDfYIvGvk1",
      "authorship_tag": "ABX9TyPn+1XvDenw1SZrkGhMbdN2",
      "include_colab_link": true
    },
    "kernelspec": {
      "name": "python3",
      "display_name": "Python 3"
    },
    "language_info": {
      "name": "python"
    }
  },
  "cells": [
    {
      "cell_type": "markdown",
      "metadata": {
        "id": "view-in-github",
        "colab_type": "text"
      },
      "source": [
        "<a href=\"https://colab.research.google.com/github/anupkumar888/Python_Programming/blob/Python-programming/1752_day11_demo1_PRACTICE_Types_of_Probabilities.ipynb\" target=\"_parent\"><img src=\"https://colab.research.google.com/assets/colab-badge.svg\" alt=\"Open In Colab\"/></a>"
      ]
    },
    {
      "cell_type": "markdown",
      "metadata": {
        "id": "6n8yyZaYSmW_"
      },
      "source": [
        "#Probability\n",
        "\n",
        "## Demo 1: Types of Probabilities"
      ]
    },
    {
      "cell_type": "markdown",
      "source": [
        "In this demo, you will be shown how to implement types of probability"
      ],
      "metadata": {
        "id": "szZWBol9ToQ-"
      }
    },
    {
      "cell_type": "markdown",
      "source": [
        "Step 1: Import libraries"
      ],
      "metadata": {
        "id": "Trev4H3LTyAi"
      }
    },
    {
      "cell_type": "code",
      "source": [
        "import pandas as pd\n",
        "import numpy as np"
      ],
      "metadata": {
        "id": "HE3mPNDPTy-_"
      },
      "execution_count": 1,
      "outputs": []
    },
    {
      "cell_type": "markdown",
      "metadata": {
        "id": "PLvK36faSmXM"
      },
      "source": [
        "#### Step 2: Read marveldata.csv file and print top five rows from the dataset"
      ]
    },
    {
      "cell_type": "code",
      "source": [
        "df =pd.read_csv(r\"/content/drive/MyDrive/PYTHON PROGRAMMING/Colab Notebooks/Statatistics/Day 11 - Demos/marveldata.csv\")\n",
        "df.head(10)"
      ],
      "metadata": {
        "colab": {
          "base_uri": "https://localhost:8080/",
          "height": 772
        },
        "id": "g2I6sKG0UIrF",
        "outputId": "5f408f1c-284a-4f46-83f6-44d6199fb931"
      },
      "execution_count": 2,
      "outputs": [
        {
          "output_type": "execute_result",
          "data": {
            "text/plain": [
              "   page_id                                 name  \\\n",
              "0     1678            Spider-Man (Peter Parker)   \n",
              "1     7139      Captain America (Steven Rogers)   \n",
              "2    64786  Wolverine (James \\\"Logan\\\" Howlett)   \n",
              "3     1868    Iron Man (Anthony \\\"Tony\\\" Stark)   \n",
              "4     2460                  Thor (Thor Odinson)   \n",
              "5     2458           Benjamin Grimm (Earth-616)   \n",
              "6     2166            Reed Richards (Earth-616)   \n",
              "7     1833           Hulk (Robert Bruce Banner)   \n",
              "8    29481            Scott Summers (Earth-616)   \n",
              "9     1837           Jonathan Storm (Earth-616)   \n",
              "\n",
              "                                   urlslug                ID  \\\n",
              "0              \\/Spider-Man_(Peter_Parker)   Secret Identity   \n",
              "1        \\/Captain_America_(Steven_Rogers)   Public Identity   \n",
              "2  \\/Wolverine_(James_%22Logan%22_Howlett)   Public Identity   \n",
              "3    \\/Iron_Man_(Anthony_%22Tony%22_Stark)   Public Identity   \n",
              "4                    \\/Thor_(Thor_Odinson)  No Dual Identity   \n",
              "5             \\/Benjamin_Grimm_(Earth-616)   Public Identity   \n",
              "6              \\/Reed_Richards_(Earth-616)   Public Identity   \n",
              "7             \\/Hulk_(Robert_Bruce_Banner)   Public Identity   \n",
              "8              \\/Scott_Summers_(Earth-616)   Public Identity   \n",
              "9             \\/Jonathan_Storm_(Earth-616)   Public Identity   \n",
              "\n",
              "                ALIGN         EYE        HAIR              SEX  GSM  \\\n",
              "0     Good Characters  Hazel Eyes  Brown Hair  Male Characters  NaN   \n",
              "1     Good Characters   Blue Eyes  White Hair  Male Characters  NaN   \n",
              "2  Neutral Characters   Blue Eyes  Black Hair  Male Characters  NaN   \n",
              "3     Good Characters   Blue Eyes  Black Hair  Male Characters  NaN   \n",
              "4     Good Characters   Blue Eyes  Blond Hair  Male Characters  NaN   \n",
              "5     Good Characters   Blue Eyes     No Hair  Male Characters  NaN   \n",
              "6     Good Characters  Brown Eyes  Brown Hair  Male Characters  NaN   \n",
              "7     Good Characters  Brown Eyes  Brown Hair  Male Characters  NaN   \n",
              "8  Neutral Characters  Brown Eyes  Brown Hair  Male Characters  NaN   \n",
              "9     Good Characters   Blue Eyes  Blond Hair  Male Characters  NaN   \n",
              "\n",
              "               ALIVE  APPEARANCES FIRST APPEARANCE    Year  \n",
              "0  Living Characters       4043.0           Aug-62  1962.0  \n",
              "1  Living Characters       3360.0           Mar-41  1941.0  \n",
              "2  Living Characters       3061.0           Oct-74  1974.0  \n",
              "3  Living Characters       2961.0           Mar-63  1963.0  \n",
              "4  Living Characters       2258.0           Nov-50  1950.0  \n",
              "5  Living Characters       2255.0           Nov-61  1961.0  \n",
              "6  Living Characters       2072.0           Nov-61  1961.0  \n",
              "7  Living Characters       2017.0           May-62  1962.0  \n",
              "8  Living Characters       1955.0           Sep-63  1963.0  \n",
              "9  Living Characters       1934.0           Nov-61  1961.0  "
            ],
            "text/html": [
              "\n",
              "  <div id=\"df-9c901d4d-e423-4538-9953-ce4b53edffc7\">\n",
              "    <div class=\"colab-df-container\">\n",
              "      <div>\n",
              "<style scoped>\n",
              "    .dataframe tbody tr th:only-of-type {\n",
              "        vertical-align: middle;\n",
              "    }\n",
              "\n",
              "    .dataframe tbody tr th {\n",
              "        vertical-align: top;\n",
              "    }\n",
              "\n",
              "    .dataframe thead th {\n",
              "        text-align: right;\n",
              "    }\n",
              "</style>\n",
              "<table border=\"1\" class=\"dataframe\">\n",
              "  <thead>\n",
              "    <tr style=\"text-align: right;\">\n",
              "      <th></th>\n",
              "      <th>page_id</th>\n",
              "      <th>name</th>\n",
              "      <th>urlslug</th>\n",
              "      <th>ID</th>\n",
              "      <th>ALIGN</th>\n",
              "      <th>EYE</th>\n",
              "      <th>HAIR</th>\n",
              "      <th>SEX</th>\n",
              "      <th>GSM</th>\n",
              "      <th>ALIVE</th>\n",
              "      <th>APPEARANCES</th>\n",
              "      <th>FIRST APPEARANCE</th>\n",
              "      <th>Year</th>\n",
              "    </tr>\n",
              "  </thead>\n",
              "  <tbody>\n",
              "    <tr>\n",
              "      <th>0</th>\n",
              "      <td>1678</td>\n",
              "      <td>Spider-Man (Peter Parker)</td>\n",
              "      <td>\\/Spider-Man_(Peter_Parker)</td>\n",
              "      <td>Secret Identity</td>\n",
              "      <td>Good Characters</td>\n",
              "      <td>Hazel Eyes</td>\n",
              "      <td>Brown Hair</td>\n",
              "      <td>Male Characters</td>\n",
              "      <td>NaN</td>\n",
              "      <td>Living Characters</td>\n",
              "      <td>4043.0</td>\n",
              "      <td>Aug-62</td>\n",
              "      <td>1962.0</td>\n",
              "    </tr>\n",
              "    <tr>\n",
              "      <th>1</th>\n",
              "      <td>7139</td>\n",
              "      <td>Captain America (Steven Rogers)</td>\n",
              "      <td>\\/Captain_America_(Steven_Rogers)</td>\n",
              "      <td>Public Identity</td>\n",
              "      <td>Good Characters</td>\n",
              "      <td>Blue Eyes</td>\n",
              "      <td>White Hair</td>\n",
              "      <td>Male Characters</td>\n",
              "      <td>NaN</td>\n",
              "      <td>Living Characters</td>\n",
              "      <td>3360.0</td>\n",
              "      <td>Mar-41</td>\n",
              "      <td>1941.0</td>\n",
              "    </tr>\n",
              "    <tr>\n",
              "      <th>2</th>\n",
              "      <td>64786</td>\n",
              "      <td>Wolverine (James \\\"Logan\\\" Howlett)</td>\n",
              "      <td>\\/Wolverine_(James_%22Logan%22_Howlett)</td>\n",
              "      <td>Public Identity</td>\n",
              "      <td>Neutral Characters</td>\n",
              "      <td>Blue Eyes</td>\n",
              "      <td>Black Hair</td>\n",
              "      <td>Male Characters</td>\n",
              "      <td>NaN</td>\n",
              "      <td>Living Characters</td>\n",
              "      <td>3061.0</td>\n",
              "      <td>Oct-74</td>\n",
              "      <td>1974.0</td>\n",
              "    </tr>\n",
              "    <tr>\n",
              "      <th>3</th>\n",
              "      <td>1868</td>\n",
              "      <td>Iron Man (Anthony \\\"Tony\\\" Stark)</td>\n",
              "      <td>\\/Iron_Man_(Anthony_%22Tony%22_Stark)</td>\n",
              "      <td>Public Identity</td>\n",
              "      <td>Good Characters</td>\n",
              "      <td>Blue Eyes</td>\n",
              "      <td>Black Hair</td>\n",
              "      <td>Male Characters</td>\n",
              "      <td>NaN</td>\n",
              "      <td>Living Characters</td>\n",
              "      <td>2961.0</td>\n",
              "      <td>Mar-63</td>\n",
              "      <td>1963.0</td>\n",
              "    </tr>\n",
              "    <tr>\n",
              "      <th>4</th>\n",
              "      <td>2460</td>\n",
              "      <td>Thor (Thor Odinson)</td>\n",
              "      <td>\\/Thor_(Thor_Odinson)</td>\n",
              "      <td>No Dual Identity</td>\n",
              "      <td>Good Characters</td>\n",
              "      <td>Blue Eyes</td>\n",
              "      <td>Blond Hair</td>\n",
              "      <td>Male Characters</td>\n",
              "      <td>NaN</td>\n",
              "      <td>Living Characters</td>\n",
              "      <td>2258.0</td>\n",
              "      <td>Nov-50</td>\n",
              "      <td>1950.0</td>\n",
              "    </tr>\n",
              "    <tr>\n",
              "      <th>5</th>\n",
              "      <td>2458</td>\n",
              "      <td>Benjamin Grimm (Earth-616)</td>\n",
              "      <td>\\/Benjamin_Grimm_(Earth-616)</td>\n",
              "      <td>Public Identity</td>\n",
              "      <td>Good Characters</td>\n",
              "      <td>Blue Eyes</td>\n",
              "      <td>No Hair</td>\n",
              "      <td>Male Characters</td>\n",
              "      <td>NaN</td>\n",
              "      <td>Living Characters</td>\n",
              "      <td>2255.0</td>\n",
              "      <td>Nov-61</td>\n",
              "      <td>1961.0</td>\n",
              "    </tr>\n",
              "    <tr>\n",
              "      <th>6</th>\n",
              "      <td>2166</td>\n",
              "      <td>Reed Richards (Earth-616)</td>\n",
              "      <td>\\/Reed_Richards_(Earth-616)</td>\n",
              "      <td>Public Identity</td>\n",
              "      <td>Good Characters</td>\n",
              "      <td>Brown Eyes</td>\n",
              "      <td>Brown Hair</td>\n",
              "      <td>Male Characters</td>\n",
              "      <td>NaN</td>\n",
              "      <td>Living Characters</td>\n",
              "      <td>2072.0</td>\n",
              "      <td>Nov-61</td>\n",
              "      <td>1961.0</td>\n",
              "    </tr>\n",
              "    <tr>\n",
              "      <th>7</th>\n",
              "      <td>1833</td>\n",
              "      <td>Hulk (Robert Bruce Banner)</td>\n",
              "      <td>\\/Hulk_(Robert_Bruce_Banner)</td>\n",
              "      <td>Public Identity</td>\n",
              "      <td>Good Characters</td>\n",
              "      <td>Brown Eyes</td>\n",
              "      <td>Brown Hair</td>\n",
              "      <td>Male Characters</td>\n",
              "      <td>NaN</td>\n",
              "      <td>Living Characters</td>\n",
              "      <td>2017.0</td>\n",
              "      <td>May-62</td>\n",
              "      <td>1962.0</td>\n",
              "    </tr>\n",
              "    <tr>\n",
              "      <th>8</th>\n",
              "      <td>29481</td>\n",
              "      <td>Scott Summers (Earth-616)</td>\n",
              "      <td>\\/Scott_Summers_(Earth-616)</td>\n",
              "      <td>Public Identity</td>\n",
              "      <td>Neutral Characters</td>\n",
              "      <td>Brown Eyes</td>\n",
              "      <td>Brown Hair</td>\n",
              "      <td>Male Characters</td>\n",
              "      <td>NaN</td>\n",
              "      <td>Living Characters</td>\n",
              "      <td>1955.0</td>\n",
              "      <td>Sep-63</td>\n",
              "      <td>1963.0</td>\n",
              "    </tr>\n",
              "    <tr>\n",
              "      <th>9</th>\n",
              "      <td>1837</td>\n",
              "      <td>Jonathan Storm (Earth-616)</td>\n",
              "      <td>\\/Jonathan_Storm_(Earth-616)</td>\n",
              "      <td>Public Identity</td>\n",
              "      <td>Good Characters</td>\n",
              "      <td>Blue Eyes</td>\n",
              "      <td>Blond Hair</td>\n",
              "      <td>Male Characters</td>\n",
              "      <td>NaN</td>\n",
              "      <td>Living Characters</td>\n",
              "      <td>1934.0</td>\n",
              "      <td>Nov-61</td>\n",
              "      <td>1961.0</td>\n",
              "    </tr>\n",
              "  </tbody>\n",
              "</table>\n",
              "</div>\n",
              "      <button class=\"colab-df-convert\" onclick=\"convertToInteractive('df-9c901d4d-e423-4538-9953-ce4b53edffc7')\"\n",
              "              title=\"Convert this dataframe to an interactive table.\"\n",
              "              style=\"display:none;\">\n",
              "        \n",
              "  <svg xmlns=\"http://www.w3.org/2000/svg\" height=\"24px\"viewBox=\"0 0 24 24\"\n",
              "       width=\"24px\">\n",
              "    <path d=\"M0 0h24v24H0V0z\" fill=\"none\"/>\n",
              "    <path d=\"M18.56 5.44l.94 2.06.94-2.06 2.06-.94-2.06-.94-.94-2.06-.94 2.06-2.06.94zm-11 1L8.5 8.5l.94-2.06 2.06-.94-2.06-.94L8.5 2.5l-.94 2.06-2.06.94zm10 10l.94 2.06.94-2.06 2.06-.94-2.06-.94-.94-2.06-.94 2.06-2.06.94z\"/><path d=\"M17.41 7.96l-1.37-1.37c-.4-.4-.92-.59-1.43-.59-.52 0-1.04.2-1.43.59L10.3 9.45l-7.72 7.72c-.78.78-.78 2.05 0 2.83L4 21.41c.39.39.9.59 1.41.59.51 0 1.02-.2 1.41-.59l7.78-7.78 2.81-2.81c.8-.78.8-2.07 0-2.86zM5.41 20L4 18.59l7.72-7.72 1.47 1.35L5.41 20z\"/>\n",
              "  </svg>\n",
              "      </button>\n",
              "      \n",
              "  <style>\n",
              "    .colab-df-container {\n",
              "      display:flex;\n",
              "      flex-wrap:wrap;\n",
              "      gap: 12px;\n",
              "    }\n",
              "\n",
              "    .colab-df-convert {\n",
              "      background-color: #E8F0FE;\n",
              "      border: none;\n",
              "      border-radius: 50%;\n",
              "      cursor: pointer;\n",
              "      display: none;\n",
              "      fill: #1967D2;\n",
              "      height: 32px;\n",
              "      padding: 0 0 0 0;\n",
              "      width: 32px;\n",
              "    }\n",
              "\n",
              "    .colab-df-convert:hover {\n",
              "      background-color: #E2EBFA;\n",
              "      box-shadow: 0px 1px 2px rgba(60, 64, 67, 0.3), 0px 1px 3px 1px rgba(60, 64, 67, 0.15);\n",
              "      fill: #174EA6;\n",
              "    }\n",
              "\n",
              "    [theme=dark] .colab-df-convert {\n",
              "      background-color: #3B4455;\n",
              "      fill: #D2E3FC;\n",
              "    }\n",
              "\n",
              "    [theme=dark] .colab-df-convert:hover {\n",
              "      background-color: #434B5C;\n",
              "      box-shadow: 0px 1px 3px 1px rgba(0, 0, 0, 0.15);\n",
              "      filter: drop-shadow(0px 1px 2px rgba(0, 0, 0, 0.3));\n",
              "      fill: #FFFFFF;\n",
              "    }\n",
              "  </style>\n",
              "\n",
              "      <script>\n",
              "        const buttonEl =\n",
              "          document.querySelector('#df-9c901d4d-e423-4538-9953-ce4b53edffc7 button.colab-df-convert');\n",
              "        buttonEl.style.display =\n",
              "          google.colab.kernel.accessAllowed ? 'block' : 'none';\n",
              "\n",
              "        async function convertToInteractive(key) {\n",
              "          const element = document.querySelector('#df-9c901d4d-e423-4538-9953-ce4b53edffc7');\n",
              "          const dataTable =\n",
              "            await google.colab.kernel.invokeFunction('convertToInteractive',\n",
              "                                                     [key], {});\n",
              "          if (!dataTable) return;\n",
              "\n",
              "          const docLinkHtml = 'Like what you see? Visit the ' +\n",
              "            '<a target=\"_blank\" href=https://colab.research.google.com/notebooks/data_table.ipynb>data table notebook</a>'\n",
              "            + ' to learn more about interactive tables.';\n",
              "          element.innerHTML = '';\n",
              "          dataTable['output_type'] = 'display_data';\n",
              "          await google.colab.output.renderOutput(dataTable, element);\n",
              "          const docLink = document.createElement('div');\n",
              "          docLink.innerHTML = docLinkHtml;\n",
              "          element.appendChild(docLink);\n",
              "        }\n",
              "      </script>\n",
              "    </div>\n",
              "  </div>\n",
              "  "
            ]
          },
          "metadata": {},
          "execution_count": 2
        }
      ]
    },
    {
      "cell_type": "markdown",
      "metadata": {
        "id": "HxEa56tGSmXP"
      },
      "source": [
        "#### Step 3: Calculate total number of character counts"
      ]
    },
    {
      "cell_type": "code",
      "source": [
        "x = len(df['name'])\n",
        "print(x)"
      ],
      "metadata": {
        "colab": {
          "base_uri": "https://localhost:8080/"
        },
        "id": "Q7tXnS3EVNm8",
        "outputId": "08ce5c07-0246-4de6-8dc3-4e3f37dbec25"
      },
      "execution_count": 3,
      "outputs": [
        {
          "output_type": "stream",
          "name": "stdout",
          "text": [
            "16376\n"
          ]
        }
      ]
    },
    {
      "cell_type": "markdown",
      "metadata": {
        "id": "KgExQ2k8SmXQ"
      },
      "source": [
        "#### Step 4: Display columns SEX, EYE, HAIR"
      ]
    },
    {
      "cell_type": "code",
      "source": [
        "marvel = df[[\"SEX\",\"EYE\",\"HAIR\"]]\n",
        "print(\"New data colums:\\n\",marvel)"
      ],
      "metadata": {
        "colab": {
          "base_uri": "https://localhost:8080/"
        },
        "id": "HzYr5o0wVqdH",
        "outputId": "ca3fb28b-94a9-4af9-c446-fc793f2e0dc5"
      },
      "execution_count": 4,
      "outputs": [
        {
          "output_type": "stream",
          "name": "stdout",
          "text": [
            "New data colums:\n",
            "                    SEX         EYE        HAIR\n",
            "0      Male Characters  Hazel Eyes  Brown Hair\n",
            "1      Male Characters   Blue Eyes  White Hair\n",
            "2      Male Characters   Blue Eyes  Black Hair\n",
            "3      Male Characters   Blue Eyes  Black Hair\n",
            "4      Male Characters   Blue Eyes  Blond Hair\n",
            "...                ...         ...         ...\n",
            "16371  Male Characters  Green Eyes     No Hair\n",
            "16372  Male Characters   Blue Eyes        Bald\n",
            "16373  Male Characters  Black Eyes        Bald\n",
            "16374  Male Characters         NaN         NaN\n",
            "16375              NaN         NaN         NaN\n",
            "\n",
            "[16376 rows x 3 columns]\n"
          ]
        }
      ]
    },
    {
      "cell_type": "markdown",
      "metadata": {
        "id": "IgVP2NUiSmXR"
      },
      "source": [
        "#### Step 5: Calculate total number of characters according to gender"
      ]
    },
    {
      "cell_type": "code",
      "source": [
        "char = df.groupby([\"SEX\"]).count()[\"name\"]\n",
        "print(char)"
      ],
      "metadata": {
        "colab": {
          "base_uri": "https://localhost:8080/"
        },
        "id": "lEr7aTGhX8ye",
        "outputId": "e49bb0b4-205a-44fc-d20b-b826b6fe94e9"
      },
      "execution_count": 5,
      "outputs": [
        {
          "output_type": "stream",
          "name": "stdout",
          "text": [
            "SEX\n",
            "Agender Characters           45\n",
            "Female Characters          3837\n",
            "Genderfluid Characters        2\n",
            "Male Characters           11638\n",
            "Name: name, dtype: int64\n"
          ]
        }
      ]
    },
    {
      "cell_type": "markdown",
      "metadata": {
        "id": "Lm-1fdABSmXS"
      },
      "source": [
        "# Marginal Probability"
      ]
    },
    {
      "cell_type": "markdown",
      "metadata": {
        "id": "TN3oNirQSmXT"
      },
      "source": [
        "### Calculate the probability of character being male"
      ]
    },
    {
      "cell_type": "markdown",
      "metadata": {
        "id": "PlpgYqdISmXT"
      },
      "source": [
        "#### Step 6: Calculate the probability of character being male"
      ]
    },
    {
      "cell_type": "code",
      "source": [
        "# Probability of characters being male.\n",
        "char[\"Male Characters\"]/x"
      ],
      "metadata": {
        "colab": {
          "base_uri": "https://localhost:8080/"
        },
        "id": "LboxoQtpYkV_",
        "outputId": "4be0ece8-b832-4990-e20e-28bcceabf8f1"
      },
      "execution_count": 6,
      "outputs": [
        {
          "output_type": "execute_result",
          "data": {
            "text/plain": [
              "0.7106741573033708"
            ]
          },
          "metadata": {},
          "execution_count": 6
        }
      ]
    },
    {
      "cell_type": "markdown",
      "metadata": {
        "id": "ofDoxzGgSmXU"
      },
      "source": [
        "# Joint Probability"
      ]
    },
    {
      "cell_type": "markdown",
      "metadata": {
        "id": "3O_vDeTJSmXU"
      },
      "source": [
        "### Calculate the probability of character being female and has red hair"
      ]
    },
    {
      "cell_type": "markdown",
      "metadata": {
        "id": "xnYSc5PkSmXU"
      },
      "source": [
        "Assume that both the events are independent of each other"
      ]
    },
    {
      "cell_type": "markdown",
      "metadata": {
        "id": "3b6Wi3aYSmXV"
      },
      "source": [
        "#### Step 7: Calculate probability of character being female"
      ]
    },
    {
      "cell_type": "code",
      "source": [
        "female = char[\"Female Characters\"]/x\n",
        "print(female)"
      ],
      "metadata": {
        "colab": {
          "base_uri": "https://localhost:8080/"
        },
        "id": "wOaRvP4dZH1a",
        "outputId": "fc177c4e-868f-4145-8f31-52624d18f7d6"
      },
      "execution_count": 7,
      "outputs": [
        {
          "output_type": "stream",
          "name": "stdout",
          "text": [
            "0.23430630190522717\n"
          ]
        }
      ]
    },
    {
      "cell_type": "markdown",
      "metadata": {
        "id": "pqIOxk1jSmXW"
      },
      "source": [
        "#### Step 8: Calculate count of different hair color"
      ]
    },
    {
      "cell_type": "code",
      "source": [
        "hair =df.groupby([\"HAIR\"]).count()[\"name\"]\n",
        "print(hair)"
      ],
      "metadata": {
        "colab": {
          "base_uri": "https://localhost:8080/"
        },
        "id": "_CSF2jcOZI27",
        "outputId": "5ee86c30-2fe8-45b0-837b-6af53e41ceaa"
      },
      "execution_count": 8,
      "outputs": [
        {
          "output_type": "stream",
          "name": "stdout",
          "text": [
            "HAIR\n",
            "Auburn Hair                78\n",
            "Bald                      838\n",
            "Black Hair               3755\n",
            "Blond Hair               1582\n",
            "Blue Hair                  56\n",
            "Bronze Hair                 1\n",
            "Brown Hair               2339\n",
            "Dyed Hair                   1\n",
            "Gold Hair                   8\n",
            "Green Hair                117\n",
            "Grey Hair                 531\n",
            "Light Brown Hair            6\n",
            "Magenta Hair                5\n",
            "No Hair                  1176\n",
            "Orange Hair                43\n",
            "Orange-brown Hair           3\n",
            "Pink Hair                  31\n",
            "Purple Hair                47\n",
            "Red Hair                  620\n",
            "Reddish Blond Hair          6\n",
            "Silver Hair                16\n",
            "Strawberry Blond Hair      47\n",
            "Variable Hair              32\n",
            "White Hair                754\n",
            "Yellow Hair                20\n",
            "Name: name, dtype: int64\n"
          ]
        }
      ]
    },
    {
      "cell_type": "markdown",
      "metadata": {
        "id": "El4Si-rVSmXX"
      },
      "source": [
        "#### Step 9: Calculate probability of character having a red hair"
      ]
    },
    {
      "cell_type": "code",
      "source": [
        "red_hair=hair[\"Red Hair\"]/x\n",
        "print(red_hair)"
      ],
      "metadata": {
        "colab": {
          "base_uri": "https://localhost:8080/"
        },
        "id": "R0uEEFRBZK0m",
        "outputId": "3fe5a4f7-aa5e-46fb-dd8d-fb531697e7ea"
      },
      "execution_count": 9,
      "outputs": [
        {
          "output_type": "stream",
          "name": "stdout",
          "text": [
            "0.03786028334147533\n"
          ]
        }
      ]
    },
    {
      "cell_type": "markdown",
      "metadata": {
        "id": "_1nlRgxvSmXX"
      },
      "source": [
        "#### Step 10: Calculate probability of character being female and has red hair i.e.joint probability"
      ]
    },
    {
      "cell_type": "code",
      "source": [
        "#Probability of character being female and has red hairs\n",
        "print(female*red_hair)"
      ],
      "metadata": {
        "colab": {
          "base_uri": "https://localhost:8080/"
        },
        "id": "qqbVJsSwZLc0",
        "outputId": "0c69c5e4-c293-44c6-ff9d-8dabb4f8bc09"
      },
      "execution_count": 10,
      "outputs": [
        {
          "output_type": "stream",
          "name": "stdout",
          "text": [
            "0.008870902978825162\n"
          ]
        }
      ]
    },
    {
      "cell_type": "markdown",
      "metadata": {
        "id": "89p8zwQVSmXZ"
      },
      "source": [
        "#### Step 11: Calculate joint probability in terms of percentage"
      ]
    },
    {
      "cell_type": "code",
      "source": [
        "print(female*red_hair*100)"
      ],
      "metadata": {
        "colab": {
          "base_uri": "https://localhost:8080/"
        },
        "id": "rWiYAxW6ZMDO",
        "outputId": "f67f825c-56de-4bf8-c7cd-4af38ca247ce"
      },
      "execution_count": 11,
      "outputs": [
        {
          "output_type": "stream",
          "name": "stdout",
          "text": [
            "0.8870902978825161\n"
          ]
        }
      ]
    },
    {
      "cell_type": "markdown",
      "metadata": {
        "id": "tb1C8FFDSmXZ"
      },
      "source": [
        "# Conditional Probability"
      ]
    },
    {
      "cell_type": "markdown",
      "metadata": {
        "id": "T5bTca5qSmXa"
      },
      "source": [
        "### Given that character is female, calculate the probability of having green eyes"
      ]
    },
    {
      "cell_type": "markdown",
      "metadata": {
        "id": "0Y-OaOBPSmXa"
      },
      "source": [
        "#### Step 12: Calculate count of green eyes"
      ]
    },
    {
      "cell_type": "code",
      "source": [
        "#Count of green eyes\n",
        "green_eyes = df[df==\"Green Eyes\"].EYE.count()\n",
        "green_eyes"
      ],
      "metadata": {
        "colab": {
          "base_uri": "https://localhost:8080/"
        },
        "id": "D7hmaLHIdEZa",
        "outputId": "e79f4e90-8ff2-410f-ad30-82b2c439da05"
      },
      "execution_count": 12,
      "outputs": [
        {
          "output_type": "execute_result",
          "data": {
            "text/plain": [
              "613"
            ]
          },
          "metadata": {},
          "execution_count": 12
        }
      ]
    },
    {
      "cell_type": "markdown",
      "metadata": {
        "id": "B_D-fkwrSmXb"
      },
      "source": [
        "#### Step 13: Calculate count of female characters"
      ]
    },
    {
      "cell_type": "code",
      "source": [
        "female_char = df[df==\"Female Characters\"].SEX.count()\n",
        "female_char"
      ],
      "metadata": {
        "colab": {
          "base_uri": "https://localhost:8080/"
        },
        "id": "BXI2t7L_dHYs",
        "outputId": "db6b071f-3488-4d5f-939d-a4d4ede26451"
      },
      "execution_count": 13,
      "outputs": [
        {
          "output_type": "execute_result",
          "data": {
            "text/plain": [
              "3837"
            ]
          },
          "metadata": {},
          "execution_count": 13
        }
      ]
    },
    {
      "cell_type": "markdown",
      "metadata": {
        "id": "HmvBqOb3SmXc"
      },
      "source": [
        "#### Step 14: Calculate count of female characters with green eyes"
      ]
    },
    {
      "cell_type": "code",
      "source": [
        "female_green_count = df[(df.SEX==\"Female Characters\") & (df.EYE==\"Green Eyes\")].SEX.count()\n",
        "female_green_count"
      ],
      "metadata": {
        "colab": {
          "base_uri": "https://localhost:8080/"
        },
        "id": "iCEO4d3ldIJm",
        "outputId": "878e9b65-e4e2-4c24-92c3-d413ce3fa91b"
      },
      "execution_count": 14,
      "outputs": [
        {
          "output_type": "execute_result",
          "data": {
            "text/plain": [
              "268"
            ]
          },
          "metadata": {},
          "execution_count": 14
        }
      ]
    },
    {
      "cell_type": "markdown",
      "metadata": {
        "id": "UdYuuDhfSmXd"
      },
      "source": [
        "#### Step 15: Calculate probability of female with green eyes"
      ]
    },
    {
      "cell_type": "code",
      "source": [
        "prob_female_green = female_green_count/x\n",
        "prob_female_green"
      ],
      "metadata": {
        "colab": {
          "base_uri": "https://localhost:8080/"
        },
        "id": "Zea7LTe75lgX",
        "outputId": "cb46428c-092e-404b-fd22-9aef33f47ef3"
      },
      "execution_count": 17,
      "outputs": [
        {
          "output_type": "execute_result",
          "data": {
            "text/plain": [
              "0.016365412799218368"
            ]
          },
          "metadata": {},
          "execution_count": 17
        }
      ]
    },
    {
      "cell_type": "markdown",
      "metadata": {
        "id": "QqmvvFClSmXe"
      },
      "source": [
        "#### Step 16: Probability of character being female"
      ]
    },
    {
      "cell_type": "code",
      "source": [
        "prob_female = female_char/x\n",
        "prob_female "
      ],
      "metadata": {
        "colab": {
          "base_uri": "https://localhost:8080/"
        },
        "id": "KrKUoWsl6ren",
        "outputId": "5eeb42a9-dfac-4485-dbaf-967aefe8063d"
      },
      "execution_count": 18,
      "outputs": [
        {
          "output_type": "execute_result",
          "data": {
            "text/plain": [
              "0.23430630190522717"
            ]
          },
          "metadata": {},
          "execution_count": 18
        }
      ]
    },
    {
      "cell_type": "markdown",
      "metadata": {
        "id": "L_pJDjNNSmXf"
      },
      "source": [
        "#### Step 17: Calculate conditional probability of female with green eyes"
      ]
    },
    {
      "cell_type": "code",
      "source": [
        "prob_female_green/prob_female"
      ],
      "metadata": {
        "colab": {
          "base_uri": "https://localhost:8080/"
        },
        "id": "tkQ9hUFN6sg6",
        "outputId": "7063837d-73a8-448a-9e94-717ce17af2dd"
      },
      "execution_count": 21,
      "outputs": [
        {
          "output_type": "execute_result",
          "data": {
            "text/plain": [
              "0.06984623403700807"
            ]
          },
          "metadata": {},
          "execution_count": 21
        }
      ]
    },
    {
      "cell_type": "markdown",
      "metadata": {
        "id": "6vpI1Df3SmXg"
      },
      "source": [
        "#### Conclusion: This code demonstrate how to implement types of probability"
      ]
    },
    {
      "cell_type": "markdown",
      "metadata": {
        "id": "wGFIiNOOSmXg"
      },
      "source": [
        "# Odds"
      ]
    },
    {
      "cell_type": "markdown",
      "metadata": {
        "id": "6weKP9uOSmXg"
      },
      "source": [
        "### Calculate the odds in favour of living characters"
      ]
    },
    {
      "cell_type": "markdown",
      "metadata": {
        "id": "0u1nD3ymSmXh"
      },
      "source": [
        "#### Step 1: Calculate the count of living character"
      ]
    },
    {
      "cell_type": "code",
      "source": [
        "# This statement returns a dataframe consisting of deceased and living characters\n",
        "living_characters=df.groupby([\"ALIVE\"]).count()[\"ID\"] \n",
        "\n",
        "#Getting count of living characters\n",
        "l=living_characters[1]\n",
        "print(l)"
      ],
      "metadata": {
        "colab": {
          "base_uri": "https://localhost:8080/"
        },
        "id": "ea-iitMx7PtV",
        "outputId": "ac246e0f-d752-4311-cee7-6d95b612fce2"
      },
      "execution_count": 22,
      "outputs": [
        {
          "output_type": "stream",
          "name": "stdout",
          "text": [
            "9490\n"
          ]
        }
      ]
    },
    {
      "cell_type": "markdown",
      "metadata": {
        "id": "F3G6cMjWSmXi"
      },
      "source": [
        "#### Step 2: Calculate the probability of living characters"
      ]
    },
    {
      "cell_type": "code",
      "source": [
        "prob_liv = 1/x\n",
        "prob_liv"
      ],
      "metadata": {
        "colab": {
          "base_uri": "https://localhost:8080/"
        },
        "id": "fE6z4QbN7QI8",
        "outputId": "bf30205d-d016-4b56-9d60-28b11d377a05"
      },
      "execution_count": 23,
      "outputs": [
        {
          "output_type": "execute_result",
          "data": {
            "text/plain": [
              "6.106497313141182e-05"
            ]
          },
          "metadata": {},
          "execution_count": 23
        }
      ]
    },
    {
      "cell_type": "markdown",
      "metadata": {
        "id": "bW4JqL9LSmXj"
      },
      "source": [
        "#### Step 3: Calculate number of alive characters except living characters"
      ]
    },
    {
      "cell_type": "code",
      "source": [
        "y = 1-prob_liv"
      ],
      "metadata": {
        "id": "dYZPoJlP7QmV"
      },
      "execution_count": 24,
      "outputs": []
    },
    {
      "cell_type": "markdown",
      "metadata": {
        "id": "wYEXhPcySmXk"
      },
      "source": [
        "#### Step 4: Calculate odds in favour of living characters"
      ]
    },
    {
      "cell_type": "code",
      "source": [
        "odds= prob_liv/y\n",
        "odds"
      ],
      "metadata": {
        "colab": {
          "base_uri": "https://localhost:8080/"
        },
        "id": "GnIfG5k97Rpw",
        "outputId": "b21a347d-ee2d-4384-fa71-871f52d2341c"
      },
      "execution_count": 25,
      "outputs": [
        {
          "output_type": "execute_result",
          "data": {
            "text/plain": [
              "6.106870229007633e-05"
            ]
          },
          "metadata": {},
          "execution_count": 25
        }
      ]
    }
  ]
}