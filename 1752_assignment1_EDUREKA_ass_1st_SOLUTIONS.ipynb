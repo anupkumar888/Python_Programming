{
  "nbformat": 4,
  "nbformat_minor": 0,
  "metadata": {
    "colab": {
      "provenance": [],
      "collapsed_sections": [],
      "authorship_tag": "ABX9TyOv8wx9fSQrT9TSfRFPhdb+",
      "include_colab_link": true
    },
    "kernelspec": {
      "name": "python3",
      "display_name": "Python 3"
    },
    "language_info": {
      "name": "python"
    }
  },
  "cells": [
    {
      "cell_type": "markdown",
      "metadata": {
        "id": "view-in-github",
        "colab_type": "text"
      },
      "source": [
        "<a href=\"https://colab.research.google.com/github/anupkumar888/Python_Programming/blob/main/1752_assignment1_EDUREKA_ass_1st_SOLUTIONS.ipynb\" target=\"_parent\"><img src=\"https://colab.research.google.com/assets/colab-badge.svg\" alt=\"Open In Colab\"/></a>"
      ]
    },
    {
      "cell_type": "markdown",
      "source": [
        "Problem Statement 1: Write a Python program to multiply a 𝑀 × 𝑁 matrix by 𝑁 × 𝐴 matrix and create a real matrix product."
      ],
      "metadata": {
        "id": "T2TiWDu_Rk96"
      }
    },
    {
      "cell_type": "code",
      "source": [
        "#Import the numpy library.\n",
        "\n",
        "import numpy as np\n",
        "\n",
        "#Create first array A with random ((mxn),m=5,n=3)\n",
        "A = np.random.random((5,3))\n",
        "print(\"First array:\")\n",
        "print(A)\n",
        "\n",
        "#Create second array B with random((mxn),m=3,a=2).\n",
        "B = np.random.random((3,2))\n",
        "print(\"Second array:\")\n",
        "print(B)\n",
        "\n",
        "# Find the dot product of arrays A AND B.\n",
        "C = np.dot(A, B)\n",
        "print(\"Dot product of two arrays:\")\n",
        "print(C)"
      ],
      "metadata": {
        "colab": {
          "base_uri": "https://localhost:8080/"
        },
        "id": "N5xzsYDPRmV7",
        "outputId": "60d7d721-342d-4a59-9303-355e259211ef"
      },
      "execution_count": null,
      "outputs": [
        {
          "output_type": "stream",
          "name": "stdout",
          "text": [
            "First array:\n",
            "[[0.14412489 0.79430658 0.3286352 ]\n",
            " [0.54541503 0.51740492 0.74682442]\n",
            " [0.67822086 0.31423467 0.92842756]\n",
            " [0.69707802 0.14453813 0.85441936]\n",
            " [0.51074758 0.15624757 0.67570572]]\n",
            "Second array:\n",
            "[[0.1010182  0.53470136]\n",
            " [0.1845478  0.52080395]\n",
            " [0.01564622 0.66432523]]\n",
            "Dot product of two arrays:\n",
            "[[0.16628867 0.70906243]\n",
            " [0.16226776 1.05723498]\n",
            " [0.14103035 1.14307812]\n",
            " [0.11046019 1.01561692]\n",
            " [0.09100219 0.80336013]]\n"
          ]
        }
      ]
    },
    {
      "cell_type": "markdown",
      "source": [
        "Problem Statement 2: Write a NumPy program to check if each element of an array of your choice is composed of digits, lower case letters, and upper case letters only. \n",
        "Hint: You can use isdigit(),islower(), and isupper() function. \n",
        "Example:  "
      ],
      "metadata": {
        "id": "R_sxSiWRmpRZ"
      }
    },
    {
      "cell_type": "code",
      "source": [
        "#Import the numpy library.\n",
        "\n",
        "import numpy as np\n",
        "\n",
        "#Create first array A with random strings\n",
        "\n",
        "Q = np.array(['Python','C++','00', 'PHP', 'JAVASCRIPT', 'STARWAR','99','html5', '5'], dtype=np.str)\n",
        "print(\"\\nOriginal Array:\",\"\\n\")\n",
        "print(Q)\n",
        "\n",
        "#Check the array A, that there is any numbers/digits. \n",
        "A = np.char.isdigit(Q)\n",
        "\n",
        "#Check the array B, that there is any lower case strings.\n",
        "B = np.char.islower(Q)\n",
        "\n",
        "#Check the array C, that there is any upper case strings.\n",
        "C = np.char.isupper(Q)\n",
        "\n",
        "# Print the array A,B,C\n",
        "print(\"Digits only =\", A,\"\\n\")\n",
        "print(\"Lower cases only =\", B,\"\\n\")\n",
        "print(\"Upper cases only =\", C,\"\\n\")"
      ],
      "metadata": {
        "colab": {
          "base_uri": "https://localhost:8080/"
        },
        "id": "LwuDXgUfqT-F",
        "outputId": "a7268ae6-3668-4057-a44d-ea065904e7e0"
      },
      "execution_count": null,
      "outputs": [
        {
          "output_type": "stream",
          "name": "stdout",
          "text": [
            "\n",
            "Original Array: \n",
            "\n",
            "['Python' 'C++' '00' 'PHP' 'JAVASCRIPT' 'STARWAR' '99' 'html5' '5']\n",
            "Digits only = [False False  True False False False  True False  True] \n",
            "\n",
            "Lower cases only = [False False False False False False False  True False] \n",
            "\n",
            "Upper cases only = [False  True False  True  True  True False False False] \n",
            "\n"
          ]
        },
        {
          "output_type": "stream",
          "name": "stderr",
          "text": [
            "/usr/local/lib/python3.7/dist-packages/ipykernel_launcher.py:7: DeprecationWarning: `np.str` is a deprecated alias for the builtin `str`. To silence this warning, use `str` by itself. Doing this will not modify any behavior and is safe. If you specifically wanted the numpy scalar type, use `np.str_` here.\n",
            "Deprecated in NumPy 1.20; for more details and guidance: https://numpy.org/devdocs/release/1.20.0-notes.html#deprecations\n",
            "  import sys\n"
          ]
        }
      ]
    },
    {
      "cell_type": "code",
      "source": [],
      "metadata": {
        "id": "bFrQj7PJFogD"
      },
      "execution_count": null,
      "outputs": []
    },
    {
      "cell_type": "code",
      "source": [
        "#Import the numpy library.\n",
        "\n",
        "import numpy as np\n",
        "\n",
        "#Create first array A with random strings\n",
        "\n",
        "Q = np.array(['Python','C++','00', 'PHP', 'JAVASCRIPT', 'STARWAR','99','html5', '5'], dtype=np.str)\n",
        "print(\"\\nOriginal Array:\")\n",
        "print(Q,\"\\n\")\n",
        "#Check the array Q, that there is any numbers/digits using \"for\" loop. \n",
        "for i in Q:\n",
        "  print(\" Is Digit:\",i.isdigit())\n",
        "print(\"\\n\")\n",
        "\n",
        "#Check the array Q, that there is lower case using \"for\" loop. \n",
        "for i in Q:\n",
        "  print(\" Is Lower Case:\",i.islower())\n",
        "print(\"\\n\")\n",
        "\n",
        "#Check the array Q, that there is upper case using \"for\" loop. \n",
        "for i in Q:\n",
        "  print(\" Is Upper Case:\",i.isupper())\n",
        "print(\"\\n\",\"END\")"
      ],
      "metadata": {
        "colab": {
          "base_uri": "https://localhost:8080/"
        },
        "id": "X57258yKukVl",
        "outputId": "2451d041-fd70-4114-c6f2-731a0c666848"
      },
      "execution_count": null,
      "outputs": [
        {
          "output_type": "stream",
          "name": "stdout",
          "text": [
            "\n",
            "Original Array:\n",
            "['Python' 'C++' '00' 'PHP' 'JAVASCRIPT' 'STARWAR' '99' 'html5' '5'] \n",
            "\n",
            " Is Digit: False\n",
            " Is Digit: False\n",
            " Is Digit: True\n",
            " Is Digit: False\n",
            " Is Digit: False\n",
            " Is Digit: False\n",
            " Is Digit: True\n",
            " Is Digit: False\n",
            " Is Digit: True\n",
            "\n",
            "\n",
            " Is Lower Case: False\n",
            " Is Lower Case: False\n",
            " Is Lower Case: False\n",
            " Is Lower Case: False\n",
            " Is Lower Case: False\n",
            " Is Lower Case: False\n",
            " Is Lower Case: False\n",
            " Is Lower Case: True\n",
            " Is Lower Case: False\n",
            "\n",
            "\n",
            " Is Upper Case: False\n",
            " Is Upper Case: True\n",
            " Is Upper Case: False\n",
            " Is Upper Case: True\n",
            " Is Upper Case: True\n",
            " Is Upper Case: True\n",
            " Is Upper Case: False\n",
            " Is Upper Case: False\n",
            " Is Upper Case: False\n",
            "\n",
            " END\n"
          ]
        },
        {
          "output_type": "stream",
          "name": "stderr",
          "text": [
            "/usr/local/lib/python3.7/dist-packages/ipykernel_launcher.py:7: DeprecationWarning: `np.str` is a deprecated alias for the builtin `str`. To silence this warning, use `str` by itself. Doing this will not modify any behavior and is safe. If you specifically wanted the numpy scalar type, use `np.str_` here.\n",
            "Deprecated in NumPy 1.20; for more details and guidance: https://numpy.org/devdocs/release/1.20.0-notes.html#deprecations\n",
            "  import sys\n"
          ]
        }
      ]
    },
    {
      "cell_type": "markdown",
      "source": [
        "Problem Statement 3: Write a program that reads two space-separated positive integers 𝑋 and 𝑌 as input and perform the following tasks: \n",
        "\n",
        "Tasks to be performed: \n",
        "\n",
        "1.Create a list (lst1) starting at one (1) with 16 elements at a step of 𝑋 \n",
        "\n",
        "2.Create a list (lst2) starting at one (1) with 16 elements at a step of 𝑌 \n",
        "\n",
        "3.Create two NumPy arrays np1 and np2 using lst1 and lst2 respectively \n",
        "\n",
        "4.Reshape both the NumPy arrays to (4,4)\n",
        "\n",
        "5.Create a new np array (np3) with values obtained by subtracting both the arrays (np1 - np2) \n",
        "\n",
        "6.Print all the elements of np3 in a single dimension list like the format as shown below: \n",
        "a. [n0 n1 n2 n3 n4 n5 n6 n7 n8]"
      ],
      "metadata": {
        "id": "ds2mX4ELsip4"
      }
    },
    {
      "cell_type": "code",
      "source": [
        "num =[1,1]\n",
        "print(*num)"
      ],
      "metadata": {
        "colab": {
          "base_uri": "https://localhost:8080/"
        },
        "id": "oUDVHEYerUAy",
        "outputId": "ef6fbdd2-ad5f-438e-e5b5-8b043e046cec"
      },
      "execution_count": 61,
      "outputs": [
        {
          "output_type": "stream",
          "name": "stdout",
          "text": [
            "1 1\n"
          ]
        }
      ]
    },
    {
      "cell_type": "code",
      "source": [
        "listQ = [1, 2, 3, 4, 5, 16, 7, 8, 9,10,11,22,13,14,5,16]\n",
        "\n",
        "# Create a list (lst2) starting at one (1) with 16 elements at a step of  1\n",
        "\n",
        "lst1= listQ[0:16:1]\n",
        "print(\"Lst1=\",lst1)\n",
        "\n"
      ],
      "metadata": {
        "id": "tpMjQLSGI5oN",
        "colab": {
          "base_uri": "https://localhost:8080/"
        },
        "outputId": "d6d7fe9c-216f-4b85-cdfd-a7e549c2adaa"
      },
      "execution_count": 73,
      "outputs": [
        {
          "output_type": "stream",
          "name": "stdout",
          "text": [
            "Lst1= [1, 2, 3, 4, 5, 16, 7, 8, 9, 10, 11, 22, 13, 14, 5, 16]\n"
          ]
        }
      ]
    },
    {
      "cell_type": "code",
      "source": [
        "listP = [1, 2, 3, 9, 5, 0, 7, 8, 9,10,11,12,13,8,15,16]\n",
        "\n",
        "# Create a list (lst2) starting at one (1) with 16 elements at a step of 1\n",
        "\n",
        "lst2=listP[0:16:1]\n",
        "print(\"Lst2=\",lst2)\n"
      ],
      "metadata": {
        "colab": {
          "base_uri": "https://localhost:8080/"
        },
        "id": "6NjKA2hiWRQy",
        "outputId": "e33569e6-0ef1-434a-c9a9-0ee55b11f5e8"
      },
      "execution_count": 78,
      "outputs": [
        {
          "output_type": "stream",
          "name": "stdout",
          "text": [
            "Lst2= [1, 2, 3, 9, 5, 0, 7, 8, 9, 10, 11, 12, 13, 8, 15, 16]\n"
          ]
        }
      ]
    },
    {
      "cell_type": "code",
      "source": [
        "#Create two NumPy arrays np1 and np2 using lst1 and lst2 respectively\n",
        "\n",
        "import numpy as np\n",
        "np1=np.array(lst1)\n",
        "print(\"np1=\",np1)"
      ],
      "metadata": {
        "colab": {
          "base_uri": "https://localhost:8080/"
        },
        "id": "0_vb5arogpLS",
        "outputId": "0566e45b-ec26-4784-c102-08ef240c4fa6"
      },
      "execution_count": 79,
      "outputs": [
        {
          "output_type": "stream",
          "name": "stdout",
          "text": [
            "np1= [ 1  2  3  4  5 16  7  8  9 10 11 22 13 14  5 16]\n"
          ]
        }
      ]
    },
    {
      "cell_type": "code",
      "source": [
        "np2=np.array(lst2)\n",
        "print(\"np2 =\",np2)"
      ],
      "metadata": {
        "colab": {
          "base_uri": "https://localhost:8080/"
        },
        "id": "EMj2nzeZhYPV",
        "outputId": "49e69fb1-c5cc-4417-daf3-51c4291b0ac5"
      },
      "execution_count": 125,
      "outputs": [
        {
          "output_type": "stream",
          "name": "stdout",
          "text": [
            "np2 = [ 1  2  3  9  5  0  7  8  9 10 11 12 13  8 15 16]\n"
          ]
        }
      ]
    },
    {
      "cell_type": "code",
      "source": [
        "# Reshape both the NumPy arrays to (4,4)\n",
        "import numpy as np\n",
        "\n",
        "newarr1 = np1.reshape(4, 4)\n",
        "\n",
        "print(\"newarr1=\",newarr1)"
      ],
      "metadata": {
        "colab": {
          "base_uri": "https://localhost:8080/"
        },
        "id": "k_TXmYca-0Qm",
        "outputId": "2ff8c041-44af-4f09-a920-894b24a2ff70"
      },
      "execution_count": 126,
      "outputs": [
        {
          "output_type": "stream",
          "name": "stdout",
          "text": [
            "newarr1= [[ 1  2  3  4]\n",
            " [ 5 16  7  8]\n",
            " [ 9 10 11 22]\n",
            " [13 14  5 16]]\n"
          ]
        }
      ]
    },
    {
      "cell_type": "code",
      "source": [
        "import numpy as np\n",
        "\n",
        "newarr2 = np2.reshape(4, 4)\n",
        "\n",
        "print(\"newarr2=\",newarr2)"
      ],
      "metadata": {
        "colab": {
          "base_uri": "https://localhost:8080/"
        },
        "id": "3GDD7haxEt3B",
        "outputId": "a8204f71-c490-483f-e468-36803ffc6910"
      },
      "execution_count": 127,
      "outputs": [
        {
          "output_type": "stream",
          "name": "stdout",
          "text": [
            "newarr2= [[ 1  2  3  9]\n",
            " [ 5  0  7  8]\n",
            " [ 9 10 11 12]\n",
            " [13  8 15 16]]\n"
          ]
        }
      ]
    },
    {
      "cell_type": "code",
      "source": [
        "#Create a new np array (np3) with values obtained by subtracting both the arrays (np1 - np2)\n",
        "\n",
        "np3 =(newarr1-newarr2)            # Since nearr1=np1 and newarr2=np2.\n",
        "print(\"np3=\",np3)"
      ],
      "metadata": {
        "colab": {
          "base_uri": "https://localhost:8080/"
        },
        "id": "PqxKiHC-H6Id",
        "outputId": "d606646a-044f-490e-d61e-a79222e86f80"
      },
      "execution_count": 129,
      "outputs": [
        {
          "output_type": "stream",
          "name": "stdout",
          "text": [
            "np3= [[  0   0   0  -5]\n",
            " [  0  16   0   0]\n",
            " [  0   0   0  10]\n",
            " [  0   6 -10   0]]\n"
          ]
        }
      ]
    },
    {
      "cell_type": "code",
      "source": [
        "# Print all the elements of np3 in a single dimension list like the format as shown below: a. [n0 n1 n2 n3 n4 n5 n6 n7 n8]\n",
        "\n",
        "a = np1.reshape(1,16)\n",
        "\n",
        "print(\"a=\",a)"
      ],
      "metadata": {
        "colab": {
          "base_uri": "https://localhost:8080/"
        },
        "id": "OfdM_nQiJ5ee",
        "outputId": "6f61a165-c9c7-4157-843c-bd701a65fb05"
      },
      "execution_count": 130,
      "outputs": [
        {
          "output_type": "stream",
          "name": "stdout",
          "text": [
            "a= [[ 1  2  3  4  5 16  7  8  9 10 11 22 13 14  5 16]]\n"
          ]
        }
      ]
    },
    {
      "cell_type": "markdown",
      "source": [
        "Problem Statement 4: Write a Python program that takes two integer-NumPy arrays,\n",
        "𝑃 and 𝑄 of shape [3 ∗ 3] and perform the following task: \n",
        "\n",
        "Task to be performed:\n",
        " \n",
        "Print the element-wise difference of the matrix 𝑃 and 𝑄 (𝑃 − 𝑄)"
      ],
      "metadata": {
        "id": "tbQBOwB3CF0p"
      }
    },
    {
      "cell_type": "code",
      "source": [
        "import numpy as np\n",
        "\n",
        "P1 = np.arange(1,10)\n",
        "\n",
        "P = P1.reshape(3,3)\n",
        "print(\"P=\",P)\n",
        "\n"
      ],
      "metadata": {
        "colab": {
          "base_uri": "https://localhost:8080/"
        },
        "id": "XeoEc0p5APUU",
        "outputId": "f667f300-fb30-4fa7-e0ef-5e4f51ba71ff"
      },
      "execution_count": 110,
      "outputs": [
        {
          "output_type": "stream",
          "name": "stdout",
          "text": [
            "P= [[1 2 3]\n",
            " [4 5 6]\n",
            " [7 8 9]]\n"
          ]
        }
      ]
    },
    {
      "cell_type": "code",
      "source": [
        "import numpy as np\n",
        "\n",
        "Q1 = np.arange(0,9)\n",
        "\n",
        "Q = Q1.reshape(3,3)\n",
        "print(\"Q=\",Q)\n"
      ],
      "metadata": {
        "colab": {
          "base_uri": "https://localhost:8080/"
        },
        "id": "24U2h87LMDly",
        "outputId": "775dd73e-63a5-4925-9dce-7879058780c5"
      },
      "execution_count": 112,
      "outputs": [
        {
          "output_type": "stream",
          "name": "stdout",
          "text": [
            "Q= [[0 1 2]\n",
            " [3 4 5]\n",
            " [6 7 8]]\n"
          ]
        }
      ]
    },
    {
      "cell_type": "code",
      "source": [
        "import numpy as np\n",
        "\n",
        "#Print difference of (P-Q) in X\n",
        "X=(P-Q)\n",
        "print(\"X=\",P-Q)"
      ],
      "metadata": {
        "colab": {
          "base_uri": "https://localhost:8080/"
        },
        "id": "4XkxtRf1MhAR",
        "outputId": "0c74817e-4516-4f3b-a38f-2868e3c1c15c"
      },
      "execution_count": 115,
      "outputs": [
        {
          "output_type": "stream",
          "name": "stdout",
          "text": [
            "X= [[1 1 1]\n",
            " [1 1 1]\n",
            " [1 1 1]]\n"
          ]
        }
      ]
    },
    {
      "cell_type": "code",
      "source": [
        "#Print Q(P-Q) INTO Y\n",
        "Y=Q*X                       #(SINCE X=(P-Q))\n",
        "print(\"Y=\",Y)"
      ],
      "metadata": {
        "colab": {
          "base_uri": "https://localhost:8080/"
        },
        "id": "oBBg0xIqPt28",
        "outputId": "beca6d60-64a6-412d-d455-ff2948baae84"
      },
      "execution_count": 120,
      "outputs": [
        {
          "output_type": "stream",
          "name": "stdout",
          "text": [
            "Y= [[0 1 2]\n",
            " [3 4 5]\n",
            " [6 7 8]]\n"
          ]
        }
      ]
    },
    {
      "cell_type": "code",
      "source": [
        "# Print the value of P-(Q(P-Q)) INTO Z\n",
        "Z=P-Y                       #(SINCE Y=Q*X)\n",
        "print(\"Z=\",Z)"
      ],
      "metadata": {
        "colab": {
          "base_uri": "https://localhost:8080/"
        },
        "id": "Znk-TgTxROBq",
        "outputId": "d571b0d0-e7ac-4246-ff8d-3ca6470af772"
      },
      "execution_count": 121,
      "outputs": [
        {
          "output_type": "stream",
          "name": "stdout",
          "text": [
            "Z= [[1 1 1]\n",
            " [1 1 1]\n",
            " [1 1 1]]\n"
          ]
        }
      ]
    }
  ]
}